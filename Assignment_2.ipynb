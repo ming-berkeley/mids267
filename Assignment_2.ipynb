{
  "cells": [
    {
      "cell_type": "markdown",
      "metadata": {
        "id": "9hZNSDOBJcBm"
      },
      "source": [
        "# Assignment II: Pretraining & Fine-Tuning of Language Models\n",
        "\n",
        "In this second assignment we will continue to work with PyTorch and Open AI's early Open Source Model GPT2 to develop a deeper understanding and intuition of how language models are trained. We will look at a specific simple task, Sentiment Classification, and see in two ways how we can use language models for this problem.\n",
        "\n",
        "The structure of the Assignment is as follows:\n",
        "\n",
        "1. **Continued GPT-2 Pretraining of GPT with a Movie Plots dataset**  \n",
        "\n",
        "   Here we will explore how continued pretraining affects a Language Model. This gives us a good idea how pretraining morks, and more specifically, we will look how additional domain-specific pretraining affects the perplexity for text within this domain vs outside of the domain. We will use the *CMU Movie Summary Corpus* (https://www.cs.cmu.edu/~ark/personas/), released under the Creative Commons Attribution-ShareAlike License (http://creativecommons.org/licenses/by-sa/3.0/us/legalcode).\n",
        "   We will learn that additional pretraining generally helps language models for in-domain tasks.\n",
        "\n",
        "3. **Fine-tuning of GPT-2 for Sentiment Analysis of the IMDB dataset (using Pre/Post-Modifiers)**  \n",
        "   We will then use both the original GPT-2 model and the model that was further pretrained on the CMU Movie Summary dataset for a Sentiment Analysis of the IMDB movie review dataset, which is part of Hugging Face datasets. We will (hopefully(!)... there are statistical fluctuations) see that fine-tuning the model that was further pre-trained on the movie plot dataset behaves somewhat better than the original gpt-2 model fine-tuned.\n",
        "\n",
        "4. **IMDB Sentiment Classification with a Masked Language Model (BERT)**\n",
        "   Finally, we will also look at a Masked Language Model, specifically BERT, as a tool for Sentiment Classification of the same dataset.\n",
        "\n"
      ]
    },
    {
      "cell_type": "markdown",
      "metadata": {
        "id": "L0IwczMZFtrF"
      },
      "source": [
        "For reference, please consider the Lecture material for weeks 2 & 3 as well as the two Special Session notebooks:\n",
        "\n",
        "* Intro to PyTorch I (Basics)\n",
        "* Intro to PyTorch II (Huggingface & Language Models)\n",
        "* All lesson material and notebooks to date\n",
        "\n",
        "\n",
        "\n",
        "**INSTRUCTIONS:**\n",
        "\n",
        "* This notebook needs to be run using a GPU. If you use Google Colab, a T4 chip is the recommendation.\n",
        "  \n",
        "* Questions are always indicated as **QUESTION:**, so you can search for this string to make sure you answered all of the questions. You are expected to fill out, run, and submit this notebook, as well as to answer the questions in the answers file as you did in a1. Please do not remove the output from your notebooks when you submit them as we'll look at the output as well as your code for grading purposes.\n",
        "\n",
        "* \\### YOUR CODE HERE indicates that you are supposed to write code. All the way up to \\### END YOUR CODE     \n",
        "\n",
        "* **Important!!:** When you are done please re-run your notebook from beginning to end to that all of the seeds apply! This is very important!\n",
        "\n",
        "**AUTOGRADER:**\n",
        "\n",
        "- In each code block, do NOT delete the ### comment at the top of a cell (it's needed for the auto-grading!)\n",
        "  - Full autograder tests and results are on gradescope.\n",
        "  - You will get the first 3 points from the autograder for this assignment.\n",
        "  - You may upload and run the autograder as many times as needed in your time window to get full points\n",
        "  - The assignment needs to be named Assignment_2.ipynb to be graded from the autograder!\n",
        "  - The examples given are samples of how we will test/grade your code.\n",
        "    - Please ensure your code outputs the exact same information / format!\n",
        "    - In addition to the given example, the autograder will test other examples\n",
        "    - Each autograder test tells you what input it is using\n",
        "  - Once complete, the autograder will show each tests, if that test is passed or failed, and your total score\n",
        "  - The autograder fails for a couple of reasons:\n",
        "    - Your code crashes with that input (for example: `Test Failed: string index out of range`)\n",
        "    - Your code output does not match the 'correct' output (for example: `Test Failed: '1 2 3 2 1' != '1 4 6 4 1'`)\n",
        "- Please format your input and output strings to be user friendly\n",
        "- Adding comments in your code is strongly suggested but won't be graded.\n",
        "- Do not delete the output cells.  We want to see your code AND the results it produced when it ran.\n",
        "- If you are stuck on a problem or do not understand a question - please come to office hours or ask questions (please don't post your code though). If it is a coding problem send a private message on Ed Discussion or send and email to your instructor.\n",
        "- We also have TA tutors for extra help and 1 on 1 sessions!\n",
        "- You may use any libraries from the Python Standard Library for this assignment: https://docs.python.org/3/library/\n",
        "\n",
        "\n",
        "\n"
      ]
    },
    {
      "cell_type": "markdown",
      "metadata": {
        "id": "peRi8BBqFtrF"
      },
      "source": [
        "## 0. Setup\n",
        "\n",
        "Let us first install a few required packages. (You may want to comment this out in case you use a local environment that already has the suitable packages installed.)"
      ]
    },
    {
      "cell_type": "code",
      "execution_count": 1,
      "metadata": {
        "id": "GuN074G-JK_T"
      },
      "outputs": [],
      "source": [
        "%%capture\n",
        "\n",
        "#!pip install torch           # not required for colabs. Uncomment if needed otherwise\n",
        "#!pip install transformers    # not required for colabs. Uncomment if needed otherwise\n",
        "#!pip install numpy           # not required for colabs. Uncomment if needed otherwise\n",
        "!pip install portalocker\n",
        "!pip install -U datasets fsspec huggingface_hub # Hugging Face's dataset library\n",
        "#!pip install pandas          # not required for colabs. Uncomment if needed otherwise"
      ]
    },
    {
      "cell_type": "markdown",
      "metadata": {
        "id": "ymhMnEdJFtrF"
      },
      "source": [
        "Next, we will import required libraries"
      ]
    },
    {
      "cell_type": "code",
      "execution_count": 2,
      "metadata": {
        "id": "NySGJMIlFtrF"
      },
      "outputs": [],
      "source": [
        "import copy\n",
        "import random\n",
        "\n",
        "import torch\n",
        "import numpy as np\n",
        "import pandas as pd\n",
        "\n",
        "from datasets import load_dataset\n",
        "\n",
        "#from torchtext import data as torchtext_data\n",
        "from torch import nn\n",
        "\n",
        "from torch.utils.data import Dataset, DataLoader\n",
        "from transformers import AutoTokenizer, GPT2Model, GPT2ForSequenceClassification, GPT2LMHeadModel"
      ]
    },
    {
      "cell_type": "markdown",
      "metadata": {
        "id": "LZmkkCXxuf0o"
      },
      "source": [
        "Let's make sure we will later put data and models on the proper device."
      ]
    },
    {
      "cell_type": "code",
      "execution_count": 3,
      "metadata": {
        "id": "9piY_5XnuVa9",
        "outputId": "9badcdc1-a1e1-4dde-bad1-9a50f70fe911",
        "colab": {
          "base_uri": "https://localhost:8080/"
        }
      },
      "outputs": [
        {
          "output_type": "execute_result",
          "data": {
            "text/plain": [
              "device(type='cuda')"
            ]
          },
          "metadata": {},
          "execution_count": 3
        }
      ],
      "source": [
        "device = torch.device('cuda' if torch.cuda.is_available() else 'cpu')\n",
        "#device = torch.device(\"mps\")               # in case you run on a local Mac with metal performance shaders (setup/support is up to you)\n",
        "device"
      ]
    },
    {
      "cell_type": "markdown",
      "metadata": {
        "id": "t91i97P4FtrG"
      },
      "source": [
        "Now we will define various functions that we will use in this notebook. You can jump over this part... but you don't have to.\n",
        "\n",
        "We'll define:\n",
        "\n",
        "1. perplexity(text, model) - a calculation giving us the perplexity for a given text and model. 'How certain is the model in picking the actual nect token?'\n",
        "2. ClassificationData class - a class that created the Dataset for our IMDB classification with GPT-2. It has a number of options that we'll use to augment the text to make the classification easier for the model.\n",
        "3. BERT ClassificationData class - same for a BERT model.\n",
        "4. create_temp_set(base_data, split) - a function used to massage the IMDB dataset, just as we did in PyTorch Intro I.\n",
        "5. random_huggingface_blog_text - A list of text of random Hugging Face blog snippets for some validation tests.\n",
        "6. fake_data_loader -  a function that converts an array of text (fixed batch size for now) into a format that the perplexity calculation can use.\n"
      ]
    },
    {
      "cell_type": "code",
      "execution_count": 4,
      "metadata": {
        "id": "vbplEALAFtrG"
      },
      "outputs": [],
      "source": [
        "#@title Some Definitions\n",
        "\n",
        "def perplexity(text_data, model):\n",
        "\n",
        "    loss = []\n",
        "    for step, batch_data in enumerate(text_data):\n",
        "\n",
        "      batch_input = batch_data['input']\n",
        "      batch_labels = batch_data['labels']\n",
        "\n",
        "      if step % 100 == 0:\n",
        "          print('Current batch: ', step)\n",
        "\n",
        "      with torch.no_grad():\n",
        "            try:\n",
        "              batch_output = model(batch_input)\n",
        "              batch_output_reshaped = batch_output.reshape((batch_size * (max_len - 1), -1))\n",
        "\n",
        "              batch_labels_reshaped = batch_labels.reshape((batch_size * (max_len - 1),))\n",
        "              batch_loss = loss_fn(batch_output_reshaped, batch_labels_reshaped)\n",
        "\n",
        "              loss.append(batch_loss)\n",
        "            except:\n",
        "              continue\n",
        "\n",
        "    avg_cost = np.mean([x.cpu().detach() for x in loss])\n",
        "    avg_perplexity = np.exp(avg_cost)\n",
        "\n",
        "    return avg_perplexity\n",
        "\n",
        "\n",
        "class ClassificationData(Dataset):\n",
        "    def __init__(self,\n",
        "                 base_data,\n",
        "                 tokenizer,\n",
        "                 max_len,\n",
        "                 use_prompt=False,\n",
        "                 prompt_pre_text='',\n",
        "                 prompt_post_text='',\n",
        "                 classification_tokenset={1: 'good', 0: 'bad'},\n",
        "                 num_examples=-1):\n",
        "\n",
        "        self.max_len = max_len\n",
        "        self.tokenizer = tokenizer  # assume that padding token has already been added to tokenizer\n",
        "        self.data = []\n",
        "\n",
        "        # really  not ideal having to iterate through the whole set. But ok for this small data volume\n",
        "\n",
        "\n",
        "        prompt_pre_text = prompt_pre_text.strip()\n",
        "        prompt_post_text = prompt_post_text.strip()\n",
        "\n",
        "\n",
        "        for num_example, example in enumerate(base_data):\n",
        "\n",
        "            if num_examples != -1 and num_example >= num_examples:\n",
        "              break\n",
        "\n",
        "            if num_example == 0:\n",
        "              print(example)\n",
        "\n",
        "            stripped_example = example['text'].strip()\n",
        "\n",
        "            token_encoder = self.tokenizer(' ' + stripped_example)['input_ids'] # simulating that the text will not be at the beginning\n",
        "\n",
        "            if len(token_encoder) <= self.max_len:\n",
        "                continue    # avoids complications with short sentences. No padding is needed then.\n",
        "\n",
        "            truncated_encoding = token_encoder[:self.max_len]\n",
        "            truncated_example = tokenizer.decode(truncated_encoding) # reconstruct shortened review\n",
        "\n",
        "\n",
        "            # LLMs do next-word predictions. You may want to add a prompt that the model can work with!\n",
        "\n",
        "\n",
        "            if use_prompt:\n",
        "\n",
        "                additional_token_length = len(self.tokenizer(prompt_pre_text)['input_ids']) + len(self.tokenizer(' ' + prompt_post_text)['input_ids'])  # simulating that the prompt_post_text will not be at the beginning\n",
        "\n",
        "                cutoff = self.max_len + additional_token_length\n",
        "\n",
        "                prompted_text_line = prompt_pre_text + truncated_example + ' ' + prompt_post_text\n",
        "\n",
        "            else:\n",
        "                cutoff = self.max_len\n",
        "                prompted_text_line = truncated_example\n",
        "\n",
        "            if len(self.tokenizer(prompted_text_line)['input_ids']) != cutoff:\n",
        "                    continue\n",
        "\n",
        "\n",
        "\n",
        "            tokenized_example = self.tokenizer(prompted_text_line,\n",
        "                                               return_tensors=\"pt\",\n",
        "                                               max_length=cutoff,\n",
        "                                               truncation=True,\n",
        "                                               padding='max_length').to(device)\n",
        "\n",
        "            if example['label'] == 1:\n",
        "              token = classification_tokenset[1]\n",
        "            else:\n",
        "              token = classification_tokenset[0]\n",
        "\n",
        "            token_id = self.tokenizer.encode(' ' + token)[0]\n",
        "            label = torch.tensor(token_id, dtype=torch.int64, device=device)\n",
        "\n",
        "            self.data.append({'label': label,\n",
        "                              'input_ids': torch.squeeze(tokenized_example['input_ids']).to(device)\n",
        "                              })\n",
        "\n",
        "    def __len__(self):\n",
        "        return len(self.data)\n",
        "\n",
        "    def __getitem__(self, index):\n",
        "\n",
        "        return {\n",
        "            'input_ids': self.data[index]['input_ids'],\n",
        "            'label': self.data[index]['label']\n",
        "        }\n",
        "\n",
        "    def __len__(self):\n",
        "        return len(self.data)\n",
        "\n",
        "    def __getitem__(self, index):\n",
        "\n",
        "        return {\n",
        "            'input_ids': self.data[index]['input_ids'],\n",
        "            'label': self.data[index]['label']\n",
        "        }\n",
        "\n",
        "\n",
        "class BERTClassificationData(Dataset):\n",
        "    def __init__(self,\n",
        "                 base_data,\n",
        "                 tokenizer,\n",
        "                 max_len,\n",
        "                 num_examples=-1):\n",
        "\n",
        "        self.max_len = max_len\n",
        "        self.tokenizer = tokenizer  # assume that padding token has already been added to tokenizer\n",
        "        self.data = []\n",
        "\n",
        "        # really  not ideal having to iterate through the whole set. But ok for this small data volume\n",
        "\n",
        "\n",
        "\n",
        "        for num_example, example in enumerate(base_data):\n",
        "\n",
        "            if num_examples != -1 and num_example >= num_examples:\n",
        "              break\n",
        "\n",
        "\n",
        "            token_encoder = self.tokenizer(example['text'])['input_ids']\n",
        "\n",
        "            if len(token_encoder) <= self.max_len:\n",
        "                continue    # avoids complications with short sentences. No padding is needed then.\n",
        "\n",
        "            truncated_encoding = token_encoder[1:self.max_len + 1]\n",
        "            truncated_example = tokenizer.decode(truncated_encoding) # reconstruct shortened review\n",
        "\n",
        "            cutoff = self.max_len\n",
        "            prompted_text_line = truncated_example\n",
        "\n",
        "            tokenized_example = self.tokenizer(prompted_text_line,\n",
        "                                               return_tensors=\"pt\",\n",
        "                                               max_length=cutoff,\n",
        "                                               truncation=True,\n",
        "                                               padding='max_length').to(device)\n",
        "\n",
        "            label_val = example['label']\n",
        "\n",
        "            label = torch.tensor(label_val, dtype=torch.int64, device=device)\n",
        "\n",
        "            self.data.append({'label': label,\n",
        "                              'input_ids': torch.squeeze(tokenized_example['input_ids']).to(device)\n",
        "                              })\n",
        "\n",
        "    def __len__(self):\n",
        "        return len(self.data)\n",
        "\n",
        "    def __getitem__(self, index):\n",
        "\n",
        "        return {\n",
        "            'input_ids': self.data[index]['input_ids'],\n",
        "            'label': self.data[index]['label']\n",
        "        }\n",
        "\n",
        "\n",
        "def create_temp_set(base_data, num_examples=1000000000):\n",
        "    num_positive = 0\n",
        "    num_negative = 0\n",
        "    num_other = 0\n",
        "\n",
        "    temp_data = []\n",
        "    out_data = []\n",
        "\n",
        "    for example_num, example in enumerate(base_data):\n",
        "\n",
        "      temp_data.append(example)\n",
        "\n",
        "    random.shuffle(temp_data)\n",
        "\n",
        "    for example_num, example in enumerate(temp_data):\n",
        "\n",
        "      if num_examples != -1 and example_num > num_examples:\n",
        "        break\n",
        "\n",
        "      if example['label'] == 0:\n",
        "        num_negative += 1\n",
        "      elif example['label'] == 1:\n",
        "        num_positive += 1\n",
        "      else:\n",
        "        num_other += 1\n",
        "\n",
        "      out_data.append(example)\n",
        "\n",
        "\n",
        "    print('positive: ', num_positive)\n",
        "    print('negative: ', num_negative)\n",
        "    print('other: ', num_other)\n",
        "\n",
        "    return out_data\n",
        "\n",
        "\n",
        "random_huggingface_blog_text = [\"\"\"1. Aspect candidate extraction\n",
        "\n",
        "In this work we assume that aspects, which are usually features of products and services, are mostly nouns or noun compounds (strings of consecutive nouns). We use spaCy to tokenize and extract nouns/noun compounds from the sentences in the (few-shot) training set. Since not all extracted nouns/noun compounds are aspects, we refer to them as aspect candidates.\n",
        "\n",
        "2. Aspect/Non-aspect classification\n",
        "\n",
        "Now that we have aspect candidates, we need to train a model to be able to distinguish between nouns that are aspects and nouns that are non-aspects. For this purpose, we need training samples with aspect/no-aspect labels. This is done by considering aspects in the training set as True aspects, while other non-overlapping candidate aspects are considered non-aspects and therefore labeled as False:\n",
        "\n",
        "Training sentence: \"Waiters aren't friendly but the cream pasta is out of this world.\"\n",
        "Tokenized: [Waiters, are, n't, friendly, but, the, cream, pasta, is, out, of, this, world, .]\n",
        "Extracted aspect candidates: [Waiters, are, n't, friendly, but, the, cream, pasta, is, out, of, this, world, .]\n",
        "Gold labels from training set, in BIO format: [B-ASP, O, O, O, O, O, B-ASP, I-ASP, O, O, O, O, O, .]\n",
        "Generated aspect/non-aspect Labels: [Waiters, are, n't, friendly, but, the, cream, pasta, is, out, of, this, world, .]\n",
        "Now that we have all the aspect candidates labeled, how do we use it to train the candidate aspect classification model? In other words, how do we use SetFit, a sentence classification framework, to classify individual tokens? Well, this is the trick: each aspect candidate is concatenated with the entire training sentence to create a training instance using the following template:\"\"\",\n",
        "             \"\"\"Normalization interrogations\n",
        "During our first deeper dive in these surprising behavior, we observed that the normalization step was possibly not working as intended: in some cases, this normalization ignored the correct numerical answers when they were directly followed by a whitespace character other than a space (a line return, for example). Let's look at an example, with the generation being 10\\n\\nPassage: The 2011 census recorded a population of 1,001,360, and the gold answer being 10.\n",
        "\n",
        "Normalization happens in several steps, both for generation and gold:\n",
        "\n",
        "Split on separators |, -, or The beginning sequence of the generation 10\\n\\nPassage: contain no such separator, and is therefore considered a single entity after this step.\n",
        "Punctuation removal The first token then becomes 10\\n\\nPassage (: is removed)\n",
        "Homogenization of numbers Every string that can be cast to float is considered a number and cast to float, then re-converted to string. 10\\n\\nPassage stays the same, as it cannot be cast to float, whereas the gold 10 becomes 10.0.\n",
        "Other steps A lot of other normalization steps ensue (removing articles, removing other whitespaces, etc.) and our original example becomes 10 passage 2011.0 census recorded population of 1001360.0.\n",
        "However, the overall score is not computed on the string, but on the bag of words (BOW) extracted from the string, here {'recorded', 'population', 'passage', 'census', '2011.0', '1001360.0', '10'}, which is compared with the BOW of the gold, also normalized in the above manner, {10.0}. As you can see, they don’t intersect, even though the model predicted the correct output!\n",
        "\n",
        "In summary, if a number is followed by any kind of whitespace other than a simple space, it will not pass through the number normalization, hence never match the gold if it is also a number! This first issue was likely to mess up the scores quite a bit, but clearly it was not the only factor causing DROP scores to be so low. We decided to investigate a bit more.\n",
        "\n",
        "Diving into the results\n",
        "Extending our investigations, our friends at Zeno joined us and undertook a much more thorough exploration of the results, looking at 5 models which were representative of the problems we noticed in DROP scores: falcon-180B and mistral-7B were underperforming compared to what we were expecting, Yi-34B and tigerbot-70B had a very good performance on DROP correlated with their average scores, and facebook/xglm-7.5B fell in the middle.\n",
        "\n",
        "You can give analyzing the results a try in the Zeno project here if you want to!\n",
        "\n",
        "The Zeno team found two even more concerning features:\n",
        "\n",
        "Not a single model got a correct result on floating point answers\n",
        "High quality models which generate long answers actually have a lower f1-score\n",
        "At this point, we believed that both failure cases were actually caused by the same root factor: using . as a stopword token (to end the generations):\n",
        "\n",
        "Floating point answers are systematically interrupted before their generation is complete\n",
        "Higher quality models, which try to match the few-shot prompt format, will generate Answer\\n\\nPlausible prompt for the next question., and only stop during the plausible prompt continuation after the actual answer on the first ., therefore generating too many words and getting a bad f1 score.\n",
        "We hypothesized that both these problems could be fixed by using \\n instead of . as an end of generation stop word.\"\"\",\n",
        "             \"\"\"Text generation is a rich topic, and there exist several generation strategies for different purposes. We recommend this excellent overview on the subject. Many generation algorithms are supported by the text generation endpoints, and they can be configured using the following parameters:\n",
        "\n",
        "do_sample: If set to False (the default), the generation method will be greedy search, which selects the most probable continuation sequence after the prompt you provide. Greedy search is deterministic, so the same results will always be returned from the same input. When do_sample is True, tokens will be sampled from a probability distribution and will therefore vary across invocations.\n",
        "temperature: Controls the amount of variation we desire from the generation. A temperature of 0 is equivalent to greedy search. If we set a value for temperature, then do_sample will automatically be enabled. The same thing happens for top_k and top_p. When doing code-related tasks, we want less variability and hence recommend a low temperature. For other tasks, such as open-ended text generation, we recommend a higher one.\"\"\",\n",
        "             \"\"\"Recently, we released our Object Detection Leaderboard, ranking object detection models available in the Hub according to some metrics. In this blog, we will demonstrate how the models were evaluated and demystify the popular metrics used in Object Detection, from Intersection over Union (IoU) to Average Precision (AP) and Average Recall (AR). More importantly, we will spotlight the inherent divergences and pitfalls that can occur during evaluation, ensuring that you're equipped with the knowledge not just to understand but to assess model performance critically.\n",
        "\n",
        "Every developer and researcher aims for a model that can accurately detect and delineate objects. Our Object Detection Leaderboard is the right place to find an open-source model that best fits their application needs. But what does \"accurate\" truly mean in this context? Which metrics should one trust? How are they computed? And, perhaps more crucially, why some models may present divergent results in different reports? All these questions will be answered in this blog.\n",
        "\n",
        "So, let's embark on this exploration together and unlock the secrets of the Object Detection Leaderboard! If you prefer to skip the introduction and learn how object detection metrics are computed, go to the Metrics section. If you wish to find how to pick the best models based on the Object Detection Leaderboard, you may check the Object Detection Leaderboard section.\"\"\"]\n",
        "\n",
        "def fake_data_loader(text, tokenizer, max_len):\n",
        "  return [{'input': tokenizer(text, return_tensors='pt', truncation=True, max_length=max_len)['input_ids'][:, :max_len-1].to(device),\n",
        "            'labels': tokenizer(text, return_tensors='pt', truncation=True, max_length=max_len)['input_ids'][:, 1:max_len].to(device)}]\n"
      ]
    },
    {
      "cell_type": "markdown",
      "metadata": {
        "id": "QEh7So11FtrG"
      },
      "source": [
        "This should say 'cpu' if using a CPU, or 'cuda', if a GPU is used (or 'mps' per the comment about macs)."
      ]
    },
    {
      "cell_type": "markdown",
      "metadata": {
        "id": "CiXfjjjGFtrG"
      },
      "source": [
        "Now we are ready to move to Language Models.\n",
        "\n",
        "## 1. Continued Pretraining of GPT2 with a Movie Plots dataset\n",
        "\n",
        "We are now downloading GPT-2 from Hugging Face, i.e. the tokenizer and the model. We will i) make sure that it is on the proper device, and ii) copy the model to a second one that will see additional pre-training before being used for a classification task."
      ]
    },
    {
      "cell_type": "code",
      "execution_count": 5,
      "metadata": {
        "id": "rTut1Px2FtrG"
      },
      "outputs": [],
      "source": [
        "%%capture\n",
        "\n",
        "torch.manual_seed(10)\n",
        "random.seed(10)\n",
        "np.random.seed(10)\n",
        "\n",
        "gpt_2_tokenizer = AutoTokenizer.from_pretrained(\"gpt2\")\n",
        "gpt_2_tokenizer.add_special_tokens({'pad_token': '[PAD]'})\n",
        "\n",
        "base_gpt2_model = GPT2LMHeadModel.from_pretrained(\"gpt2\").to(device)\n",
        "additinal_pretrain_gpt2_model = copy.deepcopy(base_gpt2_model)\n"
      ]
    },
    {
      "cell_type": "markdown",
      "metadata": {
        "id": "Gav_H2C8FtrH"
      },
      "source": [
        "We will now continue to pretrain the model *additinal_pretrain_gpt2_model* on a dataset of a specific domain - movies. We use the *CMU Movie Summary Corpus* (https://www.cs.cmu.edu/~ark/personas/, license: http://creativecommons.org/licenses/by-sa/3.0/us/legalcode). It contains 40k+ unlabeled movie plot summaries. As such, they represent domain-specific text which is available at many companies and institutions using their internal documents.\n",
        "\n",
        "Get the dataset by uncommenting the first line below (we have it commented here because you may need to rerun the notebook multiple times when you already have the dataset. When you do that... make sure you comment out this line again):"
      ]
    },
    {
      "cell_type": "code",
      "execution_count": 6,
      "metadata": {
        "id": "Y6V4R2VDFZ3h",
        "outputId": "92013aee-9c4c-4ca8-e720-41c3e54af3be",
        "colab": {
          "base_uri": "https://localhost:8080/"
        }
      },
      "outputs": [
        {
          "output_type": "stream",
          "name": "stdout",
          "text": [
            "--2025-06-15 18:24:58--  https://www.cs.cmu.edu/~ark/personas/data/MovieSummaries.tar.gz\n",
            "Resolving www.cs.cmu.edu (www.cs.cmu.edu)... 128.2.42.95\n",
            "Connecting to www.cs.cmu.edu (www.cs.cmu.edu)|128.2.42.95|:443... connected.\n",
            "HTTP request sent, awaiting response... 200 OK\n",
            "Length: 48002242 (46M) [application/x-gzip]\n",
            "Saving to: ‘MovieSummaries.tar.gz’\n",
            "\n",
            "MovieSummaries.tar. 100%[===================>]  45.78M   699KB/s    in 86s     \n",
            "\n",
            "2025-06-15 18:26:26 (544 KB/s) - ‘MovieSummaries.tar.gz’ saved [48002242/48002242]\n",
            "\n"
          ]
        }
      ],
      "source": [
        "!wget https://www.cs.cmu.edu/~ark/personas/data/MovieSummaries.tar.gz\n",
        "# We reccomend downloading the file! You can then upload the file later when needed from your local computer. Go to the folder icon on the left."
      ]
    },
    {
      "cell_type": "code",
      "execution_count": 7,
      "metadata": {
        "id": "R3VRuFsevZb8",
        "outputId": "2fca99bc-4b5b-4f8c-f7ff-8a05023f2637",
        "colab": {
          "base_uri": "https://localhost:8080/"
        }
      },
      "outputs": [
        {
          "output_type": "stream",
          "name": "stdout",
          "text": [
            "MovieSummaries/\n",
            "MovieSummaries/tvtropes.clusters.txt\n",
            "MovieSummaries/name.clusters.txt\n",
            "MovieSummaries/plot_summaries.txt\n",
            "MovieSummaries/README.txt\n",
            "MovieSummaries/movie.metadata.tsv\n",
            "MovieSummaries/character.metadata.tsv\n"
          ]
        }
      ],
      "source": [
        "# uncomment this tar command to run once. After you have the raw files you can don't need to untar again\n",
        "!tar -xvf MovieSummaries.tar.gz"
      ]
    },
    {
      "cell_type": "markdown",
      "metadata": {
        "id": "-YSDM6Z9FtrH"
      },
      "source": [
        "Next, we will create a list of 15k plots and convince ourselves that the data looks roughly as expected:"
      ]
    },
    {
      "cell_type": "code",
      "execution_count": 8,
      "metadata": {
        "id": "e9Z8Ivc0FqiH",
        "outputId": "3f25685e-fde4-4247-e69f-f1cbfc976abb",
        "colab": {
          "base_uri": "https://localhost:8080/",
          "height": 72
        }
      },
      "outputs": [
        {
          "output_type": "execute_result",
          "data": {
            "text/plain": [
              "'The nation of Panem consists of a wealthy Capitol and twelve poorer districts. As punishment for a past rebellion, each district must provide a boy and girl  between the ages of 12 and 18 selected by lottery  for the annual Hunger Games. The tributes must fight to the death in an arena; the sole survivor is rewarded with fame and wealth. In her first Reaping, 12-year-old Primrose Everdeen is chose'"
            ],
            "application/vnd.google.colaboratory.intrinsic+json": {
              "type": "string"
            }
          },
          "metadata": {},
          "execution_count": 8
        }
      ],
      "source": [
        "plots =  pd.read_csv('MovieSummaries/plot_summaries.txt', delimiter='\\t')\n",
        "plots.columns = ['id', 'plot']\n",
        "plot_summary_list = [x for x in plots['plot']][:15000]\n",
        "plot_summary_list[0][:400]"
      ]
    },
    {
      "cell_type": "markdown",
      "metadata": {
        "id": "SAR7ej4nlHdb"
      },
      "source": [
        "Next, we will create a Dataset class that takes text data and returns input token ids and labels for the next word predictions (simply the input token ids shifted one to the left). For simplicity, we will throw out any examples that are shorter than our desired length and truncate all other examples to this length:"
      ]
    },
    {
      "cell_type": "code",
      "execution_count": 9,
      "metadata": {
        "id": "N9xh-xTXRzYD"
      },
      "outputs": [],
      "source": [
        "#@title Class for Creation of Continued Pretraining Dataset (Movie Plots)\n",
        "\n",
        "class ContinuedPretrainData(Dataset):\n",
        "    def __init__(self, base_data, tokenizer, max_len, device):\n",
        "        self.max_len = max_len\n",
        "        self.tokenizer = tokenizer  # assume that padding token has already been added to tokenizer\n",
        "        self.data = []\n",
        "\n",
        "        tokenized_examples = tokenizer(base_data,\n",
        "                                       max_length=max_len,\n",
        "                                       truncation=True, padding='max_length',\n",
        "                                       return_tensors=\"pt\")\n",
        "\n",
        "        tokens = tokenized_examples['input_ids'][tokenized_examples['attention_mask'][:, max_len - 1] > 0]\n",
        "\n",
        "        self.data = tokens.to(device)\n",
        "\n",
        "    def __len__(self):\n",
        "        return self.data.shape[0]\n",
        "\n",
        "    def __getitem__(self, index):\n",
        "\n",
        "        return {'input': self.data[index][:self.max_len - 1],\n",
        "                'labels': self.data[index][1:]\n",
        "        }"
      ]
    },
    {
      "cell_type": "markdown",
      "metadata": {
        "id": "9nFW8dovRG0D"
      },
      "source": [
        "Now, please build a simple neural net that serves for continued pre-training:"
      ]
    },
    {
      "cell_type": "code",
      "execution_count": 10,
      "metadata": {
        "id": "OKG3AXjSRzpZ"
      },
      "outputs": [],
      "source": [
        "%%capture\n",
        "\n",
        "class ContinuedTrainingNetwork(torch.nn.Module):\n",
        "    \"\"\"\n",
        "    Build a simple PyTorch network that takes a batch (from a Dataloader)\n",
        "    as input and returns the logits of each next word prediction.\n",
        "    When instantiated, you need to pass in a pretrained base model.\n",
        "    You need to define both, the __init__ and the forward methods.\n",
        "    \"\"\"\n",
        "    def __init__(self, pretrainModel):\n",
        "        ### YOUR CODE HERE\n",
        "        super().__init__()\n",
        "        self.pretrainModel = pretrainModel\n",
        "\n",
        "        ### END YOUR CODE\n",
        "\n",
        "    def forward(self, x):               # x stands for the input that the network will use/act on later\n",
        "        # get the logits for all tokens in all examples and call it logits.\n",
        "\n",
        "        ### YOUR CODE HERE\n",
        "        logits = self.pretrainModel(x).logits\n",
        "        ### END YOUR CODE\n",
        "\n",
        "        return logits\n",
        "\n",
        "pretrain_network = ContinuedTrainingNetwork(pretrainModel=additinal_pretrain_gpt2_model)\n",
        "\n",
        "pretrain_network.to(device)"
      ]
    },
    {
      "cell_type": "markdown",
      "metadata": {
        "id": "tv4d8UFCFtrH"
      },
      "source": [
        "Then we create the training sets:"
      ]
    },
    {
      "cell_type": "code",
      "execution_count": 11,
      "metadata": {
        "id": "JpoJG71tRzg-"
      },
      "outputs": [],
      "source": [
        "max_len=100\n",
        "\n",
        "train_data = ContinuedPretrainData(plot_summary_list[:10000], tokenizer=gpt_2_tokenizer, max_len=max_len, device=device)\n",
        "test_data = ContinuedPretrainData(plot_summary_list[10000:], tokenizer=gpt_2_tokenizer, max_len=max_len, device=device)"
      ]
    },
    {
      "cell_type": "code",
      "execution_count": 13,
      "metadata": {
        "id": "PUss4GF7Rzjt",
        "outputId": "a6aec97b-e705-479b-ebe9-8289361da9cd",
        "colab": {
          "base_uri": "https://localhost:8080/"
        }
      },
      "outputs": [
        {
          "output_type": "execute_result",
          "data": {
            "text/plain": [
              "{'input': tensor([  464,  3277,   286,  5961,   368, 10874,   286,   257, 11574, 13241,\n",
              "           290, 14104, 26647, 12815,    13,  1081,  9837,   329,   257,  1613,\n",
              "         21540,    11,  1123,  4783,  1276,  2148,   257,  2933,   290,  2576,\n",
              "           220,  1022,   262,  9337,   286,  1105,   290,  1248,  6163,   416,\n",
              "         22098,   220,   329,   262,  5079, 32367,  5776,    13,   383,   256,\n",
              "          7657,  1276,  1907,   284,   262,  1918,   287,   281, 13478,    26,\n",
              "           262,  6195, 23446,   318, 20945,   351, 16117,   290,  5129,    13,\n",
              "           554,   607,   717,   797,  9269,    11,  1105,    12,  1941,    12,\n",
              "           727, 11460, 13698, 10776, 39060,   318,  7147,   422,  5665,  1105,\n",
              "            13,  2332,  4697,  6621,  8595,    77,   747, 11661,   284],\n",
              "        device='cuda:0'),\n",
              " 'labels': tensor([ 3277,   286,  5961,   368, 10874,   286,   257, 11574, 13241,   290,\n",
              "         14104, 26647, 12815,    13,  1081,  9837,   329,   257,  1613, 21540,\n",
              "            11,  1123,  4783,  1276,  2148,   257,  2933,   290,  2576,   220,\n",
              "          1022,   262,  9337,   286,  1105,   290,  1248,  6163,   416, 22098,\n",
              "           220,   329,   262,  5079, 32367,  5776,    13,   383,   256,  7657,\n",
              "          1276,  1907,   284,   262,  1918,   287,   281, 13478,    26,   262,\n",
              "          6195, 23446,   318, 20945,   351, 16117,   290,  5129,    13,   554,\n",
              "           607,   717,   797,  9269,    11,  1105,    12,  1941,    12,   727,\n",
              "         11460, 13698, 10776, 39060,   318,  7147,   422,  5665,  1105,    13,\n",
              "          2332,  4697,  6621,  8595,    77,   747, 11661,   284,  1011],\n",
              "        device='cuda:0')}"
            ]
          },
          "metadata": {},
          "execution_count": 13
        }
      ],
      "source": [
        "train_data[0]"
      ]
    },
    {
      "cell_type": "markdown",
      "metadata": {
        "id": "C0Z4ZV6GgTAH"
      },
      "source": [
        "Here is the data loader:"
      ]
    },
    {
      "cell_type": "code",
      "execution_count": 14,
      "metadata": {
        "id": "yEFJx0qiRzmJ"
      },
      "outputs": [],
      "source": [
        "torch.manual_seed(10)\n",
        "batch_size = 4\n",
        "train_texts = DataLoader(train_data, batch_size=batch_size, shuffle=True)\n",
        "test_texts = DataLoader(test_data, batch_size=batch_size, shuffle=True)"
      ]
    },
    {
      "cell_type": "markdown",
      "metadata": {
        "id": "s50t7hGkFtrH"
      },
      "source": [
        "Next, we construct a network that takes the input from the loaders and returns the logits of each next word prediction:"
      ]
    },
    {
      "cell_type": "markdown",
      "metadata": {
        "id": "5i-Z0llqFtrH"
      },
      "source": [
        "Test the shape of the output. Is it correct? We first need to grab an example and then look at the shape of the model output:"
      ]
    },
    {
      "cell_type": "code",
      "execution_count": 15,
      "metadata": {
        "id": "V6yUS2tQRztk",
        "outputId": "a3db0365-c50b-433d-b7fb-79aa95a39b9b",
        "colab": {
          "base_uri": "https://localhost:8080/"
        }
      },
      "outputs": [
        {
          "output_type": "execute_result",
          "data": {
            "text/plain": [
              "torch.Size([4, 99, 50257])"
            ]
          },
          "metadata": {},
          "execution_count": 15
        }
      ],
      "source": [
        "example_data = next(iter(test_texts))\n",
        "\n",
        "# Please call your model output pretrain_model_output\n",
        "\n",
        "### YOUR CODE HERE\n",
        "pretrain_model_output = pretrain_network(example_data['input'])\n",
        "### END YOUR CODE\n",
        "pretrain_model_output.shape\n"
      ]
    },
    {
      "cell_type": "markdown",
      "metadata": {
        "id": "zik6v4lIFtrH"
      },
      "source": [
        "**QUESTION:**\n",
        "\n",
        "1.a. What do the numbers above refer to?"
      ]
    },
    {
      "cell_type": "code",
      "execution_count": null,
      "metadata": {
        "id": "StU3e-D3f-0c"
      },
      "outputs": [],
      "source": [
        "### Q1-a Grading Tag: Please put your answer in this cell. Don't edit this line.\n",
        "\n",
        "### YOUR ANSWER HERE\n",
        "4: batch size\n",
        "99: sequence length\n",
        "50257: vocabulary size\n",
        "### END YOUR ANSWER"
      ]
    },
    {
      "cell_type": "markdown",
      "metadata": {
        "id": "ygyfBr_2FtrH"
      },
      "source": [
        "Next, we will calculate the initial perplexity for the test set of the movie plot summaries. We need the loss function for this. Please use the cross entropy to define the loss function *loss_fn*."
      ]
    },
    {
      "cell_type": "code",
      "execution_count": 16,
      "metadata": {
        "id": "uSQ_n6vDRzyx",
        "outputId": "eec4f4a4-3a43-4f03-aa7f-d0a0ad19ab61",
        "colab": {
          "base_uri": "https://localhost:8080/"
        }
      },
      "outputs": [
        {
          "output_type": "execute_result",
          "data": {
            "text/plain": [
              "tensor(3.3036)"
            ]
          },
          "metadata": {},
          "execution_count": 16
        }
      ],
      "source": [
        "\"\"\"\n",
        "Define the loss function loss_fn as the cross entropy and validate/report on the\n",
        "calculation for the average loss for the two examples\n",
        "\n",
        "example 1:\n",
        "  label: 0\n",
        "  logits: [-3.1, -2.4]\n",
        "example 2:\n",
        "  label: 1\n",
        "  logits: [2.4, -3.1]\n",
        "\n",
        "\"\"\"\n",
        "\n",
        "### YOUR CODE HERE\n",
        "loss_fn = torch.nn.CrossEntropyLoss()\n",
        "test_input = torch.tensor([[[-3.1, -2.4], [2.4, -3.1]]], dtype=torch.float32)\n",
        "test_target = torch.tensor([[0, 1]], dtype=torch.int64)\n",
        "### END YOUR CODE\n",
        "\n",
        "loss_fn(test_input,test_target)\n"
      ]
    },
    {
      "cell_type": "markdown",
      "metadata": {
        "id": "a0_QsbCVDGcU"
      },
      "source": [
        "**QUESTION:**\n",
        "\n",
        "1.b. What is the average loss for these two examples?"
      ]
    },
    {
      "cell_type": "code",
      "execution_count": null,
      "metadata": {
        "id": "cb0lvm5GgNcT"
      },
      "outputs": [],
      "source": [
        "### Q1-b Grading Tag: Please put your answer in this cell. Don't edit this line.\n",
        "\n",
        "### YOUR ANSWER HERE\n",
        "3.3036\n",
        "### END YOUR ANSWER"
      ]
    },
    {
      "cell_type": "markdown",
      "metadata": {
        "id": "evqpJ8gIgMpY"
      },
      "source": [
        "1.c. (Ideally, by just looking at the labels and logits), which example contributes the higher loss? Choose from 'first' or 'second'."
      ]
    },
    {
      "cell_type": "code",
      "execution_count": null,
      "metadata": {
        "id": "NNZKTISJgOIb"
      },
      "outputs": [],
      "source": [
        "### Q1-c Grading Tag: Please put your answer in this cell. Don't edit this line.\n",
        "\n",
        "### YOUR ANSWER HERE\n",
        "second\n",
        "### END YOUR ANSWER"
      ]
    },
    {
      "cell_type": "markdown",
      "metadata": {
        "id": "OxR6qSGOFtrI"
      },
      "source": [
        "Also, consider https://pytorch.org/docs/stable/generated/torch.nn.CrossEntropyLoss.html and investigate the dimensions of the input! We will need to reshape the output and the labels, because CrossEntropy expects a tensor of individual decisions, not a tensor of decision sequences. Similar for the labels. Recall how to reshape from the previous notebook.\n",
        "\n",
        "For the example data we calculate the loss. Then you need to calculate the perplexity."
      ]
    },
    {
      "cell_type": "code",
      "execution_count": 17,
      "metadata": {
        "id": "XGgN9KjUMkWQ",
        "outputId": "ff360ca5-1a47-450a-ace6-f158423a506e",
        "colab": {
          "base_uri": "https://localhost:8080/"
        }
      },
      "outputs": [
        {
          "output_type": "stream",
          "name": "stdout",
          "text": [
            "Shape of reshaped outputs:  torch.Size([396, 50257])\n",
            "Shape of reshaped labels:  torch.Size([396])\n"
          ]
        }
      ],
      "source": [
        "# Reshape pretrain_model_output and example_data['labels']. Name them reshaped_pretrain_model_output and reshaped_pretrain_model_labels\n",
        "\n",
        "### YOUR CODE HERE\n",
        "reshaped_pretrain_model_output = pretrain_model_output.view(-1, pretrain_model_output.shape[-1])\n",
        "reshaped_pretrain_model_labels = example_data['labels'].view(-1)\n",
        "### END YOUR CODE\n",
        "\n",
        "print('Shape of reshaped outputs: ', reshaped_pretrain_model_output.shape)\n",
        "print('Shape of reshaped labels: ', reshaped_pretrain_model_labels.shape)"
      ]
    },
    {
      "cell_type": "code",
      "execution_count": 18,
      "metadata": {
        "id": "u_AaKxpYFtrI",
        "outputId": "2bf56011-da40-416a-db2c-d8e719bae311",
        "colab": {
          "base_uri": "https://localhost:8080/"
        }
      },
      "outputs": [
        {
          "output_type": "stream",
          "name": "stdout",
          "text": [
            "Initial batch loss:  tensor(3.8234, device='cuda:0', grad_fn=<NllLossBackward0>)\n",
            "Initial batch perplexity:  tensor(45.7585, device='cuda:0', grad_fn=<ExpBackward0>)\n"
          ]
        }
      ],
      "source": [
        "# Now use the loss function loss_fn to first calculate - for this batch - the loss and then the perplexity.\n",
        "\n",
        "### YOUR CODE HERE\n",
        "initial_batch_loss = loss_fn(reshaped_pretrain_model_output, reshaped_pretrain_model_labels)\n",
        "initial_batch_perplexity = torch.exp(initial_batch_loss)\n",
        "### END YOUR CODE\n",
        "\n",
        "print('Initial batch loss: ', initial_batch_loss)\n",
        "print('Initial batch perplexity: ', initial_batch_perplexity)"
      ]
    },
    {
      "cell_type": "markdown",
      "metadata": {
        "id": "bQpSH7TUFtrI"
      },
      "source": [
        "**QUESTION:**\n",
        "\n",
        "1.d. What is the perplexity of this batch before the training?"
      ]
    },
    {
      "cell_type": "code",
      "execution_count": null,
      "metadata": {
        "id": "RqtDy3ssgj0V"
      },
      "outputs": [],
      "source": [
        "### Q1-d Grading Tag: Please put your answer in this cell. Don't edit this line.\n",
        "\n",
        "### YOUR ANSWER HERE\n",
        "45.7585\n",
        "### END YOUR ANSWER"
      ]
    },
    {
      "cell_type": "markdown",
      "metadata": {
        "id": "RLSOPMqLFtrI"
      },
      "source": [
        "Next, we will calculate the perplexity of the whole test set. For that we will use the perplexity function defined at the outset:"
      ]
    },
    {
      "cell_type": "code",
      "execution_count": 19,
      "metadata": {
        "id": "imll7TlSrRmY",
        "outputId": "c5dd7ac4-8870-41bb-f0fb-947ca1da9a06",
        "colab": {
          "base_uri": "https://localhost:8080/"
        }
      },
      "outputs": [
        {
          "output_type": "stream",
          "name": "stdout",
          "text": [
            "Current batch:  0\n",
            "Current batch:  100\n",
            "Current batch:  200\n",
            "Current batch:  300\n",
            "Current batch:  400\n",
            "Current batch:  500\n",
            "Current batch:  600\n",
            "Current batch:  700\n",
            "Current batch:  800\n",
            "Current batch:  900\n",
            "CPU times: user 22.6 s, sys: 11.2 s, total: 33.7 s\n",
            "Wall time: 33.9 s\n"
          ]
        },
        {
          "output_type": "execute_result",
          "data": {
            "text/plain": [
              "np.float32(49.22481)"
            ]
          },
          "metadata": {},
          "execution_count": 19
        }
      ],
      "source": [
        "%%time\n",
        "\n",
        "test_movie_plot_perplexity_before =  perplexity(test_texts, pretrain_network)\n",
        "test_movie_plot_perplexity_before"
      ]
    },
    {
      "cell_type": "markdown",
      "metadata": {
        "id": "QTBvxzNwksC8"
      },
      "source": [
        "**QUESTION**:\n",
        "\n",
        "1.e. What is the perplexity of the test set before further training?"
      ]
    },
    {
      "cell_type": "code",
      "execution_count": null,
      "metadata": {
        "id": "8du-OST5gu5X"
      },
      "outputs": [],
      "source": [
        "### Q1-e Grading Tag: Please put your answer in this cell. Don't edit this line.\n",
        "\n",
        "### YOUR ANSWER HERE\n",
        "49.22481\n",
        "### END YOUR ANSWER"
      ]
    },
    {
      "cell_type": "markdown",
      "metadata": {
        "id": "ABTv8wdBQfhz"
      },
      "source": [
        "Ok. What about random text not from this domain? Let us look at the random snippets from Hugging Face blogs defined above in random_huggingface_blog_text:"
      ]
    },
    {
      "cell_type": "code",
      "execution_count": 20,
      "metadata": {
        "id": "0Sq1xBa3JMBv",
        "outputId": "b9eb814d-cbdf-401b-a3f0-5fbe23af4688",
        "colab": {
          "base_uri": "https://localhost:8080/"
        }
      },
      "outputs": [
        {
          "output_type": "stream",
          "name": "stdout",
          "text": [
            "Current batch:  0\n"
          ]
        },
        {
          "output_type": "execute_result",
          "data": {
            "text/plain": [
              "np.float32(48.412525)"
            ]
          },
          "metadata": {},
          "execution_count": 20
        }
      ],
      "source": [
        "test_hf_perplexity_before = perplexity(fake_data_loader(random_huggingface_blog_text, tokenizer=gpt_2_tokenizer, max_len=100), pretrain_network)\n",
        "test_hf_perplexity_before"
      ]
    },
    {
      "cell_type": "markdown",
      "metadata": {
        "id": "bLLMsPPtFtrI"
      },
      "source": [
        "Good, about the same. (As hoped/expected. The model should not have any particular better understanding for either type of text.)\n",
        "\n",
        "Next, we need to create the optimizer and generate a training loop. Nothing to do here for you, but take a look if interested."
      ]
    },
    {
      "cell_type": "code",
      "execution_count": 26,
      "metadata": {
        "id": "HQQdjKecFtrI"
      },
      "outputs": [],
      "source": [
        "pretrain_optimizer = torch.optim.AdamW(pretrain_network.parameters(), lr=0.00001)\n",
        "\n",
        "def continued_train_loop(dataloader,\n",
        "               model,\n",
        "               loss_fn,\n",
        "               optimizer,\n",
        "               reporting_interval=100,\n",
        "               max_len=100,\n",
        "               steps=None):\n",
        "\n",
        "    \"\"\"\n",
        "    Write the training loop for continued pre-training. In particular, you need to:\n",
        "    - initialize the epoch_loss to 0 and set the model into training mode\n",
        "    - iterate over the batches:\n",
        "      - break if you are at 'steps' number of batches\n",
        "      - get the inputs X and labels y (which in this case will be the actual next token)\n",
        "      - get the model outputs\n",
        "      - reshape y and model outputs in proper format for cross entropy calculation\n",
        "      - zero out the gradient\n",
        "      - calculate loss\n",
        "      - propagate loss (loss.backward) and apply optimizer step\n",
        "      - add the loss to the epoch_loss\n",
        "    Reporting:\n",
        "      - report the current average loss and perplexity every 'reporting_interval' batches\n",
        "      - report the average loss and perplexity at the end of the epoch (done for you)\n",
        "\n",
        "    \"\"\"\n",
        "\n",
        "    # Set the model to training mode - important for batch normalization and dropout layers\n",
        "    # Unnecessary in this situation but added for best practices\n",
        "\n",
        "    ### YOUR CODE HERE\n",
        "    model.train()\n",
        "    epoch_loss = 0\n",
        "\n",
        "    batch_perplexity = 0\n",
        "    batch_loss = 0\n",
        "\n",
        "    for batch, data in enumerate(dataloader):\n",
        "        if (steps is not None) and (batch >= steps):\n",
        "          break\n",
        "\n",
        "        inputs = data['input']\n",
        "        labels = data['labels']\n",
        "        outputs = model(inputs)\n",
        "\n",
        "        reshaped_outputs = outputs.view(-1, outputs.shape[-1])\n",
        "        reshaped_labels = labels.view(-1)\n",
        "\n",
        "        optimizer.zero_grad()\n",
        "\n",
        "        loss = loss_fn(reshaped_outputs, reshaped_labels)\n",
        "\n",
        "        loss.backward()\n",
        "        optimizer.step()\n",
        "        epoch_loss += loss.item()\n",
        "\n",
        "        if ((batch+1) % reporting_interval) == 0:\n",
        "            avg_loss = epoch_loss/(batch+1)\n",
        "            avg_perplexity = torch.exp(torch.tensor(avg_loss))\n",
        "\n",
        "            print(f\"Batch {batch + 1}: Avg Loss = {avg_loss:.8f}, Avg Perplexity = {avg_perplexity:.8f}\")\n",
        "\n",
        "    ### END YOUR CODE\n",
        "    print(batch)\n",
        "    print(f\"Training Results: \\n  Avg train loss: {epoch_loss/batch:>8f} \\n Avg train perplexity: {np.exp(epoch_loss/batch):>8f} \")"
      ]
    },
    {
      "cell_type": "markdown",
      "metadata": {
        "id": "FBuMQv3-FtrI"
      },
      "source": [
        "Now we do the training:"
      ]
    },
    {
      "cell_type": "code",
      "execution_count": 27,
      "metadata": {
        "id": "9DahA3McFtrI",
        "colab": {
          "base_uri": "https://localhost:8080/"
        },
        "outputId": "dd6dcfe0-0652-4837-fdaa-cd2b8294aad1"
      },
      "outputs": [
        {
          "output_type": "stream",
          "name": "stdout",
          "text": [
            "Epoch 1\n",
            "-------------------------------\n",
            "Batch 100: Avg Loss = 3.72844400, Avg Perplexity = 41.61431122\n",
            "Batch 200: Avg Loss = 3.72947317, Avg Perplexity = 41.65715408\n",
            "Batch 300: Avg Loss = 3.71865743, Avg Perplexity = 41.20903397\n",
            "Batch 400: Avg Loss = 3.71755587, Avg Perplexity = 41.16365814\n",
            "Batch 500: Avg Loss = 3.71375749, Avg Perplexity = 41.00760269\n",
            "Batch 600: Avg Loss = 3.70597850, Avg Perplexity = 40.68983841\n",
            "Batch 700: Avg Loss = 3.70399657, Avg Perplexity = 40.60928345\n",
            "Batch 800: Avg Loss = 3.70448581, Avg Perplexity = 40.62915421\n",
            "Batch 900: Avg Loss = 3.70154895, Avg Perplexity = 40.51000595\n",
            "Batch 1000: Avg Loss = 3.69879588, Avg Perplexity = 40.39862823\n",
            "1000\n",
            "Training Results: \n",
            "  Avg train loss: 3.698796 \n",
            " Avg train perplexity: 40.398630 \n",
            "Done!\n"
          ]
        }
      ],
      "source": [
        "epochs = 1\n",
        "for t in range(epochs):\n",
        "    # we just train for 1000 batches\n",
        "    print(f\"Epoch {t+1}\\n-------------------------------\")\n",
        "    continued_train_loop(train_texts, pretrain_network, loss_fn, pretrain_optimizer, steps=1000)\n",
        "\n",
        "print(\"Done!\")"
      ]
    },
    {
      "cell_type": "markdown",
      "metadata": {
        "id": "Vq71uMOeFtrI"
      },
      "source": [
        "How did the perplexity of the test set change after the additional pre-training?"
      ]
    },
    {
      "cell_type": "code",
      "execution_count": 28,
      "metadata": {
        "id": "1YAz5ORhFtrJ",
        "colab": {
          "base_uri": "https://localhost:8080/"
        },
        "outputId": "4d242ad5-1731-4c67-a6e1-9a94b29e23f5"
      },
      "outputs": [
        {
          "output_type": "stream",
          "name": "stdout",
          "text": [
            "Current batch:  0\n",
            "Current batch:  100\n",
            "Current batch:  200\n",
            "Current batch:  300\n",
            "Current batch:  400\n",
            "Current batch:  500\n",
            "Current batch:  600\n",
            "Current batch:  700\n",
            "Current batch:  800\n",
            "Current batch:  900\n",
            "CPU times: user 24.8 s, sys: 11.2 s, total: 36 s\n",
            "Wall time: 37.3 s\n"
          ]
        },
        {
          "output_type": "execute_result",
          "data": {
            "text/plain": [
              "np.float32(41.759407)"
            ]
          },
          "metadata": {},
          "execution_count": 28
        }
      ],
      "source": [
        "%%time\n",
        "\n",
        "test_movie_plot_perplexity_after = perplexity(test_texts, pretrain_network)\n",
        "test_movie_plot_perplexity_after"
      ]
    },
    {
      "cell_type": "markdown",
      "metadata": {
        "id": "zY0Ri85JRWht"
      },
      "source": [
        "What about the Hugging Face blog snippets that were not in the movie domain:\n",
        "\n"
      ]
    },
    {
      "cell_type": "code",
      "execution_count": 29,
      "metadata": {
        "id": "wQfYKFVgRW1w",
        "colab": {
          "base_uri": "https://localhost:8080/"
        },
        "outputId": "bfc6b87f-c358-4377-8f8d-a3ea24c39d52"
      },
      "outputs": [
        {
          "output_type": "stream",
          "name": "stdout",
          "text": [
            "Current batch:  0\n"
          ]
        },
        {
          "output_type": "execute_result",
          "data": {
            "text/plain": [
              "np.float32(72.38276)"
            ]
          },
          "metadata": {},
          "execution_count": 29
        }
      ],
      "source": [
        "test_hf_perplexity_after =  perplexity(fake_data_loader(random_huggingface_blog_text, tokenizer=gpt_2_tokenizer, max_len=100), pretrain_network)\n",
        "test_hf_perplexity_after"
      ]
    },
    {
      "cell_type": "markdown",
      "metadata": {
        "id": "0SgmygRcuVa5"
      },
      "source": [
        "\n",
        "**QUESTION:**\n",
        "\n",
        "1.f. What is your observation about the perplexity change for the test movie plot set texts after the additional pre-training? About the same ('within 2'), higher, or lower?"
      ]
    },
    {
      "cell_type": "code",
      "execution_count": null,
      "metadata": {
        "id": "nR1-as2Eg3li"
      },
      "outputs": [],
      "source": [
        "### Q1-f Grading Tag: Please put your answer in this cell. Don't edit this line.\n",
        "\n",
        "### YOUR ANSWER HERE\n",
        "After compared test_movie_plot_perplexity_before (49.22481) and test_movie_plot_perplexity_after (41.759407), we can see that\n",
        "the perplexity has been **lower** after additional pre-training.\n",
        "### END YOUR ANSWER"
      ]
    },
    {
      "cell_type": "markdown",
      "metadata": {
        "id": "Z5dAROz3g34c"
      },
      "source": [
        "1.g. What is your observation about the perplexity change for the Hugging Face texts after the additional pre-training? About the same ('within 2'), higher, or lower?"
      ]
    },
    {
      "cell_type": "code",
      "execution_count": null,
      "metadata": {
        "id": "A-YW0jhZg4FE"
      },
      "outputs": [],
      "source": [
        "### Q1-g Grading Tag: Please put your answer in this cell. Don't edit this line.\n",
        "\n",
        "### YOUR ANSWER HERE\n",
        "After compared test_hf_perplexity_before (48.412525) and test_hf_perplexity_after (72.38276), we can see that\n",
        "the perplexity has been **higher** after additional pre-training.\n",
        "### END YOUR ANSWER"
      ]
    },
    {
      "cell_type": "markdown",
      "metadata": {
        "id": "JvkaprBcg4Nm"
      },
      "source": [
        "1.h. (Free form) What would these observations imply in terms of where/how this model could be used?"
      ]
    },
    {
      "cell_type": "code",
      "execution_count": null,
      "metadata": {
        "id": "Ls5mzAmPg4WG"
      },
      "outputs": [],
      "source": [
        "### Q1-h Grading Tag: Please put your answer in this cell. Don't edit this line.\n",
        "\n",
        "### YOUR ANSWER HERE\n",
        "Based on the perplexity changes, we can see the model is now better in move-related text prediciton than for the Hugging Face text.\n",
        "### END YOUR ANSWER"
      ]
    },
    {
      "cell_type": "markdown",
      "metadata": {
        "id": "l9VdYiNgw_jm"
      },
      "source": [
        "## 2. Sentiment Classification of the IMDB Movie dataset using GPT2 and Prompts\n",
        "\n",
        "We will now get the IMDB dataset, just like we did in the PyTorch Intro II notebook. Refer to it for details."
      ]
    },
    {
      "cell_type": "code",
      "execution_count": 6,
      "metadata": {
        "id": "yU4fUhe6BEJZ",
        "colab": {
          "base_uri": "https://localhost:8080/",
          "height": 241,
          "referenced_widgets": [
            "8721548c62814709932620f4b5571371",
            "3d4597954ee9454dbaba4e50c18a7453",
            "f03d9f50678544e2899a67c5538ce34a",
            "9ccd5e931163425885dfd2904950dbd4",
            "3195b281eaba4362942118f6d2fdd11d",
            "e1d4f29a38154ed2b1b821369428bbf0",
            "fe9f4b97aa4e4eadbe1f07ef73d8f161",
            "ded597cef2cf46ef8b46430a2ff7ed85",
            "9550508208a742d6b3d14c98756f9001",
            "e57d82ad409e4900a953c4f5d9223482",
            "a01dc417d05c4615ad2feda674c3e418",
            "d0cd2764a40f4f619a9133a4494f39d4",
            "100b17c34a2a4a7fa446796f3d0b5be5",
            "e7112055b4fb45288c4290c920ed2ac4",
            "631776ef94b6470995a4ba6dacbe68bd",
            "3148a6653dfc4c16b5f3619f04b9f162",
            "03df26284f6249ccab56250cf7317e7a",
            "2dd90c829dde40d6ac5c18898d6de8e0",
            "16c6fbabb5594d64a9b1f4ccfc0252ad",
            "c60518020dd74c48b087a87ee74f0e69",
            "117e5e5857a049cfb8d0e5f2f8d9f316",
            "3054b4e774264bf09ab12abc0fedc89a",
            "0b03161d28d44f91a9ac7871c13c7d1e",
            "b6d82c6d27e142ceb38b6cc2acddd551",
            "02926ffc6fe844f5a6ccd31e39e1860e",
            "1ccaae4e713f480eb1aa01d868de5177",
            "d47398db44df49bba2bfb5793095d302",
            "db1c861d02234312be19c169c6c4e08d",
            "aa22d328f0f94e8782bcd1b1c7a1b2c6",
            "93087d9c6bce4ae6a3f78ea1f3a17d27",
            "36a6290e1ee447b3b745578cad107958",
            "3ecc6eb7ac814c518acf1a7d1b340033",
            "6881cb1c2c0d4d8e9a3e7d8bde85638e",
            "d26ec0d77d8d4a04ba040a960940c7bb",
            "13e4db3f464846b389ae38315832c980",
            "a4ceef7219d74899a6d1d085ba6d09e4",
            "e6e864dcccf741fc8dbc23ce2ef49a95",
            "2b4111bf80cf458392ce9a925bb91937",
            "62ae19af969e473ea4c74e80cc09cbc4",
            "a9cc8f5b40d2497e9013d7fc8b966db6",
            "91356ac4454b4248b55f32b02a8c3e30",
            "3eb833dd29c14b14b198411b8f3e5c49",
            "e9cbf1772dfe47c4916a54f4bd4d336a",
            "dddaf441dbb94731ad968c626533453a",
            "c2158b69ffad4439b1ce663553bc24aa",
            "41bf5777bbfe48f2bb80d261d7f0a273",
            "64d610b5912a445ab609f17c662f4e1f",
            "cef62665867c44e4a3a53c196e7ad08c",
            "5ae34ee0b7cb4571bad07a9ddce9707c",
            "a49ce304794e44a4a1d94a05c6df7ab3",
            "b75c41d552774daca9614a56328dddd8",
            "31df007be9d84fab82f4577620af27b7",
            "890b06ad13fc4958a43648a9071dfbe6",
            "a4729d3d12504c8c98e60ba25140260d",
            "d8618ac6260e46cfa5c65f6d2126e4bb",
            "1ffa08796c4242c99e98e770294262b7",
            "a39fc1a7af7941928a433daf7b0643aa",
            "27e0a478d83b4f7abb85b432a3443c38",
            "73de378024f449639798230fd752f86f",
            "c3a166fe38c842a493f6c4060c485d8d",
            "87648c8572764f7ca278d60d3279ac7c",
            "a531fbb33a1b4891ad91790e45ef43a5",
            "1f42bee42a1f4d62b7c9ac9e70cbef4b",
            "a387cb2ef1ff461f90e2d0de2de65365",
            "658a3182c1014dc4a15dcc34dcd1d35b",
            "f3aa5fa8869d4042a4e5a9d4843d43a9",
            "42be0a2df85644bcbd917d51ae297f9e",
            "1bdca14bd48e4b1987b2e917410f1653",
            "2f060a0872a644ebbb8e9b5af7001729",
            "ba0e8b4046134ea69a9350a353bbdbd5",
            "1ed28d535e7f4361ab80546cbe3dcb8b",
            "66f3012f0a9f43329744f9a5850e0967",
            "9200bf81ff664a3da9cd9919f9721dba",
            "96be178b00ff4658adfc7156fbc7774a",
            "ac5bc7c4cb864190b68f041178d20aa6",
            "40e2f78fffdd439aa73d964b25d47650",
            "23d04a9788cc453f83867c2d14f7c57e"
          ]
        },
        "outputId": "b78a62ab-e307-4840-8768-de513ee11f30"
      },
      "outputs": [
        {
          "output_type": "display_data",
          "data": {
            "text/plain": [
              "README.md:   0%|          | 0.00/7.81k [00:00<?, ?B/s]"
            ],
            "application/vnd.jupyter.widget-view+json": {
              "version_major": 2,
              "version_minor": 0,
              "model_id": "8721548c62814709932620f4b5571371"
            }
          },
          "metadata": {}
        },
        {
          "output_type": "display_data",
          "data": {
            "text/plain": [
              "train-00000-of-00001.parquet:   0%|          | 0.00/21.0M [00:00<?, ?B/s]"
            ],
            "application/vnd.jupyter.widget-view+json": {
              "version_major": 2,
              "version_minor": 0,
              "model_id": "d0cd2764a40f4f619a9133a4494f39d4"
            }
          },
          "metadata": {}
        },
        {
          "output_type": "display_data",
          "data": {
            "text/plain": [
              "test-00000-of-00001.parquet:   0%|          | 0.00/20.5M [00:00<?, ?B/s]"
            ],
            "application/vnd.jupyter.widget-view+json": {
              "version_major": 2,
              "version_minor": 0,
              "model_id": "0b03161d28d44f91a9ac7871c13c7d1e"
            }
          },
          "metadata": {}
        },
        {
          "output_type": "display_data",
          "data": {
            "text/plain": [
              "unsupervised-00000-of-00001.parquet:   0%|          | 0.00/42.0M [00:00<?, ?B/s]"
            ],
            "application/vnd.jupyter.widget-view+json": {
              "version_major": 2,
              "version_minor": 0,
              "model_id": "d26ec0d77d8d4a04ba040a960940c7bb"
            }
          },
          "metadata": {}
        },
        {
          "output_type": "display_data",
          "data": {
            "text/plain": [
              "Generating train split:   0%|          | 0/25000 [00:00<?, ? examples/s]"
            ],
            "application/vnd.jupyter.widget-view+json": {
              "version_major": 2,
              "version_minor": 0,
              "model_id": "c2158b69ffad4439b1ce663553bc24aa"
            }
          },
          "metadata": {}
        },
        {
          "output_type": "display_data",
          "data": {
            "text/plain": [
              "Generating test split:   0%|          | 0/25000 [00:00<?, ? examples/s]"
            ],
            "application/vnd.jupyter.widget-view+json": {
              "version_major": 2,
              "version_minor": 0,
              "model_id": "1ffa08796c4242c99e98e770294262b7"
            }
          },
          "metadata": {}
        },
        {
          "output_type": "display_data",
          "data": {
            "text/plain": [
              "Generating unsupervised split:   0%|          | 0/50000 [00:00<?, ? examples/s]"
            ],
            "application/vnd.jupyter.widget-view+json": {
              "version_major": 2,
              "version_minor": 0,
              "model_id": "42be0a2df85644bcbd917d51ae297f9e"
            }
          },
          "metadata": {}
        }
      ],
      "source": [
        "imdb_dataset = load_dataset(\"IMDB\")"
      ]
    },
    {
      "cell_type": "code",
      "execution_count": 7,
      "metadata": {
        "id": "zF3CSiIKD752",
        "colab": {
          "base_uri": "https://localhost:8080/"
        },
        "outputId": "43df895b-cedb-4e62-ca51-1dd0034da3ab"
      },
      "outputs": [
        {
          "output_type": "execute_result",
          "data": {
            "text/plain": [
              "{'text': 'It was great to see some of my favorite stars of 30 years ago including John Ritter, Ben Gazarra and Audrey Hepburn. They looked quite wonderful. But that was it. They were not given any characters or good lines to work with. I neither understood or cared what the characters were doing.<br /><br />Some of the smaller female roles were fine, Patty Henson and Colleen Camp were quite competent and confident in their small sidekick parts. They showed some talent and it is sad they didn\\'t go on to star in more and better films. Sadly, I didn\\'t think Dorothy Stratten got a chance to act in this her only important film role.<br /><br />The film appears to have some fans, and I was very open-minded when I started watching it. I am a big Peter Bogdanovich fan and I enjoyed his last movie, \"Cat\\'s Meow\" and all his early ones from \"Targets\" to \"Nickleodeon\". So, it really surprised me that I was barely able to keep awake watching this one.<br /><br />It is ironic that this movie is about a detective agency where the detectives and clients get romantically involved with each other. Five years later, Bogdanovich\\'s ex-girlfriend, Cybil Shepherd had a hit television series called \"Moonlighting\" stealing the story idea from Bogdanovich. Of course, there was a great difference in that the series relied on tons of witty dialogue, while this tries to make do with slapstick and a few screwball lines.<br /><br />Bottom line: It ain\\'t no \"Paper Moon\" and only a very pale version of \"What\\'s Up, Doc\".',\n",
              " 'label': 0}"
            ]
          },
          "metadata": {},
          "execution_count": 7
        }
      ],
      "source": [
        "imdb_dataset['train'][10]"
      ]
    },
    {
      "cell_type": "code",
      "execution_count": 8,
      "metadata": {
        "id": "S5UaatHFEjEK",
        "colab": {
          "base_uri": "https://localhost:8080/"
        },
        "outputId": "fe7238dd-ce0c-40f4-ea31-322555a40d03"
      },
      "outputs": [
        {
          "output_type": "stream",
          "name": "stdout",
          "text": [
            "positive:  12500\n",
            "negative:  12500\n",
            "other:  0\n",
            "positive:  12500\n",
            "negative:  12500\n",
            "other:  0\n"
          ]
        }
      ],
      "source": [
        "imdb_train_set = create_temp_set(imdb_dataset['train'])\n",
        "imdb_test_set = create_temp_set(imdb_dataset['test'])"
      ]
    },
    {
      "cell_type": "markdown",
      "metadata": {
        "id": "XOzsNC6aFtrJ"
      },
      "source": [
        "Usually we would first get the Dataset and the Dataloader, however for reasons that hopefully become apparent, in this case we first want to build the network. You should think of the network as taking input_ids $x$ from a batch of suitably tokenized sentences, and the **output should be the logits of the last token for each example in the batch.**\n",
        "\n",
        "Please fill in the missing line:"
      ]
    },
    {
      "cell_type": "code",
      "execution_count": 9,
      "metadata": {
        "id": "ZGSGslw1BJtk"
      },
      "outputs": [],
      "source": [
        "%%capture\n",
        "\n",
        "class TokenPredictionNetworkClass(torch.nn.Module):\n",
        "    \"\"\"\n",
        "    Define a simple PyTorch network that takes a batch (from a Dataloader)\n",
        "    as input and returns the logits for the last next-token prediction.\n",
        "    When instantiated, you need to pass in a pretrained base language model\n",
        "    (the 'logit_model').\n",
        "    You need to define both, the __init__ and the forward methods.\n",
        "    \"\"\"\n",
        "\n",
        "    def __init__(self, logit_model):\n",
        "        ### YOUR CODE HERE\n",
        "        super().__init__()\n",
        "        self.logit_model = logit_model\n",
        "        ### END YOUR CODE\n",
        "\n",
        "    def forward(self, x):\n",
        "        # get the logits for the last position of each each example. (Call them last_token_logits.). This will be just one line.\n",
        "        # Use self.logit_model(x) to get the model output\n",
        "        ### YOUR CODE HERE\n",
        "        last_token_logits = self.logit_model(x).logits[:, -1, :]\n",
        "        ### END YOUR CODE\n",
        "\n",
        "        return last_token_logits\n",
        "\n",
        "\n",
        "loss_fn = torch.nn.CrossEntropyLoss()\n",
        "\n",
        "token_prediction_network_base_model = TokenPredictionNetworkClass(logit_model=base_gpt2_model)\n",
        "token_prediction_network_addnl_pretrain_model = TokenPredictionNetworkClass(logit_model=additinal_pretrain_gpt2_model)\n",
        "\n",
        "token_prediction_network_base_model.to(device)\n",
        "token_prediction_network_addnl_pretrain_model.to(device)"
      ]
    },
    {
      "cell_type": "markdown",
      "metadata": {
        "id": "Dad6GNLWBdvb"
      },
      "source": [
        "We now construct our training and test sets for the Sentiment Classification. We want to follow a different approach than we have in the PyTorch intro II notebook. We want to leverage the language model and what it is good at - predicting the next tokens - to the maximum. So why not put a 'wrapper' around the review in a way that the proper sentiment would be naturally the next word?\n",
        "\n",
        "As a simple example, rather than trying to use the last output vector and add a classification layer let's try to reframe the problem like this (as an illustrative example):\n",
        "\n",
        "  \n",
        " \"This is a review: <truncated review text>... The reviewer classifies reviews as good or bad. In this case they thought the movie was\"\n",
        "\n",
        " or\n",
        "\n",
        " \"This is a review: <truncated review text>... The reviewer has positive or negative sentiments about movies. In this case the sentiment was\"\n",
        "\n",
        " ...\n",
        "\n",
        " One would think that the LM should already do a decent job getting the proper sentiment simply using the next word prediction task it is trained on!\n",
        "\n",
        " How could we test this? We could simply consider the cross entropy loss for the next token relative to the actual sentiment, i.e. the next word we would expect for a positive or a negative review.\n",
        "\n",
        " So we can experient with:\n",
        "\n",
        " * The pre-fix before the review\n",
        " * The text after the review\n",
        " * The words we would expect for pos/neg reviews\n",
        "\n",
        "Try a few combinations and see which ones give you the lowest loss.\n",
        "\n",
        "**NOTE:** Usually we also would do a good chunk of text pre-processing (take out html, etc.), but for simplicity we will ignore this."
      ]
    },
    {
      "cell_type": "code",
      "execution_count": 10,
      "metadata": {
        "id": "o0yNQL1WFuJu"
      },
      "outputs": [],
      "source": [
        "class ClassificationData(Dataset):\n",
        "    def __init__(self,\n",
        "                 base_data,\n",
        "                 tokenizer,\n",
        "                 max_len,\n",
        "                 use_prompt=False,\n",
        "                 prompt_pre_text='',\n",
        "                 prompt_post_text='',\n",
        "                 classification_tokenset={1: 'good', 0: 'bad'},\n",
        "                 num_examples=-1):\n",
        "\n",
        "        self.max_len = max_len\n",
        "        self.tokenizer = tokenizer  # assume that padding token has already been added to tokenizer\n",
        "        self.data = []\n",
        "\n",
        "        # really  not ideal having to iterate through the whole set. But ok for this small data volume\n",
        "\n",
        "\n",
        "\n",
        "        for num_example, example in enumerate(base_data):\n",
        "\n",
        "            if num_examples != -1 and num_example >= num_examples:\n",
        "              break\n",
        "\n",
        "            if num_example == 0:\n",
        "              print(example)\n",
        "\n",
        "\n",
        "            token_encoder = self.tokenizer(example['text'])['input_ids']\n",
        "\n",
        "            if len(token_encoder) <= self.max_len:\n",
        "                continue    # avoids complications with short sentences. No padding is needed then.\n",
        "\n",
        "            truncated_encoding = token_encoder[:self.max_len]\n",
        "            truncated_example = tokenizer.decode(truncated_encoding) # reconstruct shortened review\n",
        "\n",
        "            # LLMs do next-word predictions. You may want to add a prompt that the model can work with!\n",
        "\n",
        "\n",
        "            if use_prompt:\n",
        "\n",
        "                additional_token_length = len(self.tokenizer(prompt_pre_text)['input_ids']) + len(self.tokenizer(prompt_post_text)['input_ids'])\n",
        "                cutoff = self.max_len + additional_token_length - 1\n",
        "\n",
        "                prompted_text_line = prompt_pre_text + truncated_example + prompt_post_text\n",
        "\n",
        "            else:\n",
        "                cutoff = self.max_len\n",
        "                prompted_text_line = truncated_example\n",
        "\n",
        "            if len(self.tokenizer(prompted_text_line)['input_ids']) != cutoff:\n",
        "                    continue\n",
        "\n",
        "\n",
        "\n",
        "            tokenized_example = self.tokenizer(prompted_text_line,\n",
        "                                               return_tensors=\"pt\",\n",
        "                                               max_length=cutoff,\n",
        "                                               truncation=True,\n",
        "                                               padding='max_length').to(device)\n",
        "\n",
        "            #if num_example == 0:\n",
        "            #  print(self.tokenizer.decode(tokenized_example['input_ids'][0]))\n",
        "\n",
        "            if example['label'] == 1:\n",
        "              token = classification_tokenset[1]\n",
        "            else:\n",
        "              token = classification_tokenset[0]\n",
        "\n",
        "            token_id = self.tokenizer.encode(' ' + token)[0]\n",
        "            label = torch.tensor(token_id, dtype=torch.int64, device=device)\n",
        "\n",
        "            self.data.append({'label': label,\n",
        "                              'input_ids': torch.squeeze(tokenized_example['input_ids']).to(device)\n",
        "                              })\n",
        "\n",
        "    def __len__(self):\n",
        "        return len(self.data)\n",
        "\n",
        "    def __getitem__(self, index):\n",
        "\n",
        "        return {\n",
        "            'input_ids': self.data[index]['input_ids'],\n",
        "            'label': self.data[index]['label']\n",
        "        }"
      ]
    },
    {
      "cell_type": "code",
      "execution_count": 11,
      "metadata": {
        "id": "lIavTztxFtrJ",
        "colab": {
          "base_uri": "https://localhost:8080/"
        },
        "outputId": "c2a7b4f8-1e8b-45fe-857b-77ca12db6251"
      },
      "outputs": [
        {
          "output_type": "stream",
          "name": "stdout",
          "text": [
            "{'text': \"Normally I would never rent a movie like this, because you know it's going to be bad just by looking at the box. I rented seven movies at the same time, including Nightmare on Elm Street 5, 6 and Wes Craven's New Nightmare. Unfortunately, when I got home I found out the videostore-guy gave me the wrong tape. In the box of Wes Craven's New Nightmare I found this lame movie.<br /><br />This movie is incredibly boring, the acting is bad and the plot doesn't make any sense. It's hard to write a good review, because I have no idea what the movie was really about. At the end of the movie you have more questions then answers.<br /><br />On 'Max Power's Scale of 1 to 10' I rate this movie: 1<br /><br />PS I would like to correct Corinthian's review (right below mine). He says Robert Englund is ripping off lingerie, riding horses naked, etc. The guy that did those things was Mahmoud, played by Juliano Mer, not by Robert Englund.\", 'label': 0}\n",
            "Average loss:  tensor(1.9067, device='cuda:0')\n",
            "Predicted tokens vs labels:  [('good', 'good'), ('good', 'bad'), ('good', 'good'), ('good', 'good'), ('good', 'bad'), ('good', 'good'), ('good', 'good'), ('good', 'good'), ('good', 'bad'), ('good', 'good'), ('a', 'bad'), ('a', 'good'), ('good', 'good'), ('good', 'bad'), ('good', 'good'), ('good', 'bad'), ('good', 'good'), ('good', 'good'), ('good', 'bad'), ('good', 'bad')]\n"
          ]
        }
      ],
      "source": [
        "#Suggested, but try a bunch!\n",
        "# prompt_pre_text = 'Here is a movie review: '\n",
        "# prompt_post_text = ' ...  The reviewer classifies reviews as good or bad. In this case they thought the movie was'\n",
        "# classification_tokenset = {1: 'good', 0: 'bad'}\n",
        "\n",
        "prompt_pre_text = 'movie review: '\n",
        "prompt_post_text = ' ...  The reviewer classifies reviews as good or bad. In this case they thought the movie was'\n",
        "classification_tokenset = {1: 'good', 0: 'bad'}\n",
        "\n",
        "# make a modification to the prompt_pre_text, prompt_post_text, and classification_tokenset\n",
        "# that gets the loss below 1.7\n",
        "\n",
        "### YOUR CODE HERE\n",
        "prompt_pre_text = 'movie review: '\n",
        "prompt_post_text = \" ... please follow the instructions 1) analyze the movie review and build a list of good and bad reasons what the reviewer thinks about this movie. 2) conclude the review sentiment as either good or bad. 3) Finally, tell me the reviewer thinks the movie was\"\n",
        "\n",
        "### END YOUR CODE\n",
        "\n",
        "play_data = ClassificationData(imdb_train_set,\n",
        "                                tokenizer=gpt_2_tokenizer,\n",
        "                                max_len=100,\n",
        "                                use_prompt=True,\n",
        "                                prompt_pre_text = prompt_pre_text,\n",
        "                                prompt_post_text = prompt_post_text,\n",
        "                                classification_tokenset=classification_tokenset,\n",
        "                                num_examples=20\n",
        "                                )\n",
        "\n",
        "batch_size = 4\n",
        "toy_texts = DataLoader(play_data, batch_size=batch_size, shuffle=True)\n",
        "\n",
        "\n",
        "loss = 0\n",
        "predicted_tokens = []\n",
        "labels = []\n",
        "\n",
        "for batch_num, toy_text_batch in enumerate(toy_texts):\n",
        "    sample_output = token_prediction_network_base_model(toy_text_batch['input_ids']).to(device)\n",
        "    sample_labels = toy_text_batch['label']\n",
        "    loss += loss_fn(sample_output, sample_labels).detach()\n",
        "\n",
        "    predicted_tokens += gpt_2_tokenizer.decode(torch.argmax(sample_output, dim=-1)).split()\n",
        "    labels += gpt_2_tokenizer.decode(sample_labels).split()\n",
        "\n",
        "loss /= (batch_num + 1)\n",
        "\n",
        "\n",
        "print('Average loss: ', loss)\n",
        "print('Predicted tokens vs labels: ', [(x, y) for x,y in zip(predicted_tokens, labels)])\n"
      ]
    },
    {
      "cell_type": "markdown",
      "metadata": {
        "id": "vB_NC-2yFtrJ"
      },
      "source": [
        "Ok, the accuracy using the old GPT2 is not exactly amazing (newer and larger models would be MUCH better out of the box). However, even for GPT2 at least a token of the right type is predicted. Fine-tuning should make this much better!\n",
        "\n",
        "\n",
        "**QUESTION:**\n",
        "\n",
        "2.a. Write down two different prompt_pre_text/prompt_post_text combinations and their respective average loss. Pick one that sounds reasonable but is quite a bit worse (say, average loss > 3), and another that gets the loss below 1.7. (Note, for the later you probably havde to counteract a bit the model's tendency to be positve. You may also want to be more clear where the review\n",
        "starts and ends.)"
      ]
    },
    {
      "cell_type": "code",
      "execution_count": null,
      "metadata": {
        "id": "7CD1XwvWh-vj"
      },
      "outputs": [],
      "source": [
        "### Q2-a Grading Tag: Please put your answer in this cell. Don't edit this line.\n",
        "\n",
        "### YOUR ANSWER HERE\n",
        "prompt_pre_text = 'movie review: '\n",
        "prompt_post_text = ' ...  after reading the movie review, the reviewer thinks the movie was'\n",
        "Average loss:  tensor(3.9204, device='cuda:0')\n",
        "\n",
        "prompt_pre_text = 'movie review: '\n",
        "prompt_post_text = ' ... please follow the instructions 1) analyze the movie review and build a list of good and bad reasons what the reviewer thinks about this movie. 2) conclude the review sentiment as either good or bad. 3) Finally, tell me the reviewer thinks the movie was'\n",
        "Average loss:  tensor(1.9067, device='cuda:0')\n",
        "\n",
        "### END YOUR ANSWER"
      ]
    },
    {
      "cell_type": "markdown",
      "metadata": {
        "id": "MEYWYxPnh6-x"
      },
      "source": [
        "Now let's do the fine-tuning that is supposed to help! Start by getting the full dataset and dataloaders:"
      ]
    },
    {
      "cell_type": "code",
      "execution_count": 12,
      "metadata": {
        "id": "6seAp7dmFtrJ",
        "colab": {
          "base_uri": "https://localhost:8080/"
        },
        "outputId": "868e15cd-7f35-4ae8-8388-da48fa52a665"
      },
      "outputs": [
        {
          "output_type": "stream",
          "name": "stdout",
          "text": [
            "{'text': \"Normally I would never rent a movie like this, because you know it's going to be bad just by looking at the box. I rented seven movies at the same time, including Nightmare on Elm Street 5, 6 and Wes Craven's New Nightmare. Unfortunately, when I got home I found out the videostore-guy gave me the wrong tape. In the box of Wes Craven's New Nightmare I found this lame movie.<br /><br />This movie is incredibly boring, the acting is bad and the plot doesn't make any sense. It's hard to write a good review, because I have no idea what the movie was really about. At the end of the movie you have more questions then answers.<br /><br />On 'Max Power's Scale of 1 to 10' I rate this movie: 1<br /><br />PS I would like to correct Corinthian's review (right below mine). He says Robert Englund is ripping off lingerie, riding horses naked, etc. The guy that did those things was Mahmoud, played by Juliano Mer, not by Robert Englund.\", 'label': 0}\n"
          ]
        },
        {
          "output_type": "stream",
          "name": "stderr",
          "text": [
            "Token indices sequence length is longer than the specified maximum sequence length for this model (1038 > 1024). Running this sequence through the model will result in indexing errors\n"
          ]
        },
        {
          "output_type": "stream",
          "name": "stdout",
          "text": [
            "{'text': \"I know most of the other reviews say that this movie was great, but I have to disagree.<br /><br />Sure, it's a good book! It was actually one of my favorites when I was verrry little. But it's just not meant for theaters. Maybe for a little half-hour short, but I don't see how they can turn a short kiddie book into a whole feature film.<br /><br />It is a cute movie, but I would only recommend it for really little kids. Older kids will have no interest it. Adults may have a little more interest if they watch it with their young ones. But anyone ages 7-Adult will have a snore-fest.<br /><br />Sorry if you disagree with me, but this is my opinion. :)\", 'label': 0}\n"
          ]
        }
      ],
      "source": [
        "imdb_train_data = ClassificationData(imdb_train_set,\n",
        "                                tokenizer=gpt_2_tokenizer,\n",
        "                                max_len=100,\n",
        "                                use_prompt=True,\n",
        "                                prompt_pre_text = prompt_pre_text,\n",
        "                                prompt_post_text = prompt_post_text,\n",
        "                                classification_tokenset=classification_tokenset,\n",
        "                                num_examples=-1\n",
        "                                )\n",
        "\n",
        "imdb_test_data = ClassificationData(imdb_test_set,\n",
        "                                tokenizer=gpt_2_tokenizer,\n",
        "                                max_len=100,\n",
        "                                use_prompt=True,\n",
        "                                prompt_pre_text = prompt_pre_text,\n",
        "                                prompt_post_text = prompt_post_text,\n",
        "                                classification_tokenset=classification_tokenset,\n",
        "                                num_examples=-1\n",
        "                                )\n",
        "\n",
        "\n",
        "batch_size = 4\n",
        "imdb_train_loader = DataLoader(imdb_train_data, batch_size=batch_size, shuffle=True)\n",
        "imdb_test_loader = DataLoader(imdb_train_data, batch_size=batch_size, shuffle=True)"
      ]
    },
    {
      "cell_type": "markdown",
      "metadata": {
        "id": "6lMTx6IUMFyv"
      },
      "source": [
        "Let's set up the optimizers as before:"
      ]
    },
    {
      "cell_type": "code",
      "execution_count": 13,
      "metadata": {
        "id": "Zer3mvWGK89C"
      },
      "outputs": [],
      "source": [
        "adam_optimizer_base_model = torch.optim.AdamW(token_prediction_network_base_model.parameters(), lr=0.00001)\n",
        "adam_optimizer_addtl_pretrain_model = torch.optim.AdamW(token_prediction_network_addnl_pretrain_model.parameters(), lr=0.00001)"
      ]
    },
    {
      "cell_type": "markdown",
      "metadata": {
        "id": "wA2F_LP-5Wqe"
      },
      "source": [
        "Here is the new training loop. Please fill in the lines for optimizer zeroing, the prediction calculation, and the loss."
      ]
    },
    {
      "cell_type": "code",
      "execution_count": 14,
      "metadata": {
        "id": "a5B2VrbX1uLN"
      },
      "outputs": [],
      "source": [
        "def train_loop(dataloader, model, loss_fn, optimizer, reporting_interval=100, steps=None):\n",
        "\n",
        "    \"\"\"\n",
        "    Write the training loop to fine-tune the model for sentiment\n",
        "    classification using the final next-token-prediction task.\n",
        "    In particular, you need to:\n",
        "    - initialize the epoch_loss to 0 and set the model into training mode\n",
        "    - iterate over the batches:\n",
        "      - break if you are at 'steps' number of batches\n",
        "      - get the inputs X and labels y (which in this case will be the actual next token)\n",
        "      - get the model outputs\n",
        "      - reshape y and model outputs in proper format for cross entropy calculation\n",
        "      - zero out the gradient\n",
        "      - calculate loss\n",
        "      - propagate loss (loss.backward) and apply optimizer step\n",
        "      - add the loss to the epoch_loss\n",
        "    Reporting:\n",
        "      - report the current average loss every 'reporting_interval' batches\n",
        "      - report the average loss at the end of the epoch (done for you)\n",
        "\n",
        "    \"\"\"\n",
        "\n",
        "    ### YOUR CODE HERE\n",
        "    epoch_loss = 0\n",
        "    model.train()\n",
        "\n",
        "    for batch, data in enumerate(dataloader):\n",
        "        if (steps is not None) and (batch >= steps):\n",
        "          break\n",
        "\n",
        "        inputs = data['input_ids']\n",
        "        labels = data['label']\n",
        "        outputs = model(inputs)\n",
        "        reshaped_outputs = outputs.view(-1, outputs.shape[-1])\n",
        "        reshaped_labels = labels.view(-1)\n",
        "\n",
        "        optimizer.zero_grad()\n",
        "\n",
        "        loss = loss_fn(reshaped_outputs, reshaped_labels)\n",
        "        loss.backward()\n",
        "        optimizer.step()\n",
        "        epoch_loss += loss.item()\n",
        "        if ((batch+1) % reporting_interval) == 0:\n",
        "            avg_loss = epoch_loss/(batch+1)\n",
        "            print(f\"Batch {batch + 1}: Avg Loss = {avg_loss:>8f}\")\n",
        "    ### END YOUR CODE\n",
        "\n",
        "    print(f\"Training Results: \\n  Avg train loss: {epoch_loss/batch:>8f} \\n\")\n",
        "\n",
        "\n",
        "def test_loop(dataloader, model, loss_fn, reporting_interval=100, contrast_pair=None,steps=None):\n",
        "    \"\"\"\n",
        "    Write the test loop to fine-tune the model for sentiment classification using the final next-token-prediction task.\n",
        "    In particular, you need to:\n",
        "\n",
        "    - set the model into eval mode and initialize the test_loss to 0. Also, set the number of correct &\n",
        "      total test examples to 0, like:\n",
        "      'test_loss, correct_token_predictions,  correct_label_class, total = 0, 0, 0, 0'\n",
        "        (See the two approaches for accuracy below for correct_token_predictions\n",
        "        and correct_label_class)\n",
        "\n",
        "    - use torch.no_grad to iterate over the batches:\n",
        "        - break if you are at 'steps' number of batches\n",
        "        - from the batch, get the test inputs X and labels y (which in this case will be the actual next token). You may want to look at the format of batches by using 'next(iter(imdb_test_loader))' in a separate cell\n",
        "        - get the model outputs\n",
        "        - calculate loss and add to test_loss (reshaping should not be necessary)\n",
        "        - For the accuracy, we can try two approaches (and in this case they should turn out to be\n",
        "            probably the same in the end):\n",
        "              i) Test Class Accuracy:\n",
        "                  - Define the predicted class (I call it selected class) by comparing the logits for our two\n",
        "                    'evaluating tokens' (like 'good', 'bad'). if the logit for (in this example) 'good' is higher,\n",
        "                    then the predicted class is the positive one, etc.\n",
        "              ii)  Token Prediction Accuracy:\n",
        "                  - see how often the correct 'evaluation token' is predicted. I.e., here we do not compare\n",
        "                    whether the model believes that 'good' is a more likely next token than 'bad', but was\n",
        "                    'good' the actual next token prediction (and vise versa).\n",
        "              - get these numbers for each batch and add to the totals\n",
        "\n",
        "    - add the loss to the epoch_loss\n",
        "\n",
        "    Reporting:\n",
        "\n",
        "    - report on the average token accuracy, average class accuracy and average test loss every 'reporting_interval' batches\n",
        "    - report on the same at the end (done for you)\n",
        "\n",
        "    \"\"\"\n",
        "\n",
        "    # let's get the proper class ids for the 'evaluating next tokens' (like 'good', 'bad')\n",
        "\n",
        "    if contrast_pair is not None:\n",
        "      class_1, class_2 = contrast_pair\n",
        "      class_1_id, class_2_id = gpt_2_tokenizer.encode(' ' + class_1 + ' ' + class_2)\n",
        "\n",
        "    # now the loop starts:\n",
        "\n",
        "    ### YOUR CODE HERE\n",
        "    model.eval()\n",
        "    test_loss, correct_token_predictions, correct_label_class, total = 0, 0, 0, 0\n",
        "\n",
        "    with torch.no_grad():\n",
        "      for batch, data in enumerate(dataloader):\n",
        "        if (steps is not None) and (batch >= steps):\n",
        "          break\n",
        "\n",
        "        inputs = data['input_ids']\n",
        "        labels = data['label']\n",
        "        outputs = model(inputs)\n",
        "\n",
        "        loss = loss_fn(outputs, labels)\n",
        "        test_loss += loss.item()\n",
        "\n",
        "        predicted_tokens = torch.argmax(outputs, dim=-1)\n",
        "        correct_token_predictions += (predicted_tokens == labels).sum().item()\n",
        "        total += len(labels)\n",
        "\n",
        "        if contrast_pair is not None:\n",
        "          select_class = torch.argmax(outputs[:, [class_1_id, class_2_id]], dim=-1)\n",
        "          correct_label_class += (select_class == labels).sum().item()\n",
        "\n",
        "\n",
        "    correct = correct_token_predictions / total\n",
        "    test_loss /= batch\n",
        "    ### END YOUR CODE\n",
        "\n",
        "    print(correct_label_class)\n",
        "    print(f\"Test Results: \\n\\t Test Token Accuracy: {(100*correct):>0.1f}% \\n\\t Test Class Accuracy: {(100*correct_label_class):>0.1f}%  \\n\\t Avg test loss: {test_loss:>8f} \\n\")"
      ]
    },
    {
      "cell_type": "code",
      "execution_count": 15,
      "metadata": {
        "id": "tfYYfoCK1uOX",
        "colab": {
          "base_uri": "https://localhost:8080/"
        },
        "outputId": "06eb8630-d006-4f80-c781-c10ef8b97d2c"
      },
      "outputs": [
        {
          "output_type": "stream",
          "name": "stdout",
          "text": [
            "Epoch 1\n",
            "-------------------------------\n",
            "Batch 100: Avg Loss = 0.654454\n",
            "Batch 200: Avg Loss = 0.609201\n",
            "Batch 300: Avg Loss = 0.549867\n",
            "Batch 400: Avg Loss = 0.529232\n",
            "Batch 500: Avg Loss = 0.512115\n",
            "Batch 600: Avg Loss = 0.498437\n",
            "Batch 700: Avg Loss = 0.480124\n",
            "Batch 800: Avg Loss = 0.474640\n",
            "Batch 900: Avg Loss = 0.469912\n",
            "Batch 1000: Avg Loss = 0.461059\n",
            "Batch 1100: Avg Loss = 0.454758\n",
            "Batch 1200: Avg Loss = 0.446707\n",
            "Batch 1300: Avg Loss = 0.445171\n",
            "Batch 1400: Avg Loss = 0.443113\n",
            "Batch 1500: Avg Loss = 0.440626\n",
            "Batch 1600: Avg Loss = 0.435427\n",
            "Batch 1700: Avg Loss = 0.430572\n",
            "Batch 1800: Avg Loss = 0.425561\n",
            "Batch 1900: Avg Loss = 0.421799\n",
            "Batch 2000: Avg Loss = 0.420194\n",
            "Training Results: \n",
            "  Avg train loss: 0.420194 \n",
            "\n",
            "0\n",
            "Test Results: \n",
            "\t Test Token Accuracy: 83.7% \n",
            "\t Test Class Accuracy: 0.0%  \n",
            "\t Avg test loss: 0.367876 \n",
            "\n",
            "Done!\n"
          ]
        }
      ],
      "source": [
        "epochs = 1\n",
        "for t in range(epochs):\n",
        "    print(f\"Epoch {t+1}\\n-------------------------------\")\n",
        "    train_loop(imdb_train_loader, token_prediction_network_base_model, loss_fn, adam_optimizer_base_model, steps=2000)\n",
        "    test_loop(imdb_test_loader, token_prediction_network_base_model, loss_fn, contrast_pair=('good', 'bad'),\n",
        "              steps=500\n",
        "              ) # no optimizer use here!\n",
        "print(\"Done!\")"
      ]
    },
    {
      "cell_type": "markdown",
      "metadata": {
        "id": "MkfPjUBE8JWu"
      },
      "source": [
        "**QUESTION:**\n",
        "\n",
        "2.b. What was your test accuracy after fine-tuning, when starting with the base model?"
      ]
    },
    {
      "cell_type": "code",
      "execution_count": null,
      "metadata": {
        "id": "tKxtT88eiVtJ"
      },
      "outputs": [],
      "source": [
        "### Q2-b Grading Tag: Please put your answer in this cell. Don't edit this line.\n",
        "\n",
        "### YOUR ANSWER HERE\n",
        "83.7%\n",
        "### END YOUR ANSWER"
      ]
    },
    {
      "cell_type": "markdown",
      "metadata": {
        "id": "cxWvZSg4WAzj"
      },
      "source": [
        "Now we redo this for the model that saw the additional pre-training:"
      ]
    },
    {
      "cell_type": "code",
      "execution_count": 16,
      "metadata": {
        "id": "O20xrf0gmscR",
        "colab": {
          "base_uri": "https://localhost:8080/"
        },
        "outputId": "9e8a285d-d926-4d94-c5f2-85e3e790dec5"
      },
      "outputs": [
        {
          "output_type": "stream",
          "name": "stdout",
          "text": [
            "Epoch 1\n",
            "-------------------------------\n",
            "Batch 100: Avg Loss = 0.711115\n",
            "Batch 200: Avg Loss = 0.624203\n",
            "Batch 300: Avg Loss = 0.586775\n",
            "Batch 400: Avg Loss = 0.565451\n",
            "Batch 500: Avg Loss = 0.536677\n",
            "Batch 600: Avg Loss = 0.528549\n",
            "Batch 700: Avg Loss = 0.513788\n",
            "Batch 800: Avg Loss = 0.495331\n",
            "Batch 900: Avg Loss = 0.487556\n",
            "Batch 1000: Avg Loss = 0.478311\n",
            "Batch 1100: Avg Loss = 0.473727\n",
            "Batch 1200: Avg Loss = 0.469093\n",
            "Batch 1300: Avg Loss = 0.462786\n",
            "Batch 1400: Avg Loss = 0.460106\n",
            "Batch 1500: Avg Loss = 0.455041\n",
            "Batch 1600: Avg Loss = 0.447163\n",
            "Batch 1700: Avg Loss = 0.444076\n",
            "Batch 1800: Avg Loss = 0.442056\n",
            "Batch 1900: Avg Loss = 0.435227\n",
            "Batch 2000: Avg Loss = 0.431477\n",
            "Training Results: \n",
            "  Avg train loss: 0.431477 \n",
            "\n",
            "0\n",
            "Test Results: \n",
            "\t Test Token Accuracy: 85.7% \n",
            "\t Test Class Accuracy: 0.0%  \n",
            "\t Avg test loss: 0.319492 \n",
            "\n",
            "Done!\n"
          ]
        }
      ],
      "source": [
        "epochs = 1\n",
        "for t in range(epochs):\n",
        "    print(f\"Epoch {t+1}\\n-------------------------------\")\n",
        "    train_loop(imdb_train_loader, token_prediction_network_addnl_pretrain_model, loss_fn, adam_optimizer_addtl_pretrain_model, steps=2000)\n",
        "    test_loop(imdb_test_loader, token_prediction_network_addnl_pretrain_model, loss_fn, contrast_pair=('good', 'bad'),\n",
        "              steps=500\n",
        "              ) # no optimizer use here!\n",
        "print(\"Done!\")"
      ]
    },
    {
      "cell_type": "markdown",
      "metadata": {
        "id": "221hDSFSaiee"
      },
      "source": [
        "This looks good! So we had better movie review sentiment classification using the model had had seen the additional pretraining.\n"
      ]
    },
    {
      "cell_type": "markdown",
      "metadata": {
        "id": "RGt5EUN2iV1i"
      },
      "source": [
        "**QUESTION:**\n",
        "\n",
        "2.c. What was your test accuracy after fine-tuning, when starting with the model that had additional pre-training?"
      ]
    },
    {
      "cell_type": "code",
      "execution_count": null,
      "metadata": {
        "id": "k4urQlZKiV8v"
      },
      "outputs": [],
      "source": [
        "### Q2-c Grading Tag: Please put your answer in this cell. Don't edit this line.\n",
        "\n",
        "### YOUR ANSWER HERE\n",
        "85.7%\n",
        "### END YOUR ANSWER"
      ]
    },
    {
      "cell_type": "markdown",
      "metadata": {
        "id": "onqyZaW1iWC_"
      },
      "source": [
        "2.d. Based on this and what we saw in the previous section (and, as there are statistical fluctuations, based on what 'should' be the case), what would be your expectation for these two starting models when used for sentiment analysis tasks that deal with data **inside** the movie domain? ('base model slightly better', or 'additional pretrain model slightly better')"
      ]
    },
    {
      "cell_type": "code",
      "execution_count": null,
      "metadata": {
        "id": "SBQdmmNfiWLZ"
      },
      "outputs": [],
      "source": [
        "### Q2-d Grading Tag: Please put your answer in this cell. Don't edit this line.\n",
        "\n",
        "### YOUR ANSWER HERE\n",
        "the additional pretrain model slightly better.\n",
        "### END YOUR ANSWER"
      ]
    },
    {
      "cell_type": "markdown",
      "metadata": {
        "id": "GrpNZT03iWS2"
      },
      "source": [
        "2.e. Based on this and what we saw in the previous section (and, as there are statistical fluctuations, based on what 'should' be the case), what would be your expectation for these two starting models when used for sentiment analysis tasks that deal with data  **outside** the movie domain? ('base model slightly better', or 'additional pretrain model slightly better')"
      ]
    },
    {
      "cell_type": "code",
      "execution_count": null,
      "metadata": {
        "id": "58K0RCyqiWdL"
      },
      "outputs": [],
      "source": [
        "### Q2-e Grading Tag: Please put your answer in this cell. Don't edit this line.\n",
        "\n",
        "### YOUR ANSWER HERE\n",
        "base model slightly better.\n",
        "### END YOUR ANSWER"
      ]
    },
    {
      "cell_type": "markdown",
      "metadata": {
        "id": "UyUulgoDuf0_"
      },
      "source": [
        "## 3. Sentiment Classification with BERT\n",
        "\n",
        "Now we will see how well the classification with BERT works in comparison. We will get the model tokenizer for that model, then - as discussed in class - use the output of the initial [CLS] token to classify the sentiment. Will it be better? Or worse?\n",
        "\n",
        "See https://huggingface.co/docs/transformers/model_doc/bert#transformers.BertModel for more details around the model.\n",
        "\n"
      ]
    },
    {
      "cell_type": "code",
      "execution_count": 17,
      "metadata": {
        "id": "vU5Aa6nY1vrM"
      },
      "outputs": [],
      "source": [
        "%%capture\n",
        "\n",
        "from transformers import AutoTokenizer, BertModel\n",
        "\n",
        "\n",
        "bert_tokenizer = AutoTokenizer.from_pretrained(\"bert-base-cased\")\n",
        "bert_model = BertModel.from_pretrained(\"bert-base-cased\").to(device)"
      ]
    },
    {
      "cell_type": "markdown",
      "metadata": {
        "id": "ZrILbM7Tuf0_"
      },
      "source": [
        "Let us look at a simple bert tokenization"
      ]
    },
    {
      "cell_type": "code",
      "execution_count": 18,
      "metadata": {
        "id": "d63Uoyx_gbiP",
        "colab": {
          "base_uri": "https://localhost:8080/"
        },
        "outputId": "31758936-8543-4582-810d-adab5d12b9cf"
      },
      "outputs": [
        {
          "output_type": "execute_result",
          "data": {
            "text/plain": [
              "torch.Size([1, 5, 768])"
            ]
          },
          "metadata": {},
          "execution_count": 18
        }
      ],
      "source": [
        "bert_toy_inputs = bert_tokenizer(\"This is new\", return_tensors=\"pt\").to(device)\n",
        "bert_toy_outputs = bert_model(**bert_toy_inputs)\n",
        "\n",
        "last_hidden_states = bert_toy_outputs.last_hidden_state\n",
        "\n",
        "last_hidden_states.shape"
      ]
    },
    {
      "cell_type": "markdown",
      "metadata": {
        "id": "7g-wccv3STm0"
      },
      "source": [
        "Play with decode method of the tokenizer to see why the shape is ... x 5 x ... . Then identify the first value of the output of the [CLS] token."
      ]
    },
    {
      "cell_type": "code",
      "execution_count": 19,
      "metadata": {
        "id": "_W0c0wJ1Rwjf",
        "colab": {
          "base_uri": "https://localhost:8080/"
        },
        "outputId": "b695457f-8b17-4ebf-f0f0-3de3d930cef4"
      },
      "outputs": [
        {
          "output_type": "stream",
          "name": "stdout",
          "text": [
            "The tokens after tokenization:  [CLS] This is new [SEP]\n"
          ]
        }
      ],
      "source": [
        "# Decode the tokenization. Call it bert_toy_tokens.\n",
        "### YOUR CODE HERE\n",
        "bert_toy_tokens = bert_tokenizer.decode(bert_toy_inputs['input_ids'][0])\n",
        "### END YOUR CODE\n",
        "print('The tokens after tokenization: ', bert_toy_tokens)"
      ]
    },
    {
      "cell_type": "markdown",
      "metadata": {
        "id": "I8QxOlH7XtoT"
      },
      "source": [
        "**QUESTION:**\n",
        "\n",
        "3.a Why is the shape .. x 5 x ... and not .. x 3 x ... ? Explain. (You may need to to look up what the purpose is of one of the extra tokens. Don't write more than 2-3 lines.)"
      ]
    },
    {
      "cell_type": "code",
      "execution_count": null,
      "metadata": {
        "id": "Q-Lc1ysqi9_n"
      },
      "outputs": [],
      "source": [
        "### Q3-a Grading Tag: Please put your answer in this cell. Don't edit this line. (THIS IS NOT AN AUTOGRADER QUESTION)\n",
        "\n",
        "### YOUR ANSWER HERE\n",
        "The input contains 2 extra tokens, [CLS] and [SEP]. [CLS] added at the beginning of the input sequence and [SEP] used to separate different texts within input sequence.\n",
        "### END YOUR ANSWER"
      ]
    },
    {
      "cell_type": "code",
      "execution_count": 20,
      "metadata": {
        "id": "lIjgqCXdRwvL",
        "colab": {
          "base_uri": "https://localhost:8080/"
        },
        "outputId": "918a4968-ebd1-4bd9-ba71-15240a065889"
      },
      "outputs": [
        {
          "output_type": "stream",
          "name": "stdout",
          "text": [
            "First output of [CLS] token:  tensor([ 4.7248e-01,  1.7685e-01,  5.4234e-01, -5.4906e-01, -1.1503e-01,\n",
            "         1.1630e-01,  4.2311e-01,  2.2489e-02, -1.9720e-01, -9.8925e-01,\n",
            "        -4.3665e-01,  3.0220e-01, -4.5189e-01,  1.0892e-01, -6.0474e-01,\n",
            "         2.3494e-01,  1.0624e-01,  3.3463e-01,  9.6197e-02, -7.3822e-02,\n",
            "         1.8399e-01, -2.7128e-01,  6.3856e-01, -2.2248e-01,  4.8449e-01,\n",
            "        -2.6155e-01,  6.0228e-01,  1.4545e-01,  4.9358e-02,  4.4853e-01,\n",
            "        -5.3474e-02,  6.7214e-02,  4.8560e-02, -6.9567e-02,  3.0451e-02,\n",
            "        -1.2569e-01,  1.5189e-02, -6.5966e-01, -5.1185e-03, -1.5514e-01,\n",
            "        -5.0256e-01,  2.3907e-01,  2.9280e-01, -1.1793e-01,  5.0254e-01,\n",
            "        -7.8381e-01, -8.3310e-02, -1.2723e-01, -4.2026e-01,  1.1898e-01,\n",
            "         7.1867e-02,  1.9298e-01, -5.5773e-02,  3.2795e-01, -5.6385e-03,\n",
            "        -1.5043e-01, -5.4290e-01,  3.0932e-01, -5.1025e-01,  2.8927e-01,\n",
            "         1.8317e-01, -4.7179e-03,  4.0482e-01, -2.3335e-03, -5.9042e-02,\n",
            "        -9.0398e-02, -8.2895e-02,  1.5881e-01, -4.7864e-01, -2.8077e-01,\n",
            "        -1.0255e-01,  1.9993e-01,  4.3991e-01,  1.0241e+00,  4.6022e-01,\n",
            "        -2.7858e-01,  3.4326e-01,  3.9601e-01,  5.6149e-02,  8.6239e-02,\n",
            "         2.6598e-01,  4.4734e-01, -2.9577e-02, -2.6248e-01,  9.4554e-02,\n",
            "        -8.9572e-03,  4.1349e-01, -5.2663e-02, -1.4059e-01,  3.5523e-01,\n",
            "         2.5458e-01, -1.1831e-01, -7.5502e-01, -2.9882e-01,  4.3147e-02,\n",
            "         3.6292e-01,  1.7790e-02,  1.8058e-01,  6.1829e+00, -1.4481e-01,\n",
            "         1.3347e-01, -9.4680e-02,  7.5315e-01,  5.9179e-02,  6.0372e-01,\n",
            "        -9.9446e-02, -1.6166e-02, -1.1691e-01,  2.7946e-01,  4.6337e-01,\n",
            "         2.8236e-01, -3.4459e-01,  9.7477e-02, -2.9536e-01, -2.5241e-01,\n",
            "        -2.4220e-01, -6.8551e-02,  4.2699e-01,  1.9218e-01, -3.3008e-01,\n",
            "         1.5981e-01,  1.1538e-01,  1.3907e+00,  3.4374e-01, -3.4655e-01,\n",
            "        -1.4068e-01, -2.8949e-01,  3.7642e-02,  2.3393e-01, -3.2027e-01,\n",
            "        -4.8399e-01, -4.5009e-01, -1.4058e-01, -3.3540e-02,  1.8438e-01,\n",
            "         1.3968e-02,  1.6821e-03, -5.5849e-02, -8.0941e-01,  3.8881e-01,\n",
            "         3.4365e-01, -4.1117e-01, -2.0996e-01, -1.0344e-01, -4.0679e-01,\n",
            "         2.8167e+00, -9.6546e-02, -2.9524e-01, -9.5186e-02, -2.2905e-01,\n",
            "         2.4526e-01, -1.6460e-01, -5.5657e-01, -3.6732e-02, -2.2867e-01,\n",
            "        -1.6067e-01,  1.3233e-01, -2.2837e-01,  2.5995e-01, -8.4863e-03,\n",
            "        -1.0144e+00,  1.2996e-01, -1.2879e-01,  3.8767e-01,  1.8762e-01,\n",
            "        -3.8737e-01,  3.1376e-01, -7.3456e-01,  4.6178e-01,  4.6601e-01,\n",
            "        -5.7279e-02, -2.1166e-01, -1.9663e+00,  3.8102e-01,  2.2589e-01,\n",
            "         3.0810e-01,  2.5124e-01,  1.6685e-01, -1.7925e-01, -2.7407e-01,\n",
            "         4.5863e-02,  4.5874e-01, -1.2928e-01, -1.5197e-01, -4.1277e-01,\n",
            "         3.1108e-01, -3.5875e-02,  2.4647e-01,  9.1209e-02,  1.3496e-01,\n",
            "         2.0606e-02, -1.1449e-01, -2.7051e-02,  1.6689e-01,  3.3853e-03,\n",
            "        -9.7869e-03,  1.1335e-01, -3.1098e-01,  1.7264e-01, -8.8281e-02,\n",
            "        -2.2569e-01, -5.5168e-02, -2.6836e-01,  1.4090e-01,  1.7592e-01,\n",
            "         4.9786e-03, -1.6281e-01,  2.6746e-01,  3.9191e-01, -1.0610e-01,\n",
            "        -3.8932e-01, -1.3837e-01, -1.3374e-01,  6.3297e-02,  2.2207e-01,\n",
            "        -3.7249e-01, -1.2220e-01,  2.8922e-01,  3.5506e-02, -2.0174e-01,\n",
            "        -3.7285e-01,  2.4903e-01, -2.5731e-01, -4.3991e-01,  2.3476e-01,\n",
            "         2.5616e-02,  3.2749e-01,  1.6465e-01,  5.0752e-02, -6.7244e-01,\n",
            "         2.1953e-01,  4.1756e-02, -2.8575e-01, -4.6060e-01,  1.1920e-02,\n",
            "         1.3773e-01, -1.2792e-01,  9.1088e-02, -2.2541e-01,  2.5843e-01,\n",
            "        -1.4994e-01, -3.9694e-01,  4.7565e-01, -8.6203e-02,  9.6953e-03,\n",
            "         5.5563e-01,  3.6184e-01,  2.4583e-01, -1.5536e-01,  2.8015e-01,\n",
            "         1.1784e+00,  2.6259e-01, -4.8109e-01, -4.6087e-01, -4.1646e-01,\n",
            "        -1.5751e-01,  3.6877e-02, -1.2398e+00, -3.4839e-01, -1.7673e-01,\n",
            "         3.1261e-02, -3.2313e+00,  5.2254e-01,  3.0759e-01,  2.4908e-01,\n",
            "         4.2150e-02,  1.4895e-01,  1.3280e-01, -5.6454e-01,  1.9543e-01,\n",
            "        -2.3949e-01, -4.9030e-01, -3.9484e-01, -7.7504e-02,  3.0822e-01,\n",
            "         2.3232e-01, -2.8774e-01,  1.8830e-01, -1.3519e-01, -3.8548e-01,\n",
            "        -1.9003e-01,  3.1351e-01, -3.6871e-01,  6.1885e-01, -1.6753e-01,\n",
            "         6.8572e-01,  4.0731e-01,  1.6437e-01,  2.6510e-01,  3.9992e+00,\n",
            "         4.7597e-02,  9.1097e-02,  1.0259e-01, -2.5647e-01, -2.8696e-01,\n",
            "        -8.6141e-02, -4.3966e-01, -2.6102e-01,  2.1829e-01,  1.0150e-01,\n",
            "        -1.8444e-01, -1.2895e-01, -4.9873e-01, -1.0664e-01, -3.5579e-01,\n",
            "        -2.3180e-01,  8.6542e-03,  2.1243e-01, -7.6511e-01, -1.2854e-01,\n",
            "         4.3679e-01,  1.5846e-01, -1.3408e-01,  1.1934e-01, -3.6677e-01,\n",
            "        -5.5662e-01, -5.4969e-01,  3.6808e-01,  2.4230e-02, -1.0814e+00,\n",
            "         1.7460e-01,  1.7868e-01, -1.4528e-01,  8.4023e-02,  3.3936e-01,\n",
            "        -3.1761e-01,  3.3891e-01, -1.7439e-01, -1.7383e-01, -1.4517e-02,\n",
            "         9.4919e-03, -3.4670e-01, -2.2801e-01, -4.0658e-01,  9.4699e-02,\n",
            "         4.1574e-02, -5.4721e-01,  1.6076e-01,  5.7045e-02, -1.5887e-02,\n",
            "        -1.8827e-01, -1.5159e-01, -2.9561e-01,  1.7302e-01,  3.4877e-01,\n",
            "         1.7287e-01,  3.9085e-02, -7.3917e-02, -1.1163e-01,  7.2686e-02,\n",
            "         2.6188e-01,  1.4374e-01, -6.8238e-02,  4.1183e-01,  1.9411e-01,\n",
            "         1.0892e-01, -3.2740e-01, -1.5114e-01, -3.2178e-02,  3.1989e-01,\n",
            "        -1.9256e-01, -2.0294e+00,  2.6039e-01,  5.3210e-01, -3.4126e-01,\n",
            "         1.0440e-01,  2.1031e-01,  1.0412e-01, -1.9871e-01,  1.9260e-01,\n",
            "         4.6711e-01,  2.5916e-01,  3.8663e-01,  1.6859e-01, -4.9086e-02,\n",
            "         1.1726e-01,  1.2388e-01,  6.6973e-01,  3.2925e-01, -4.2917e-01,\n",
            "        -3.5519e-01, -7.8366e-02,  4.1667e-01, -1.6898e-02, -1.3027e-01,\n",
            "         5.8862e-01, -1.2800e-01,  5.3281e-02,  5.1495e-03,  1.1792e-01,\n",
            "         3.0008e-01,  1.7620e-01, -4.8659e-02, -2.2432e-01, -2.6372e-01,\n",
            "        -2.1650e-01, -1.7877e-01,  3.3201e-01,  3.8241e-01, -1.5593e-01,\n",
            "        -1.8369e-01,  1.4587e-01,  4.8484e-02, -2.2366e-01, -2.9394e-01,\n",
            "         1.0221e-01, -5.1559e-02, -1.3901e-01, -1.5145e+00, -7.9092e-02,\n",
            "        -4.8847e-02, -3.0673e-01, -2.2894e-01,  7.9123e-02, -2.0714e-01,\n",
            "        -8.5067e-02,  1.4560e-01,  4.0261e-01,  3.2169e-01,  2.5772e-01,\n",
            "         1.1420e-01, -5.3751e-02, -2.0642e-02, -3.5173e-01, -4.2789e-01,\n",
            "         2.6998e-01,  2.6421e-03, -3.6448e-02,  4.2779e-01,  2.7270e-01,\n",
            "        -5.1822e-01, -3.7839e-01,  2.2932e-02, -2.7526e-01, -3.4890e-01,\n",
            "        -5.4904e-01,  2.9176e-01, -8.7513e-02, -1.2797e-01,  5.2686e+00,\n",
            "        -7.2348e-01,  3.2521e-01,  1.5254e-01,  1.0246e-02,  6.7198e-02,\n",
            "         1.6410e-01,  1.5005e-01,  5.7457e-01, -1.6311e-01, -4.0099e-01,\n",
            "        -3.5496e-01,  2.2200e-01,  1.6090e-01, -3.2830e-01,  9.6469e-02,\n",
            "        -3.1262e-01,  6.8539e-02,  9.7217e-02, -3.4155e-01, -4.0651e-01,\n",
            "         5.5636e-02,  1.6953e-01, -2.2583e-01,  7.7536e-01,  5.3596e-01,\n",
            "        -1.2859e-01, -5.2086e-01, -1.4417e-01, -3.5269e-01, -3.1791e-01,\n",
            "         1.9880e-01,  1.5808e-02,  5.8676e-01,  3.2680e-01, -1.9595e-01,\n",
            "         1.0380e-01,  1.0469e-01,  4.0632e-01, -8.3488e-02,  2.8314e-01,\n",
            "         1.9067e-01,  9.7493e-01, -2.1578e-01,  4.0659e-01,  3.2358e-01,\n",
            "        -5.2701e-02,  3.6179e-03,  4.5459e-02,  4.6516e-01,  6.7060e-02,\n",
            "         2.1880e-01,  2.2476e-01, -5.6227e-01,  1.8627e-01, -9.3659e-02,\n",
            "        -1.0859e-01, -4.3540e-02, -2.3267e-01,  2.0044e-01,  6.0795e-02,\n",
            "         2.8609e-02,  3.3630e-03, -4.3769e-01, -4.9710e-02, -3.6383e-01,\n",
            "         3.6268e-01, -2.9623e-01, -2.4136e-01, -6.0605e-01, -5.0104e-01,\n",
            "        -9.5289e-02, -8.2130e-01, -4.3117e-01,  1.3454e-01,  2.6575e-01,\n",
            "        -5.7185e-01,  3.4002e-02, -1.3778e-01, -4.4542e-03,  1.7165e-01,\n",
            "         6.2143e-02,  1.1474e-01, -7.5025e-01,  6.9798e-02,  3.2467e-01,\n",
            "        -6.9431e-01, -3.0386e-01,  4.4554e-01,  4.8391e-01, -2.5542e-01,\n",
            "        -3.6392e-01,  2.7007e-02,  2.2393e-02,  1.8885e-01,  1.2165e-02,\n",
            "        -2.9450e-01,  7.7751e-02, -2.9465e-01,  1.7627e-01,  5.1255e-01,\n",
            "         9.3333e-02, -7.7583e-02,  2.3686e-01, -6.0814e-02, -8.5554e-02,\n",
            "        -1.2325e-01,  1.3434e-01,  1.6336e-02, -2.4914e-01,  2.5172e-01,\n",
            "         2.8847e-02,  8.0886e-03, -2.8119e-01,  2.3125e-01, -2.0573e-02,\n",
            "        -1.9181e-01, -1.3482e-01, -6.8912e+00,  5.5886e-01,  1.5422e-01,\n",
            "         9.5756e-02, -2.6526e-01, -1.1458e-01,  5.2413e-01,  4.1520e-01,\n",
            "        -1.9809e-01,  1.0812e-01, -1.7872e-01, -2.8758e-01, -2.2845e+00,\n",
            "         5.0803e-02, -2.1907e-01, -7.6227e-02,  2.0509e-01, -8.7298e-01,\n",
            "        -8.5449e-02,  1.4827e-01, -2.9821e-01,  4.3970e-01, -1.1378e-01,\n",
            "         5.5606e-01,  4.0387e-01,  2.0326e-01,  8.5839e-02, -3.7614e-01,\n",
            "         2.4857e-01, -3.1706e-01,  1.1883e-02, -1.8205e-01,  4.7037e-01,\n",
            "        -1.7306e-01, -1.8071e-01, -4.4879e-01,  1.1347e-01, -2.2446e-01,\n",
            "         1.4078e-01, -7.3016e-01,  9.6628e-02, -3.4889e-01,  3.5453e-01,\n",
            "         3.2981e-01, -7.4592e-01,  1.9603e-01, -6.4582e-01, -2.5627e+00,\n",
            "         2.1793e-01, -4.2047e-02,  5.1064e-01,  3.1593e-01, -1.7099e-01,\n",
            "        -2.6736e-01, -6.1461e-02,  1.1684e-01,  3.5648e-01, -1.9143e-01,\n",
            "         4.0081e-01, -2.8117e-01, -4.0522e-01,  2.2744e-02,  3.6856e-01,\n",
            "        -1.5640e-01, -3.2261e-01, -1.3640e-01, -3.8982e-01, -2.4817e-01,\n",
            "        -2.3443e-01, -2.3304e-01, -2.8962e-01, -9.8832e-02, -2.9107e-01,\n",
            "         6.2877e-03,  3.3252e-01,  4.1405e-01, -1.1586e-01, -1.1099e-01,\n",
            "        -1.1027e-01,  1.6092e-01, -3.8889e-01, -7.4945e-02,  5.7417e-01,\n",
            "         2.8122e-01,  1.1946e-01, -2.1556e-01, -4.1677e-01, -2.5173e-01,\n",
            "         2.9708e-03, -1.3603e-01,  3.4512e-02, -6.2017e-02, -1.7346e-01,\n",
            "        -2.4494e-02, -2.0006e-01,  3.9713e-01, -2.4897e-02, -4.7831e-02,\n",
            "        -3.9623e-01, -2.7633e-01, -1.4263e-01,  2.8597e-01, -3.9340e-01,\n",
            "        -2.3304e-01, -1.5023e-01,  2.2876e-01,  2.4928e+00,  3.5083e-01,\n",
            "        -2.0310e-01, -3.2030e-01, -4.5908e-01,  5.6730e-01, -1.1396e-01,\n",
            "         4.4320e-01,  1.7212e+00, -2.2990e-01, -4.4117e-02, -1.9487e-01,\n",
            "         9.4585e-02,  3.2772e-01, -3.4377e-01,  5.5012e-01, -5.5770e-02,\n",
            "        -6.3253e-02,  7.3237e-02,  2.6462e-01,  2.6804e-01, -3.8656e-01,\n",
            "         5.1245e-01,  7.8772e-02, -2.5365e-01,  1.8276e-01,  1.8112e-01,\n",
            "        -2.3906e-01,  3.7088e-02, -3.9700e-01,  6.5618e-02, -7.2794e-02,\n",
            "        -3.1432e-02,  1.0966e+00, -1.0924e-01,  1.0694e-01,  4.1502e-01,\n",
            "         3.5799e-01,  4.0251e-02, -2.1573e-01, -1.9640e-01,  1.0356e-01,\n",
            "        -4.0683e-01,  5.6883e-01, -2.9617e-03, -4.3482e-02, -6.5816e-01,\n",
            "        -3.8862e-01,  2.3494e-01,  6.2381e-03,  6.4747e-02, -3.5057e-01,\n",
            "        -2.2235e-01,  1.7590e-01, -7.6272e-02, -3.1965e-02, -6.5666e-01,\n",
            "         8.9846e-02, -5.1593e-03,  1.0866e-01, -2.1952e-01,  1.3246e-01,\n",
            "        -2.8440e-01, -9.0166e-03, -1.5787e-01, -2.5948e-01,  4.6393e-01,\n",
            "        -5.9641e-01, -1.7103e-01, -2.4834e-01,  3.0567e-01, -5.9610e-02,\n",
            "        -2.1686e+00, -1.0826e-01, -2.5444e-01, -2.3829e-01, -3.9330e-01,\n",
            "        -2.6673e-01,  5.6668e-01, -5.6014e-04, -1.4325e-01,  1.5828e-01,\n",
            "         3.3742e-03,  1.8766e+00,  1.4102e-01, -2.3894e-02, -2.1943e-01,\n",
            "        -5.8150e-02,  2.2983e-02, -1.9514e-01,  1.3331e-01, -4.4473e-01,\n",
            "        -2.6641e-01,  1.4212e+00, -1.4298e-02, -3.4267e-02,  1.3462e-01,\n",
            "         1.1318e-01,  1.2614e-01,  1.8576e-01, -1.2887e-01,  1.3839e-01,\n",
            "         1.1759e-01,  5.5201e-01,  2.1542e-02], device='cuda:0',\n",
            "       grad_fn=<SelectBackward0>)\n"
          ]
        }
      ],
      "source": [
        "# Get the output for the [CLS] token. Call it cls_first_out.\n",
        "### YOUR CODE HERE\n",
        "cls_first_out = last_hidden_states[0][0]\n",
        "### END YOUR CODE\n",
        "print('First output of [CLS] token: ', cls_first_out)"
      ]
    },
    {
      "cell_type": "markdown",
      "metadata": {
        "id": "DMiyr5izQPaC"
      },
      "source": [
        "**QUESTION:**\n",
        "\n",
        "3.b What is the first value of the output of the [CLS] token?"
      ]
    },
    {
      "cell_type": "code",
      "execution_count": null,
      "metadata": {
        "id": "tFtukAZgjZjr"
      },
      "outputs": [],
      "source": [
        "### Q3-b Grading Tag: Please put your answer in this cell. Don't edit this line.\n",
        "\n",
        "### YOUR ANSWER HERE\n",
        "0.47248\n",
        "### END YOUR ANSWER"
      ]
    },
    {
      "cell_type": "markdown",
      "metadata": {
        "id": "ABg5ttdeWfo4"
      },
      "source": [
        "Now we construct the dataset and the dataloader. The BERT dataset class is defined at the beginning."
      ]
    },
    {
      "cell_type": "code",
      "execution_count": 21,
      "metadata": {
        "id": "9USxNoQ_WgIg",
        "colab": {
          "base_uri": "https://localhost:8080/"
        },
        "outputId": "4b6a3ee7-fc5d-423d-c004-581f28c26577"
      },
      "outputs": [
        {
          "output_type": "stream",
          "name": "stderr",
          "text": [
            "Token indices sequence length is longer than the specified maximum sequence length for this model (621 > 512). Running this sequence through the model will result in indexing errors\n"
          ]
        }
      ],
      "source": [
        "bert_train_data = BERTClassificationData(imdb_train_set,\n",
        "                                tokenizer=bert_tokenizer,\n",
        "                                max_len=100,\n",
        "                                num_examples=-1\n",
        "                                )\n",
        "\n",
        "bert_test_data = BERTClassificationData(imdb_test_set,\n",
        "                                tokenizer=bert_tokenizer,\n",
        "                                max_len=100,\n",
        "                                num_examples=-1\n",
        "                                )\n",
        "\n",
        "batch_size = 4\n",
        "bert_imdb_train_loader = DataLoader(bert_train_data, batch_size=batch_size, shuffle=True)\n",
        "bert_imdb_test_loader = DataLoader(bert_test_data, batch_size=batch_size, shuffle=True)\n",
        "\n"
      ]
    },
    {
      "cell_type": "markdown",
      "metadata": {
        "id": "OeghP0kJTqpB"
      },
      "source": [
        "Now build the classification network that uses the output of the [CLS] token for the classification."
      ]
    },
    {
      "cell_type": "code",
      "execution_count": 39,
      "metadata": {
        "id": "Yr-vOerxuf0_"
      },
      "outputs": [],
      "source": [
        "%%capture\n",
        "\n",
        "class BERTClassificationNetworkClass(torch.nn.Module):\n",
        "    \"\"\"\n",
        "    Write the class for the classification network using\n",
        "    the Masked Language Model BERT.\n",
        "    Specificaly, you will need to extract the output of the [CLS] token\n",
        "    from the BERT model (i.e., the very first token), apply a suitable linear layer,\n",
        "    and apply the sigmoid function.\n",
        "    \"\"\"\n",
        "\n",
        "    def __init__(self):\n",
        "        ### YOUR CODE HERE\n",
        "        super().__init__()\n",
        "        self.bert = bert_model\n",
        "        self.linear = torch.nn.Linear(self.bert.config.hidden_size, 1)\n",
        "        self.sigmoid = torch.nn.Sigmoid()\n",
        "        ### END YOUR CODE\n",
        "\n",
        "    def forward(self, x):\n",
        "        # Get the forward pass. Apply the BERT model, then the linear layer, and\n",
        "        # then apply the sigmoid\n",
        "        ### YOUR CODE HERE\n",
        "        bert_input = {k: v for k, v in x.items() if k in ['input_ids', 'attention_mask', 'token_type_ids']}\n",
        "        bert_output = self.bert(**bert_input)\n",
        "        cls_output = bert_output.last_hidden_state[:, 0, :]\n",
        "        linear_output = self.linear(cls_output)\n",
        "        sigmoid_output = self.sigmoid(linear_output)\n",
        "        ### END YOUR CODE\n",
        "\n",
        "        return torch.squeeze(sigmoid_output) # removing 'x 1 x ' dimensions\n",
        "\n",
        "\n",
        "loss_fn = torch.nn.BCELoss()\n",
        "\n",
        "bert_classification_model = BERTClassificationNetworkClass().to(device)\n"
      ]
    },
    {
      "cell_type": "markdown",
      "metadata": {
        "id": "Jja3T50uYlde"
      },
      "source": [
        "Let's test it. Is the structure correct?"
      ]
    },
    {
      "cell_type": "code",
      "execution_count": 31,
      "metadata": {
        "id": "_K1PVgiVYT23",
        "colab": {
          "base_uri": "https://localhost:8080/"
        },
        "outputId": "369472c0-0771-4231-f6e5-ffdd0ad0621a"
      },
      "outputs": [
        {
          "output_type": "stream",
          "name": "stdout",
          "text": [
            "Output:  tensor([0.5139, 0.4546, 0.5554, 0.4654], device='cuda:0',\n",
            "       grad_fn=<SqueezeBackward0>)\n",
            "Loss:  tensor(0.6912, device='cuda:0', grad_fn=<BinaryCrossEntropyBackward0>)\n"
          ]
        }
      ],
      "source": [
        "test = next(iter(bert_imdb_train_loader))\n",
        "\n",
        "out = bert_classification_model({'input_ids': test['input_ids']})\n",
        "\n",
        "loss = loss_fn(out.float(), test['label'].float())\n",
        "\n",
        "print('Output: ', out)\n",
        "print('Loss: ', loss)\n"
      ]
    },
    {
      "cell_type": "markdown",
      "metadata": {
        "id": "iPcaxhduYzxK"
      },
      "source": [
        "Good. Finally, we need train and test loops:"
      ]
    },
    {
      "cell_type": "code",
      "execution_count": 47,
      "metadata": {
        "id": "OydE2YjmYM6p"
      },
      "outputs": [],
      "source": [
        "def bert_train_loop(dataloader, model, loss_fn, optimizer, reporting_interval=100, steps=None):\n",
        "    \"\"\"\n",
        "    Following the same logic as above, write the training loop to use the\n",
        "    Masked Language Model BERT for the sentiment classification task. You\n",
        "    only need to report the average loss after the reporting interval\n",
        "    and end of each epoch.\n",
        "    \"\"\"\n",
        "\n",
        "    ### YOUR CODE HERE\n",
        "    model.train()\n",
        "    epoch_loss = 0\n",
        "\n",
        "    for batch, data in enumerate(dataloader):\n",
        "        if (steps is not None) and (batch >= steps):\n",
        "          break\n",
        "\n",
        "        outputs = model(data)\n",
        "        optimizer.zero_grad()\n",
        "\n",
        "        loss = loss_fn(outputs.squeeze(-1), data['label'].float())\n",
        "        loss.backward()\n",
        "        optimizer.step()\n",
        "        epoch_loss += loss.item()\n",
        "\n",
        "    ### END YOUR CODE\n",
        "\n",
        "    print(f\"Training Results: \\n  Avg train loss: {epoch_loss/batch:>8f} \\n\")\n",
        "\n",
        "\n",
        "def bert_test_loop(dataloader, model, loss_fn, reporting_interval=100, contrast_pair=None,steps=None):\n",
        "    \"\"\"\n",
        "    Following the same logic as above, write the test loop to use the\n",
        "    Masked Language Model BERT for the sentiment classification task.\n",
        "    Please report on the accuracy after the reporting interval and end of each epoch.\n",
        "    \"\"\"\n",
        "\n",
        "    ### YOUR CODE HERE\n",
        "    model.eval()\n",
        "    test_loss, correct, total = 0, 0, 0\n",
        "\n",
        "    with torch.no_grad():\n",
        "      for batch, data in enumerate(dataloader):\n",
        "        if (steps is not None) and (batch >= steps):\n",
        "          break\n",
        "\n",
        "        outputs = model(data)\n",
        "\n",
        "        labels = data['label']\n",
        "        if isinstance(labels, list):\n",
        "            labels = torch.tensor(labels)\n",
        "\n",
        "        loss = loss_fn(outputs.float(), labels.float())\n",
        "\n",
        "        test_loss += loss.item()\n",
        "        correct += ((outputs >= 0.5) == labels).sum()\n",
        "        total += len(labels)\n",
        "\n",
        "    ### END YOUR CODE\n",
        "\n",
        "    correct = float(correct.cpu().detach().numpy())\n",
        "\n",
        "    test_loss /= batch\n",
        "    correct /= total\n",
        "    print(correct)\n",
        "\n",
        "    print(f\"Test Results: \\n Test Accuracy: {(100*correct):>0.1f}%, Avg test loss: {test_loss:>8f} \\n\")"
      ]
    },
    {
      "cell_type": "markdown",
      "metadata": {
        "id": "x7L9eebiuf0_"
      },
      "source": [
        "Now let's see:"
      ]
    },
    {
      "cell_type": "code",
      "execution_count": 48,
      "metadata": {
        "id": "weVynJqHuf0_",
        "colab": {
          "base_uri": "https://localhost:8080/"
        },
        "outputId": "d9c9000a-9fd5-4cb9-d9c7-cee0a6357e2b"
      },
      "outputs": [
        {
          "output_type": "stream",
          "name": "stdout",
          "text": [
            "Epoch 1\n",
            "-------------------------------\n",
            "Training Results: \n",
            "  Avg train loss: 0.203395 \n",
            "\n",
            "0.86\n",
            "Test Results: \n",
            " Test Accuracy: 86.0%, Avg test loss: 0.336655 \n",
            "\n",
            "Done!\n"
          ]
        }
      ],
      "source": [
        "adam_optimizer_bert = torch.optim.AdamW(bert_classification_model.parameters(), lr=0.00001)\n",
        "\n",
        "epochs = 1\n",
        "for t in range(epochs):\n",
        "    print(f\"Epoch {t+1}\\n-------------------------------\")\n",
        "    bert_train_loop(bert_imdb_train_loader, bert_classification_model, loss_fn, adam_optimizer_bert, steps=2000)\n",
        "    bert_test_loop(bert_imdb_test_loader, bert_classification_model, loss_fn,\n",
        "              steps=500\n",
        "              ) # no optimizer use here!\n",
        "print(\"Done!\")"
      ]
    },
    {
      "cell_type": "markdown",
      "metadata": {
        "id": "_U8i12wAuf1A"
      },
      "source": [
        "\n",
        "**QUESTION:**\n",
        "\n",
        "3.c What was the test accuracy you got for the BERT model?\n"
      ]
    },
    {
      "cell_type": "code",
      "execution_count": null,
      "metadata": {
        "id": "asyvVWSBkeOi"
      },
      "outputs": [],
      "source": [
        "### Q3-c Grading Tag: Please put your answer in this cell. Don't edit this line.\n",
        "\n",
        "### YOUR ANSWER HERE\n",
        "86.0%\n",
        "### END YOUR ANSWER"
      ]
    },
    {
      "cell_type": "markdown",
      "metadata": {
        "id": "HByEKLxuS8R1"
      },
      "source": [
        "\n",
        "And that is it for assignment 2.  Congratulations!"
      ]
    }
  ],
  "metadata": {
    "accelerator": "GPU",
    "colab": {
      "gpuType": "T4",
      "provenance": []
    },
    "kernelspec": {
      "display_name": "Python 3 (ipykernel)",
      "language": "python",
      "name": "python3"
    },
    "language_info": {
      "codemirror_mode": {
        "name": "ipython",
        "version": 3
      },
      "file_extension": ".py",
      "mimetype": "text/x-python",
      "name": "python",
      "nbconvert_exporter": "python",
      "pygments_lexer": "ipython3",
      "version": "3.11.5"
    },
    "widgets": {
      "application/vnd.jupyter.widget-state+json": {
        "8721548c62814709932620f4b5571371": {
          "model_module": "@jupyter-widgets/controls",
          "model_name": "HBoxModel",
          "model_module_version": "1.5.0",
          "state": {
            "_dom_classes": [],
            "_model_module": "@jupyter-widgets/controls",
            "_model_module_version": "1.5.0",
            "_model_name": "HBoxModel",
            "_view_count": null,
            "_view_module": "@jupyter-widgets/controls",
            "_view_module_version": "1.5.0",
            "_view_name": "HBoxView",
            "box_style": "",
            "children": [
              "IPY_MODEL_3d4597954ee9454dbaba4e50c18a7453",
              "IPY_MODEL_f03d9f50678544e2899a67c5538ce34a",
              "IPY_MODEL_9ccd5e931163425885dfd2904950dbd4"
            ],
            "layout": "IPY_MODEL_3195b281eaba4362942118f6d2fdd11d"
          }
        },
        "3d4597954ee9454dbaba4e50c18a7453": {
          "model_module": "@jupyter-widgets/controls",
          "model_name": "HTMLModel",
          "model_module_version": "1.5.0",
          "state": {
            "_dom_classes": [],
            "_model_module": "@jupyter-widgets/controls",
            "_model_module_version": "1.5.0",
            "_model_name": "HTMLModel",
            "_view_count": null,
            "_view_module": "@jupyter-widgets/controls",
            "_view_module_version": "1.5.0",
            "_view_name": "HTMLView",
            "description": "",
            "description_tooltip": null,
            "layout": "IPY_MODEL_e1d4f29a38154ed2b1b821369428bbf0",
            "placeholder": "​",
            "style": "IPY_MODEL_fe9f4b97aa4e4eadbe1f07ef73d8f161",
            "value": "README.md: 100%"
          }
        },
        "f03d9f50678544e2899a67c5538ce34a": {
          "model_module": "@jupyter-widgets/controls",
          "model_name": "FloatProgressModel",
          "model_module_version": "1.5.0",
          "state": {
            "_dom_classes": [],
            "_model_module": "@jupyter-widgets/controls",
            "_model_module_version": "1.5.0",
            "_model_name": "FloatProgressModel",
            "_view_count": null,
            "_view_module": "@jupyter-widgets/controls",
            "_view_module_version": "1.5.0",
            "_view_name": "ProgressView",
            "bar_style": "success",
            "description": "",
            "description_tooltip": null,
            "layout": "IPY_MODEL_ded597cef2cf46ef8b46430a2ff7ed85",
            "max": 7809,
            "min": 0,
            "orientation": "horizontal",
            "style": "IPY_MODEL_9550508208a742d6b3d14c98756f9001",
            "value": 7809
          }
        },
        "9ccd5e931163425885dfd2904950dbd4": {
          "model_module": "@jupyter-widgets/controls",
          "model_name": "HTMLModel",
          "model_module_version": "1.5.0",
          "state": {
            "_dom_classes": [],
            "_model_module": "@jupyter-widgets/controls",
            "_model_module_version": "1.5.0",
            "_model_name": "HTMLModel",
            "_view_count": null,
            "_view_module": "@jupyter-widgets/controls",
            "_view_module_version": "1.5.0",
            "_view_name": "HTMLView",
            "description": "",
            "description_tooltip": null,
            "layout": "IPY_MODEL_e57d82ad409e4900a953c4f5d9223482",
            "placeholder": "​",
            "style": "IPY_MODEL_a01dc417d05c4615ad2feda674c3e418",
            "value": " 7.81k/7.81k [00:00&lt;00:00, 351kB/s]"
          }
        },
        "3195b281eaba4362942118f6d2fdd11d": {
          "model_module": "@jupyter-widgets/base",
          "model_name": "LayoutModel",
          "model_module_version": "1.2.0",
          "state": {
            "_model_module": "@jupyter-widgets/base",
            "_model_module_version": "1.2.0",
            "_model_name": "LayoutModel",
            "_view_count": null,
            "_view_module": "@jupyter-widgets/base",
            "_view_module_version": "1.2.0",
            "_view_name": "LayoutView",
            "align_content": null,
            "align_items": null,
            "align_self": null,
            "border": null,
            "bottom": null,
            "display": null,
            "flex": null,
            "flex_flow": null,
            "grid_area": null,
            "grid_auto_columns": null,
            "grid_auto_flow": null,
            "grid_auto_rows": null,
            "grid_column": null,
            "grid_gap": null,
            "grid_row": null,
            "grid_template_areas": null,
            "grid_template_columns": null,
            "grid_template_rows": null,
            "height": null,
            "justify_content": null,
            "justify_items": null,
            "left": null,
            "margin": null,
            "max_height": null,
            "max_width": null,
            "min_height": null,
            "min_width": null,
            "object_fit": null,
            "object_position": null,
            "order": null,
            "overflow": null,
            "overflow_x": null,
            "overflow_y": null,
            "padding": null,
            "right": null,
            "top": null,
            "visibility": null,
            "width": null
          }
        },
        "e1d4f29a38154ed2b1b821369428bbf0": {
          "model_module": "@jupyter-widgets/base",
          "model_name": "LayoutModel",
          "model_module_version": "1.2.0",
          "state": {
            "_model_module": "@jupyter-widgets/base",
            "_model_module_version": "1.2.0",
            "_model_name": "LayoutModel",
            "_view_count": null,
            "_view_module": "@jupyter-widgets/base",
            "_view_module_version": "1.2.0",
            "_view_name": "LayoutView",
            "align_content": null,
            "align_items": null,
            "align_self": null,
            "border": null,
            "bottom": null,
            "display": null,
            "flex": null,
            "flex_flow": null,
            "grid_area": null,
            "grid_auto_columns": null,
            "grid_auto_flow": null,
            "grid_auto_rows": null,
            "grid_column": null,
            "grid_gap": null,
            "grid_row": null,
            "grid_template_areas": null,
            "grid_template_columns": null,
            "grid_template_rows": null,
            "height": null,
            "justify_content": null,
            "justify_items": null,
            "left": null,
            "margin": null,
            "max_height": null,
            "max_width": null,
            "min_height": null,
            "min_width": null,
            "object_fit": null,
            "object_position": null,
            "order": null,
            "overflow": null,
            "overflow_x": null,
            "overflow_y": null,
            "padding": null,
            "right": null,
            "top": null,
            "visibility": null,
            "width": null
          }
        },
        "fe9f4b97aa4e4eadbe1f07ef73d8f161": {
          "model_module": "@jupyter-widgets/controls",
          "model_name": "DescriptionStyleModel",
          "model_module_version": "1.5.0",
          "state": {
            "_model_module": "@jupyter-widgets/controls",
            "_model_module_version": "1.5.0",
            "_model_name": "DescriptionStyleModel",
            "_view_count": null,
            "_view_module": "@jupyter-widgets/base",
            "_view_module_version": "1.2.0",
            "_view_name": "StyleView",
            "description_width": ""
          }
        },
        "ded597cef2cf46ef8b46430a2ff7ed85": {
          "model_module": "@jupyter-widgets/base",
          "model_name": "LayoutModel",
          "model_module_version": "1.2.0",
          "state": {
            "_model_module": "@jupyter-widgets/base",
            "_model_module_version": "1.2.0",
            "_model_name": "LayoutModel",
            "_view_count": null,
            "_view_module": "@jupyter-widgets/base",
            "_view_module_version": "1.2.0",
            "_view_name": "LayoutView",
            "align_content": null,
            "align_items": null,
            "align_self": null,
            "border": null,
            "bottom": null,
            "display": null,
            "flex": null,
            "flex_flow": null,
            "grid_area": null,
            "grid_auto_columns": null,
            "grid_auto_flow": null,
            "grid_auto_rows": null,
            "grid_column": null,
            "grid_gap": null,
            "grid_row": null,
            "grid_template_areas": null,
            "grid_template_columns": null,
            "grid_template_rows": null,
            "height": null,
            "justify_content": null,
            "justify_items": null,
            "left": null,
            "margin": null,
            "max_height": null,
            "max_width": null,
            "min_height": null,
            "min_width": null,
            "object_fit": null,
            "object_position": null,
            "order": null,
            "overflow": null,
            "overflow_x": null,
            "overflow_y": null,
            "padding": null,
            "right": null,
            "top": null,
            "visibility": null,
            "width": null
          }
        },
        "9550508208a742d6b3d14c98756f9001": {
          "model_module": "@jupyter-widgets/controls",
          "model_name": "ProgressStyleModel",
          "model_module_version": "1.5.0",
          "state": {
            "_model_module": "@jupyter-widgets/controls",
            "_model_module_version": "1.5.0",
            "_model_name": "ProgressStyleModel",
            "_view_count": null,
            "_view_module": "@jupyter-widgets/base",
            "_view_module_version": "1.2.0",
            "_view_name": "StyleView",
            "bar_color": null,
            "description_width": ""
          }
        },
        "e57d82ad409e4900a953c4f5d9223482": {
          "model_module": "@jupyter-widgets/base",
          "model_name": "LayoutModel",
          "model_module_version": "1.2.0",
          "state": {
            "_model_module": "@jupyter-widgets/base",
            "_model_module_version": "1.2.0",
            "_model_name": "LayoutModel",
            "_view_count": null,
            "_view_module": "@jupyter-widgets/base",
            "_view_module_version": "1.2.0",
            "_view_name": "LayoutView",
            "align_content": null,
            "align_items": null,
            "align_self": null,
            "border": null,
            "bottom": null,
            "display": null,
            "flex": null,
            "flex_flow": null,
            "grid_area": null,
            "grid_auto_columns": null,
            "grid_auto_flow": null,
            "grid_auto_rows": null,
            "grid_column": null,
            "grid_gap": null,
            "grid_row": null,
            "grid_template_areas": null,
            "grid_template_columns": null,
            "grid_template_rows": null,
            "height": null,
            "justify_content": null,
            "justify_items": null,
            "left": null,
            "margin": null,
            "max_height": null,
            "max_width": null,
            "min_height": null,
            "min_width": null,
            "object_fit": null,
            "object_position": null,
            "order": null,
            "overflow": null,
            "overflow_x": null,
            "overflow_y": null,
            "padding": null,
            "right": null,
            "top": null,
            "visibility": null,
            "width": null
          }
        },
        "a01dc417d05c4615ad2feda674c3e418": {
          "model_module": "@jupyter-widgets/controls",
          "model_name": "DescriptionStyleModel",
          "model_module_version": "1.5.0",
          "state": {
            "_model_module": "@jupyter-widgets/controls",
            "_model_module_version": "1.5.0",
            "_model_name": "DescriptionStyleModel",
            "_view_count": null,
            "_view_module": "@jupyter-widgets/base",
            "_view_module_version": "1.2.0",
            "_view_name": "StyleView",
            "description_width": ""
          }
        },
        "d0cd2764a40f4f619a9133a4494f39d4": {
          "model_module": "@jupyter-widgets/controls",
          "model_name": "HBoxModel",
          "model_module_version": "1.5.0",
          "state": {
            "_dom_classes": [],
            "_model_module": "@jupyter-widgets/controls",
            "_model_module_version": "1.5.0",
            "_model_name": "HBoxModel",
            "_view_count": null,
            "_view_module": "@jupyter-widgets/controls",
            "_view_module_version": "1.5.0",
            "_view_name": "HBoxView",
            "box_style": "",
            "children": [
              "IPY_MODEL_100b17c34a2a4a7fa446796f3d0b5be5",
              "IPY_MODEL_e7112055b4fb45288c4290c920ed2ac4",
              "IPY_MODEL_631776ef94b6470995a4ba6dacbe68bd"
            ],
            "layout": "IPY_MODEL_3148a6653dfc4c16b5f3619f04b9f162"
          }
        },
        "100b17c34a2a4a7fa446796f3d0b5be5": {
          "model_module": "@jupyter-widgets/controls",
          "model_name": "HTMLModel",
          "model_module_version": "1.5.0",
          "state": {
            "_dom_classes": [],
            "_model_module": "@jupyter-widgets/controls",
            "_model_module_version": "1.5.0",
            "_model_name": "HTMLModel",
            "_view_count": null,
            "_view_module": "@jupyter-widgets/controls",
            "_view_module_version": "1.5.0",
            "_view_name": "HTMLView",
            "description": "",
            "description_tooltip": null,
            "layout": "IPY_MODEL_03df26284f6249ccab56250cf7317e7a",
            "placeholder": "​",
            "style": "IPY_MODEL_2dd90c829dde40d6ac5c18898d6de8e0",
            "value": "train-00000-of-00001.parquet: 100%"
          }
        },
        "e7112055b4fb45288c4290c920ed2ac4": {
          "model_module": "@jupyter-widgets/controls",
          "model_name": "FloatProgressModel",
          "model_module_version": "1.5.0",
          "state": {
            "_dom_classes": [],
            "_model_module": "@jupyter-widgets/controls",
            "_model_module_version": "1.5.0",
            "_model_name": "FloatProgressModel",
            "_view_count": null,
            "_view_module": "@jupyter-widgets/controls",
            "_view_module_version": "1.5.0",
            "_view_name": "ProgressView",
            "bar_style": "success",
            "description": "",
            "description_tooltip": null,
            "layout": "IPY_MODEL_16c6fbabb5594d64a9b1f4ccfc0252ad",
            "max": 20979968,
            "min": 0,
            "orientation": "horizontal",
            "style": "IPY_MODEL_c60518020dd74c48b087a87ee74f0e69",
            "value": 20979968
          }
        },
        "631776ef94b6470995a4ba6dacbe68bd": {
          "model_module": "@jupyter-widgets/controls",
          "model_name": "HTMLModel",
          "model_module_version": "1.5.0",
          "state": {
            "_dom_classes": [],
            "_model_module": "@jupyter-widgets/controls",
            "_model_module_version": "1.5.0",
            "_model_name": "HTMLModel",
            "_view_count": null,
            "_view_module": "@jupyter-widgets/controls",
            "_view_module_version": "1.5.0",
            "_view_name": "HTMLView",
            "description": "",
            "description_tooltip": null,
            "layout": "IPY_MODEL_117e5e5857a049cfb8d0e5f2f8d9f316",
            "placeholder": "​",
            "style": "IPY_MODEL_3054b4e774264bf09ab12abc0fedc89a",
            "value": " 21.0M/21.0M [00:00&lt;00:00, 100MB/s]"
          }
        },
        "3148a6653dfc4c16b5f3619f04b9f162": {
          "model_module": "@jupyter-widgets/base",
          "model_name": "LayoutModel",
          "model_module_version": "1.2.0",
          "state": {
            "_model_module": "@jupyter-widgets/base",
            "_model_module_version": "1.2.0",
            "_model_name": "LayoutModel",
            "_view_count": null,
            "_view_module": "@jupyter-widgets/base",
            "_view_module_version": "1.2.0",
            "_view_name": "LayoutView",
            "align_content": null,
            "align_items": null,
            "align_self": null,
            "border": null,
            "bottom": null,
            "display": null,
            "flex": null,
            "flex_flow": null,
            "grid_area": null,
            "grid_auto_columns": null,
            "grid_auto_flow": null,
            "grid_auto_rows": null,
            "grid_column": null,
            "grid_gap": null,
            "grid_row": null,
            "grid_template_areas": null,
            "grid_template_columns": null,
            "grid_template_rows": null,
            "height": null,
            "justify_content": null,
            "justify_items": null,
            "left": null,
            "margin": null,
            "max_height": null,
            "max_width": null,
            "min_height": null,
            "min_width": null,
            "object_fit": null,
            "object_position": null,
            "order": null,
            "overflow": null,
            "overflow_x": null,
            "overflow_y": null,
            "padding": null,
            "right": null,
            "top": null,
            "visibility": null,
            "width": null
          }
        },
        "03df26284f6249ccab56250cf7317e7a": {
          "model_module": "@jupyter-widgets/base",
          "model_name": "LayoutModel",
          "model_module_version": "1.2.0",
          "state": {
            "_model_module": "@jupyter-widgets/base",
            "_model_module_version": "1.2.0",
            "_model_name": "LayoutModel",
            "_view_count": null,
            "_view_module": "@jupyter-widgets/base",
            "_view_module_version": "1.2.0",
            "_view_name": "LayoutView",
            "align_content": null,
            "align_items": null,
            "align_self": null,
            "border": null,
            "bottom": null,
            "display": null,
            "flex": null,
            "flex_flow": null,
            "grid_area": null,
            "grid_auto_columns": null,
            "grid_auto_flow": null,
            "grid_auto_rows": null,
            "grid_column": null,
            "grid_gap": null,
            "grid_row": null,
            "grid_template_areas": null,
            "grid_template_columns": null,
            "grid_template_rows": null,
            "height": null,
            "justify_content": null,
            "justify_items": null,
            "left": null,
            "margin": null,
            "max_height": null,
            "max_width": null,
            "min_height": null,
            "min_width": null,
            "object_fit": null,
            "object_position": null,
            "order": null,
            "overflow": null,
            "overflow_x": null,
            "overflow_y": null,
            "padding": null,
            "right": null,
            "top": null,
            "visibility": null,
            "width": null
          }
        },
        "2dd90c829dde40d6ac5c18898d6de8e0": {
          "model_module": "@jupyter-widgets/controls",
          "model_name": "DescriptionStyleModel",
          "model_module_version": "1.5.0",
          "state": {
            "_model_module": "@jupyter-widgets/controls",
            "_model_module_version": "1.5.0",
            "_model_name": "DescriptionStyleModel",
            "_view_count": null,
            "_view_module": "@jupyter-widgets/base",
            "_view_module_version": "1.2.0",
            "_view_name": "StyleView",
            "description_width": ""
          }
        },
        "16c6fbabb5594d64a9b1f4ccfc0252ad": {
          "model_module": "@jupyter-widgets/base",
          "model_name": "LayoutModel",
          "model_module_version": "1.2.0",
          "state": {
            "_model_module": "@jupyter-widgets/base",
            "_model_module_version": "1.2.0",
            "_model_name": "LayoutModel",
            "_view_count": null,
            "_view_module": "@jupyter-widgets/base",
            "_view_module_version": "1.2.0",
            "_view_name": "LayoutView",
            "align_content": null,
            "align_items": null,
            "align_self": null,
            "border": null,
            "bottom": null,
            "display": null,
            "flex": null,
            "flex_flow": null,
            "grid_area": null,
            "grid_auto_columns": null,
            "grid_auto_flow": null,
            "grid_auto_rows": null,
            "grid_column": null,
            "grid_gap": null,
            "grid_row": null,
            "grid_template_areas": null,
            "grid_template_columns": null,
            "grid_template_rows": null,
            "height": null,
            "justify_content": null,
            "justify_items": null,
            "left": null,
            "margin": null,
            "max_height": null,
            "max_width": null,
            "min_height": null,
            "min_width": null,
            "object_fit": null,
            "object_position": null,
            "order": null,
            "overflow": null,
            "overflow_x": null,
            "overflow_y": null,
            "padding": null,
            "right": null,
            "top": null,
            "visibility": null,
            "width": null
          }
        },
        "c60518020dd74c48b087a87ee74f0e69": {
          "model_module": "@jupyter-widgets/controls",
          "model_name": "ProgressStyleModel",
          "model_module_version": "1.5.0",
          "state": {
            "_model_module": "@jupyter-widgets/controls",
            "_model_module_version": "1.5.0",
            "_model_name": "ProgressStyleModel",
            "_view_count": null,
            "_view_module": "@jupyter-widgets/base",
            "_view_module_version": "1.2.0",
            "_view_name": "StyleView",
            "bar_color": null,
            "description_width": ""
          }
        },
        "117e5e5857a049cfb8d0e5f2f8d9f316": {
          "model_module": "@jupyter-widgets/base",
          "model_name": "LayoutModel",
          "model_module_version": "1.2.0",
          "state": {
            "_model_module": "@jupyter-widgets/base",
            "_model_module_version": "1.2.0",
            "_model_name": "LayoutModel",
            "_view_count": null,
            "_view_module": "@jupyter-widgets/base",
            "_view_module_version": "1.2.0",
            "_view_name": "LayoutView",
            "align_content": null,
            "align_items": null,
            "align_self": null,
            "border": null,
            "bottom": null,
            "display": null,
            "flex": null,
            "flex_flow": null,
            "grid_area": null,
            "grid_auto_columns": null,
            "grid_auto_flow": null,
            "grid_auto_rows": null,
            "grid_column": null,
            "grid_gap": null,
            "grid_row": null,
            "grid_template_areas": null,
            "grid_template_columns": null,
            "grid_template_rows": null,
            "height": null,
            "justify_content": null,
            "justify_items": null,
            "left": null,
            "margin": null,
            "max_height": null,
            "max_width": null,
            "min_height": null,
            "min_width": null,
            "object_fit": null,
            "object_position": null,
            "order": null,
            "overflow": null,
            "overflow_x": null,
            "overflow_y": null,
            "padding": null,
            "right": null,
            "top": null,
            "visibility": null,
            "width": null
          }
        },
        "3054b4e774264bf09ab12abc0fedc89a": {
          "model_module": "@jupyter-widgets/controls",
          "model_name": "DescriptionStyleModel",
          "model_module_version": "1.5.0",
          "state": {
            "_model_module": "@jupyter-widgets/controls",
            "_model_module_version": "1.5.0",
            "_model_name": "DescriptionStyleModel",
            "_view_count": null,
            "_view_module": "@jupyter-widgets/base",
            "_view_module_version": "1.2.0",
            "_view_name": "StyleView",
            "description_width": ""
          }
        },
        "0b03161d28d44f91a9ac7871c13c7d1e": {
          "model_module": "@jupyter-widgets/controls",
          "model_name": "HBoxModel",
          "model_module_version": "1.5.0",
          "state": {
            "_dom_classes": [],
            "_model_module": "@jupyter-widgets/controls",
            "_model_module_version": "1.5.0",
            "_model_name": "HBoxModel",
            "_view_count": null,
            "_view_module": "@jupyter-widgets/controls",
            "_view_module_version": "1.5.0",
            "_view_name": "HBoxView",
            "box_style": "",
            "children": [
              "IPY_MODEL_b6d82c6d27e142ceb38b6cc2acddd551",
              "IPY_MODEL_02926ffc6fe844f5a6ccd31e39e1860e",
              "IPY_MODEL_1ccaae4e713f480eb1aa01d868de5177"
            ],
            "layout": "IPY_MODEL_d47398db44df49bba2bfb5793095d302"
          }
        },
        "b6d82c6d27e142ceb38b6cc2acddd551": {
          "model_module": "@jupyter-widgets/controls",
          "model_name": "HTMLModel",
          "model_module_version": "1.5.0",
          "state": {
            "_dom_classes": [],
            "_model_module": "@jupyter-widgets/controls",
            "_model_module_version": "1.5.0",
            "_model_name": "HTMLModel",
            "_view_count": null,
            "_view_module": "@jupyter-widgets/controls",
            "_view_module_version": "1.5.0",
            "_view_name": "HTMLView",
            "description": "",
            "description_tooltip": null,
            "layout": "IPY_MODEL_db1c861d02234312be19c169c6c4e08d",
            "placeholder": "​",
            "style": "IPY_MODEL_aa22d328f0f94e8782bcd1b1c7a1b2c6",
            "value": "test-00000-of-00001.parquet: 100%"
          }
        },
        "02926ffc6fe844f5a6ccd31e39e1860e": {
          "model_module": "@jupyter-widgets/controls",
          "model_name": "FloatProgressModel",
          "model_module_version": "1.5.0",
          "state": {
            "_dom_classes": [],
            "_model_module": "@jupyter-widgets/controls",
            "_model_module_version": "1.5.0",
            "_model_name": "FloatProgressModel",
            "_view_count": null,
            "_view_module": "@jupyter-widgets/controls",
            "_view_module_version": "1.5.0",
            "_view_name": "ProgressView",
            "bar_style": "success",
            "description": "",
            "description_tooltip": null,
            "layout": "IPY_MODEL_93087d9c6bce4ae6a3f78ea1f3a17d27",
            "max": 20470363,
            "min": 0,
            "orientation": "horizontal",
            "style": "IPY_MODEL_36a6290e1ee447b3b745578cad107958",
            "value": 20470363
          }
        },
        "1ccaae4e713f480eb1aa01d868de5177": {
          "model_module": "@jupyter-widgets/controls",
          "model_name": "HTMLModel",
          "model_module_version": "1.5.0",
          "state": {
            "_dom_classes": [],
            "_model_module": "@jupyter-widgets/controls",
            "_model_module_version": "1.5.0",
            "_model_name": "HTMLModel",
            "_view_count": null,
            "_view_module": "@jupyter-widgets/controls",
            "_view_module_version": "1.5.0",
            "_view_name": "HTMLView",
            "description": "",
            "description_tooltip": null,
            "layout": "IPY_MODEL_3ecc6eb7ac814c518acf1a7d1b340033",
            "placeholder": "​",
            "style": "IPY_MODEL_6881cb1c2c0d4d8e9a3e7d8bde85638e",
            "value": " 20.5M/20.5M [00:00&lt;00:00, 83.5MB/s]"
          }
        },
        "d47398db44df49bba2bfb5793095d302": {
          "model_module": "@jupyter-widgets/base",
          "model_name": "LayoutModel",
          "model_module_version": "1.2.0",
          "state": {
            "_model_module": "@jupyter-widgets/base",
            "_model_module_version": "1.2.0",
            "_model_name": "LayoutModel",
            "_view_count": null,
            "_view_module": "@jupyter-widgets/base",
            "_view_module_version": "1.2.0",
            "_view_name": "LayoutView",
            "align_content": null,
            "align_items": null,
            "align_self": null,
            "border": null,
            "bottom": null,
            "display": null,
            "flex": null,
            "flex_flow": null,
            "grid_area": null,
            "grid_auto_columns": null,
            "grid_auto_flow": null,
            "grid_auto_rows": null,
            "grid_column": null,
            "grid_gap": null,
            "grid_row": null,
            "grid_template_areas": null,
            "grid_template_columns": null,
            "grid_template_rows": null,
            "height": null,
            "justify_content": null,
            "justify_items": null,
            "left": null,
            "margin": null,
            "max_height": null,
            "max_width": null,
            "min_height": null,
            "min_width": null,
            "object_fit": null,
            "object_position": null,
            "order": null,
            "overflow": null,
            "overflow_x": null,
            "overflow_y": null,
            "padding": null,
            "right": null,
            "top": null,
            "visibility": null,
            "width": null
          }
        },
        "db1c861d02234312be19c169c6c4e08d": {
          "model_module": "@jupyter-widgets/base",
          "model_name": "LayoutModel",
          "model_module_version": "1.2.0",
          "state": {
            "_model_module": "@jupyter-widgets/base",
            "_model_module_version": "1.2.0",
            "_model_name": "LayoutModel",
            "_view_count": null,
            "_view_module": "@jupyter-widgets/base",
            "_view_module_version": "1.2.0",
            "_view_name": "LayoutView",
            "align_content": null,
            "align_items": null,
            "align_self": null,
            "border": null,
            "bottom": null,
            "display": null,
            "flex": null,
            "flex_flow": null,
            "grid_area": null,
            "grid_auto_columns": null,
            "grid_auto_flow": null,
            "grid_auto_rows": null,
            "grid_column": null,
            "grid_gap": null,
            "grid_row": null,
            "grid_template_areas": null,
            "grid_template_columns": null,
            "grid_template_rows": null,
            "height": null,
            "justify_content": null,
            "justify_items": null,
            "left": null,
            "margin": null,
            "max_height": null,
            "max_width": null,
            "min_height": null,
            "min_width": null,
            "object_fit": null,
            "object_position": null,
            "order": null,
            "overflow": null,
            "overflow_x": null,
            "overflow_y": null,
            "padding": null,
            "right": null,
            "top": null,
            "visibility": null,
            "width": null
          }
        },
        "aa22d328f0f94e8782bcd1b1c7a1b2c6": {
          "model_module": "@jupyter-widgets/controls",
          "model_name": "DescriptionStyleModel",
          "model_module_version": "1.5.0",
          "state": {
            "_model_module": "@jupyter-widgets/controls",
            "_model_module_version": "1.5.0",
            "_model_name": "DescriptionStyleModel",
            "_view_count": null,
            "_view_module": "@jupyter-widgets/base",
            "_view_module_version": "1.2.0",
            "_view_name": "StyleView",
            "description_width": ""
          }
        },
        "93087d9c6bce4ae6a3f78ea1f3a17d27": {
          "model_module": "@jupyter-widgets/base",
          "model_name": "LayoutModel",
          "model_module_version": "1.2.0",
          "state": {
            "_model_module": "@jupyter-widgets/base",
            "_model_module_version": "1.2.0",
            "_model_name": "LayoutModel",
            "_view_count": null,
            "_view_module": "@jupyter-widgets/base",
            "_view_module_version": "1.2.0",
            "_view_name": "LayoutView",
            "align_content": null,
            "align_items": null,
            "align_self": null,
            "border": null,
            "bottom": null,
            "display": null,
            "flex": null,
            "flex_flow": null,
            "grid_area": null,
            "grid_auto_columns": null,
            "grid_auto_flow": null,
            "grid_auto_rows": null,
            "grid_column": null,
            "grid_gap": null,
            "grid_row": null,
            "grid_template_areas": null,
            "grid_template_columns": null,
            "grid_template_rows": null,
            "height": null,
            "justify_content": null,
            "justify_items": null,
            "left": null,
            "margin": null,
            "max_height": null,
            "max_width": null,
            "min_height": null,
            "min_width": null,
            "object_fit": null,
            "object_position": null,
            "order": null,
            "overflow": null,
            "overflow_x": null,
            "overflow_y": null,
            "padding": null,
            "right": null,
            "top": null,
            "visibility": null,
            "width": null
          }
        },
        "36a6290e1ee447b3b745578cad107958": {
          "model_module": "@jupyter-widgets/controls",
          "model_name": "ProgressStyleModel",
          "model_module_version": "1.5.0",
          "state": {
            "_model_module": "@jupyter-widgets/controls",
            "_model_module_version": "1.5.0",
            "_model_name": "ProgressStyleModel",
            "_view_count": null,
            "_view_module": "@jupyter-widgets/base",
            "_view_module_version": "1.2.0",
            "_view_name": "StyleView",
            "bar_color": null,
            "description_width": ""
          }
        },
        "3ecc6eb7ac814c518acf1a7d1b340033": {
          "model_module": "@jupyter-widgets/base",
          "model_name": "LayoutModel",
          "model_module_version": "1.2.0",
          "state": {
            "_model_module": "@jupyter-widgets/base",
            "_model_module_version": "1.2.0",
            "_model_name": "LayoutModel",
            "_view_count": null,
            "_view_module": "@jupyter-widgets/base",
            "_view_module_version": "1.2.0",
            "_view_name": "LayoutView",
            "align_content": null,
            "align_items": null,
            "align_self": null,
            "border": null,
            "bottom": null,
            "display": null,
            "flex": null,
            "flex_flow": null,
            "grid_area": null,
            "grid_auto_columns": null,
            "grid_auto_flow": null,
            "grid_auto_rows": null,
            "grid_column": null,
            "grid_gap": null,
            "grid_row": null,
            "grid_template_areas": null,
            "grid_template_columns": null,
            "grid_template_rows": null,
            "height": null,
            "justify_content": null,
            "justify_items": null,
            "left": null,
            "margin": null,
            "max_height": null,
            "max_width": null,
            "min_height": null,
            "min_width": null,
            "object_fit": null,
            "object_position": null,
            "order": null,
            "overflow": null,
            "overflow_x": null,
            "overflow_y": null,
            "padding": null,
            "right": null,
            "top": null,
            "visibility": null,
            "width": null
          }
        },
        "6881cb1c2c0d4d8e9a3e7d8bde85638e": {
          "model_module": "@jupyter-widgets/controls",
          "model_name": "DescriptionStyleModel",
          "model_module_version": "1.5.0",
          "state": {
            "_model_module": "@jupyter-widgets/controls",
            "_model_module_version": "1.5.0",
            "_model_name": "DescriptionStyleModel",
            "_view_count": null,
            "_view_module": "@jupyter-widgets/base",
            "_view_module_version": "1.2.0",
            "_view_name": "StyleView",
            "description_width": ""
          }
        },
        "d26ec0d77d8d4a04ba040a960940c7bb": {
          "model_module": "@jupyter-widgets/controls",
          "model_name": "HBoxModel",
          "model_module_version": "1.5.0",
          "state": {
            "_dom_classes": [],
            "_model_module": "@jupyter-widgets/controls",
            "_model_module_version": "1.5.0",
            "_model_name": "HBoxModel",
            "_view_count": null,
            "_view_module": "@jupyter-widgets/controls",
            "_view_module_version": "1.5.0",
            "_view_name": "HBoxView",
            "box_style": "",
            "children": [
              "IPY_MODEL_13e4db3f464846b389ae38315832c980",
              "IPY_MODEL_a4ceef7219d74899a6d1d085ba6d09e4",
              "IPY_MODEL_e6e864dcccf741fc8dbc23ce2ef49a95"
            ],
            "layout": "IPY_MODEL_2b4111bf80cf458392ce9a925bb91937"
          }
        },
        "13e4db3f464846b389ae38315832c980": {
          "model_module": "@jupyter-widgets/controls",
          "model_name": "HTMLModel",
          "model_module_version": "1.5.0",
          "state": {
            "_dom_classes": [],
            "_model_module": "@jupyter-widgets/controls",
            "_model_module_version": "1.5.0",
            "_model_name": "HTMLModel",
            "_view_count": null,
            "_view_module": "@jupyter-widgets/controls",
            "_view_module_version": "1.5.0",
            "_view_name": "HTMLView",
            "description": "",
            "description_tooltip": null,
            "layout": "IPY_MODEL_62ae19af969e473ea4c74e80cc09cbc4",
            "placeholder": "​",
            "style": "IPY_MODEL_a9cc8f5b40d2497e9013d7fc8b966db6",
            "value": "unsupervised-00000-of-00001.parquet: 100%"
          }
        },
        "a4ceef7219d74899a6d1d085ba6d09e4": {
          "model_module": "@jupyter-widgets/controls",
          "model_name": "FloatProgressModel",
          "model_module_version": "1.5.0",
          "state": {
            "_dom_classes": [],
            "_model_module": "@jupyter-widgets/controls",
            "_model_module_version": "1.5.0",
            "_model_name": "FloatProgressModel",
            "_view_count": null,
            "_view_module": "@jupyter-widgets/controls",
            "_view_module_version": "1.5.0",
            "_view_name": "ProgressView",
            "bar_style": "success",
            "description": "",
            "description_tooltip": null,
            "layout": "IPY_MODEL_91356ac4454b4248b55f32b02a8c3e30",
            "max": 41996509,
            "min": 0,
            "orientation": "horizontal",
            "style": "IPY_MODEL_3eb833dd29c14b14b198411b8f3e5c49",
            "value": 41996509
          }
        },
        "e6e864dcccf741fc8dbc23ce2ef49a95": {
          "model_module": "@jupyter-widgets/controls",
          "model_name": "HTMLModel",
          "model_module_version": "1.5.0",
          "state": {
            "_dom_classes": [],
            "_model_module": "@jupyter-widgets/controls",
            "_model_module_version": "1.5.0",
            "_model_name": "HTMLModel",
            "_view_count": null,
            "_view_module": "@jupyter-widgets/controls",
            "_view_module_version": "1.5.0",
            "_view_name": "HTMLView",
            "description": "",
            "description_tooltip": null,
            "layout": "IPY_MODEL_e9cbf1772dfe47c4916a54f4bd4d336a",
            "placeholder": "​",
            "style": "IPY_MODEL_dddaf441dbb94731ad968c626533453a",
            "value": " 42.0M/42.0M [00:00&lt;00:00, 188MB/s]"
          }
        },
        "2b4111bf80cf458392ce9a925bb91937": {
          "model_module": "@jupyter-widgets/base",
          "model_name": "LayoutModel",
          "model_module_version": "1.2.0",
          "state": {
            "_model_module": "@jupyter-widgets/base",
            "_model_module_version": "1.2.0",
            "_model_name": "LayoutModel",
            "_view_count": null,
            "_view_module": "@jupyter-widgets/base",
            "_view_module_version": "1.2.0",
            "_view_name": "LayoutView",
            "align_content": null,
            "align_items": null,
            "align_self": null,
            "border": null,
            "bottom": null,
            "display": null,
            "flex": null,
            "flex_flow": null,
            "grid_area": null,
            "grid_auto_columns": null,
            "grid_auto_flow": null,
            "grid_auto_rows": null,
            "grid_column": null,
            "grid_gap": null,
            "grid_row": null,
            "grid_template_areas": null,
            "grid_template_columns": null,
            "grid_template_rows": null,
            "height": null,
            "justify_content": null,
            "justify_items": null,
            "left": null,
            "margin": null,
            "max_height": null,
            "max_width": null,
            "min_height": null,
            "min_width": null,
            "object_fit": null,
            "object_position": null,
            "order": null,
            "overflow": null,
            "overflow_x": null,
            "overflow_y": null,
            "padding": null,
            "right": null,
            "top": null,
            "visibility": null,
            "width": null
          }
        },
        "62ae19af969e473ea4c74e80cc09cbc4": {
          "model_module": "@jupyter-widgets/base",
          "model_name": "LayoutModel",
          "model_module_version": "1.2.0",
          "state": {
            "_model_module": "@jupyter-widgets/base",
            "_model_module_version": "1.2.0",
            "_model_name": "LayoutModel",
            "_view_count": null,
            "_view_module": "@jupyter-widgets/base",
            "_view_module_version": "1.2.0",
            "_view_name": "LayoutView",
            "align_content": null,
            "align_items": null,
            "align_self": null,
            "border": null,
            "bottom": null,
            "display": null,
            "flex": null,
            "flex_flow": null,
            "grid_area": null,
            "grid_auto_columns": null,
            "grid_auto_flow": null,
            "grid_auto_rows": null,
            "grid_column": null,
            "grid_gap": null,
            "grid_row": null,
            "grid_template_areas": null,
            "grid_template_columns": null,
            "grid_template_rows": null,
            "height": null,
            "justify_content": null,
            "justify_items": null,
            "left": null,
            "margin": null,
            "max_height": null,
            "max_width": null,
            "min_height": null,
            "min_width": null,
            "object_fit": null,
            "object_position": null,
            "order": null,
            "overflow": null,
            "overflow_x": null,
            "overflow_y": null,
            "padding": null,
            "right": null,
            "top": null,
            "visibility": null,
            "width": null
          }
        },
        "a9cc8f5b40d2497e9013d7fc8b966db6": {
          "model_module": "@jupyter-widgets/controls",
          "model_name": "DescriptionStyleModel",
          "model_module_version": "1.5.0",
          "state": {
            "_model_module": "@jupyter-widgets/controls",
            "_model_module_version": "1.5.0",
            "_model_name": "DescriptionStyleModel",
            "_view_count": null,
            "_view_module": "@jupyter-widgets/base",
            "_view_module_version": "1.2.0",
            "_view_name": "StyleView",
            "description_width": ""
          }
        },
        "91356ac4454b4248b55f32b02a8c3e30": {
          "model_module": "@jupyter-widgets/base",
          "model_name": "LayoutModel",
          "model_module_version": "1.2.0",
          "state": {
            "_model_module": "@jupyter-widgets/base",
            "_model_module_version": "1.2.0",
            "_model_name": "LayoutModel",
            "_view_count": null,
            "_view_module": "@jupyter-widgets/base",
            "_view_module_version": "1.2.0",
            "_view_name": "LayoutView",
            "align_content": null,
            "align_items": null,
            "align_self": null,
            "border": null,
            "bottom": null,
            "display": null,
            "flex": null,
            "flex_flow": null,
            "grid_area": null,
            "grid_auto_columns": null,
            "grid_auto_flow": null,
            "grid_auto_rows": null,
            "grid_column": null,
            "grid_gap": null,
            "grid_row": null,
            "grid_template_areas": null,
            "grid_template_columns": null,
            "grid_template_rows": null,
            "height": null,
            "justify_content": null,
            "justify_items": null,
            "left": null,
            "margin": null,
            "max_height": null,
            "max_width": null,
            "min_height": null,
            "min_width": null,
            "object_fit": null,
            "object_position": null,
            "order": null,
            "overflow": null,
            "overflow_x": null,
            "overflow_y": null,
            "padding": null,
            "right": null,
            "top": null,
            "visibility": null,
            "width": null
          }
        },
        "3eb833dd29c14b14b198411b8f3e5c49": {
          "model_module": "@jupyter-widgets/controls",
          "model_name": "ProgressStyleModel",
          "model_module_version": "1.5.0",
          "state": {
            "_model_module": "@jupyter-widgets/controls",
            "_model_module_version": "1.5.0",
            "_model_name": "ProgressStyleModel",
            "_view_count": null,
            "_view_module": "@jupyter-widgets/base",
            "_view_module_version": "1.2.0",
            "_view_name": "StyleView",
            "bar_color": null,
            "description_width": ""
          }
        },
        "e9cbf1772dfe47c4916a54f4bd4d336a": {
          "model_module": "@jupyter-widgets/base",
          "model_name": "LayoutModel",
          "model_module_version": "1.2.0",
          "state": {
            "_model_module": "@jupyter-widgets/base",
            "_model_module_version": "1.2.0",
            "_model_name": "LayoutModel",
            "_view_count": null,
            "_view_module": "@jupyter-widgets/base",
            "_view_module_version": "1.2.0",
            "_view_name": "LayoutView",
            "align_content": null,
            "align_items": null,
            "align_self": null,
            "border": null,
            "bottom": null,
            "display": null,
            "flex": null,
            "flex_flow": null,
            "grid_area": null,
            "grid_auto_columns": null,
            "grid_auto_flow": null,
            "grid_auto_rows": null,
            "grid_column": null,
            "grid_gap": null,
            "grid_row": null,
            "grid_template_areas": null,
            "grid_template_columns": null,
            "grid_template_rows": null,
            "height": null,
            "justify_content": null,
            "justify_items": null,
            "left": null,
            "margin": null,
            "max_height": null,
            "max_width": null,
            "min_height": null,
            "min_width": null,
            "object_fit": null,
            "object_position": null,
            "order": null,
            "overflow": null,
            "overflow_x": null,
            "overflow_y": null,
            "padding": null,
            "right": null,
            "top": null,
            "visibility": null,
            "width": null
          }
        },
        "dddaf441dbb94731ad968c626533453a": {
          "model_module": "@jupyter-widgets/controls",
          "model_name": "DescriptionStyleModel",
          "model_module_version": "1.5.0",
          "state": {
            "_model_module": "@jupyter-widgets/controls",
            "_model_module_version": "1.5.0",
            "_model_name": "DescriptionStyleModel",
            "_view_count": null,
            "_view_module": "@jupyter-widgets/base",
            "_view_module_version": "1.2.0",
            "_view_name": "StyleView",
            "description_width": ""
          }
        },
        "c2158b69ffad4439b1ce663553bc24aa": {
          "model_module": "@jupyter-widgets/controls",
          "model_name": "HBoxModel",
          "model_module_version": "1.5.0",
          "state": {
            "_dom_classes": [],
            "_model_module": "@jupyter-widgets/controls",
            "_model_module_version": "1.5.0",
            "_model_name": "HBoxModel",
            "_view_count": null,
            "_view_module": "@jupyter-widgets/controls",
            "_view_module_version": "1.5.0",
            "_view_name": "HBoxView",
            "box_style": "",
            "children": [
              "IPY_MODEL_41bf5777bbfe48f2bb80d261d7f0a273",
              "IPY_MODEL_64d610b5912a445ab609f17c662f4e1f",
              "IPY_MODEL_cef62665867c44e4a3a53c196e7ad08c"
            ],
            "layout": "IPY_MODEL_5ae34ee0b7cb4571bad07a9ddce9707c"
          }
        },
        "41bf5777bbfe48f2bb80d261d7f0a273": {
          "model_module": "@jupyter-widgets/controls",
          "model_name": "HTMLModel",
          "model_module_version": "1.5.0",
          "state": {
            "_dom_classes": [],
            "_model_module": "@jupyter-widgets/controls",
            "_model_module_version": "1.5.0",
            "_model_name": "HTMLModel",
            "_view_count": null,
            "_view_module": "@jupyter-widgets/controls",
            "_view_module_version": "1.5.0",
            "_view_name": "HTMLView",
            "description": "",
            "description_tooltip": null,
            "layout": "IPY_MODEL_a49ce304794e44a4a1d94a05c6df7ab3",
            "placeholder": "​",
            "style": "IPY_MODEL_b75c41d552774daca9614a56328dddd8",
            "value": "Generating train split: 100%"
          }
        },
        "64d610b5912a445ab609f17c662f4e1f": {
          "model_module": "@jupyter-widgets/controls",
          "model_name": "FloatProgressModel",
          "model_module_version": "1.5.0",
          "state": {
            "_dom_classes": [],
            "_model_module": "@jupyter-widgets/controls",
            "_model_module_version": "1.5.0",
            "_model_name": "FloatProgressModel",
            "_view_count": null,
            "_view_module": "@jupyter-widgets/controls",
            "_view_module_version": "1.5.0",
            "_view_name": "ProgressView",
            "bar_style": "success",
            "description": "",
            "description_tooltip": null,
            "layout": "IPY_MODEL_31df007be9d84fab82f4577620af27b7",
            "max": 25000,
            "min": 0,
            "orientation": "horizontal",
            "style": "IPY_MODEL_890b06ad13fc4958a43648a9071dfbe6",
            "value": 25000
          }
        },
        "cef62665867c44e4a3a53c196e7ad08c": {
          "model_module": "@jupyter-widgets/controls",
          "model_name": "HTMLModel",
          "model_module_version": "1.5.0",
          "state": {
            "_dom_classes": [],
            "_model_module": "@jupyter-widgets/controls",
            "_model_module_version": "1.5.0",
            "_model_name": "HTMLModel",
            "_view_count": null,
            "_view_module": "@jupyter-widgets/controls",
            "_view_module_version": "1.5.0",
            "_view_name": "HTMLView",
            "description": "",
            "description_tooltip": null,
            "layout": "IPY_MODEL_a4729d3d12504c8c98e60ba25140260d",
            "placeholder": "​",
            "style": "IPY_MODEL_d8618ac6260e46cfa5c65f6d2126e4bb",
            "value": " 25000/25000 [00:00&lt;00:00, 80580.65 examples/s]"
          }
        },
        "5ae34ee0b7cb4571bad07a9ddce9707c": {
          "model_module": "@jupyter-widgets/base",
          "model_name": "LayoutModel",
          "model_module_version": "1.2.0",
          "state": {
            "_model_module": "@jupyter-widgets/base",
            "_model_module_version": "1.2.0",
            "_model_name": "LayoutModel",
            "_view_count": null,
            "_view_module": "@jupyter-widgets/base",
            "_view_module_version": "1.2.0",
            "_view_name": "LayoutView",
            "align_content": null,
            "align_items": null,
            "align_self": null,
            "border": null,
            "bottom": null,
            "display": null,
            "flex": null,
            "flex_flow": null,
            "grid_area": null,
            "grid_auto_columns": null,
            "grid_auto_flow": null,
            "grid_auto_rows": null,
            "grid_column": null,
            "grid_gap": null,
            "grid_row": null,
            "grid_template_areas": null,
            "grid_template_columns": null,
            "grid_template_rows": null,
            "height": null,
            "justify_content": null,
            "justify_items": null,
            "left": null,
            "margin": null,
            "max_height": null,
            "max_width": null,
            "min_height": null,
            "min_width": null,
            "object_fit": null,
            "object_position": null,
            "order": null,
            "overflow": null,
            "overflow_x": null,
            "overflow_y": null,
            "padding": null,
            "right": null,
            "top": null,
            "visibility": null,
            "width": null
          }
        },
        "a49ce304794e44a4a1d94a05c6df7ab3": {
          "model_module": "@jupyter-widgets/base",
          "model_name": "LayoutModel",
          "model_module_version": "1.2.0",
          "state": {
            "_model_module": "@jupyter-widgets/base",
            "_model_module_version": "1.2.0",
            "_model_name": "LayoutModel",
            "_view_count": null,
            "_view_module": "@jupyter-widgets/base",
            "_view_module_version": "1.2.0",
            "_view_name": "LayoutView",
            "align_content": null,
            "align_items": null,
            "align_self": null,
            "border": null,
            "bottom": null,
            "display": null,
            "flex": null,
            "flex_flow": null,
            "grid_area": null,
            "grid_auto_columns": null,
            "grid_auto_flow": null,
            "grid_auto_rows": null,
            "grid_column": null,
            "grid_gap": null,
            "grid_row": null,
            "grid_template_areas": null,
            "grid_template_columns": null,
            "grid_template_rows": null,
            "height": null,
            "justify_content": null,
            "justify_items": null,
            "left": null,
            "margin": null,
            "max_height": null,
            "max_width": null,
            "min_height": null,
            "min_width": null,
            "object_fit": null,
            "object_position": null,
            "order": null,
            "overflow": null,
            "overflow_x": null,
            "overflow_y": null,
            "padding": null,
            "right": null,
            "top": null,
            "visibility": null,
            "width": null
          }
        },
        "b75c41d552774daca9614a56328dddd8": {
          "model_module": "@jupyter-widgets/controls",
          "model_name": "DescriptionStyleModel",
          "model_module_version": "1.5.0",
          "state": {
            "_model_module": "@jupyter-widgets/controls",
            "_model_module_version": "1.5.0",
            "_model_name": "DescriptionStyleModel",
            "_view_count": null,
            "_view_module": "@jupyter-widgets/base",
            "_view_module_version": "1.2.0",
            "_view_name": "StyleView",
            "description_width": ""
          }
        },
        "31df007be9d84fab82f4577620af27b7": {
          "model_module": "@jupyter-widgets/base",
          "model_name": "LayoutModel",
          "model_module_version": "1.2.0",
          "state": {
            "_model_module": "@jupyter-widgets/base",
            "_model_module_version": "1.2.0",
            "_model_name": "LayoutModel",
            "_view_count": null,
            "_view_module": "@jupyter-widgets/base",
            "_view_module_version": "1.2.0",
            "_view_name": "LayoutView",
            "align_content": null,
            "align_items": null,
            "align_self": null,
            "border": null,
            "bottom": null,
            "display": null,
            "flex": null,
            "flex_flow": null,
            "grid_area": null,
            "grid_auto_columns": null,
            "grid_auto_flow": null,
            "grid_auto_rows": null,
            "grid_column": null,
            "grid_gap": null,
            "grid_row": null,
            "grid_template_areas": null,
            "grid_template_columns": null,
            "grid_template_rows": null,
            "height": null,
            "justify_content": null,
            "justify_items": null,
            "left": null,
            "margin": null,
            "max_height": null,
            "max_width": null,
            "min_height": null,
            "min_width": null,
            "object_fit": null,
            "object_position": null,
            "order": null,
            "overflow": null,
            "overflow_x": null,
            "overflow_y": null,
            "padding": null,
            "right": null,
            "top": null,
            "visibility": null,
            "width": null
          }
        },
        "890b06ad13fc4958a43648a9071dfbe6": {
          "model_module": "@jupyter-widgets/controls",
          "model_name": "ProgressStyleModel",
          "model_module_version": "1.5.0",
          "state": {
            "_model_module": "@jupyter-widgets/controls",
            "_model_module_version": "1.5.0",
            "_model_name": "ProgressStyleModel",
            "_view_count": null,
            "_view_module": "@jupyter-widgets/base",
            "_view_module_version": "1.2.0",
            "_view_name": "StyleView",
            "bar_color": null,
            "description_width": ""
          }
        },
        "a4729d3d12504c8c98e60ba25140260d": {
          "model_module": "@jupyter-widgets/base",
          "model_name": "LayoutModel",
          "model_module_version": "1.2.0",
          "state": {
            "_model_module": "@jupyter-widgets/base",
            "_model_module_version": "1.2.0",
            "_model_name": "LayoutModel",
            "_view_count": null,
            "_view_module": "@jupyter-widgets/base",
            "_view_module_version": "1.2.0",
            "_view_name": "LayoutView",
            "align_content": null,
            "align_items": null,
            "align_self": null,
            "border": null,
            "bottom": null,
            "display": null,
            "flex": null,
            "flex_flow": null,
            "grid_area": null,
            "grid_auto_columns": null,
            "grid_auto_flow": null,
            "grid_auto_rows": null,
            "grid_column": null,
            "grid_gap": null,
            "grid_row": null,
            "grid_template_areas": null,
            "grid_template_columns": null,
            "grid_template_rows": null,
            "height": null,
            "justify_content": null,
            "justify_items": null,
            "left": null,
            "margin": null,
            "max_height": null,
            "max_width": null,
            "min_height": null,
            "min_width": null,
            "object_fit": null,
            "object_position": null,
            "order": null,
            "overflow": null,
            "overflow_x": null,
            "overflow_y": null,
            "padding": null,
            "right": null,
            "top": null,
            "visibility": null,
            "width": null
          }
        },
        "d8618ac6260e46cfa5c65f6d2126e4bb": {
          "model_module": "@jupyter-widgets/controls",
          "model_name": "DescriptionStyleModel",
          "model_module_version": "1.5.0",
          "state": {
            "_model_module": "@jupyter-widgets/controls",
            "_model_module_version": "1.5.0",
            "_model_name": "DescriptionStyleModel",
            "_view_count": null,
            "_view_module": "@jupyter-widgets/base",
            "_view_module_version": "1.2.0",
            "_view_name": "StyleView",
            "description_width": ""
          }
        },
        "1ffa08796c4242c99e98e770294262b7": {
          "model_module": "@jupyter-widgets/controls",
          "model_name": "HBoxModel",
          "model_module_version": "1.5.0",
          "state": {
            "_dom_classes": [],
            "_model_module": "@jupyter-widgets/controls",
            "_model_module_version": "1.5.0",
            "_model_name": "HBoxModel",
            "_view_count": null,
            "_view_module": "@jupyter-widgets/controls",
            "_view_module_version": "1.5.0",
            "_view_name": "HBoxView",
            "box_style": "",
            "children": [
              "IPY_MODEL_a39fc1a7af7941928a433daf7b0643aa",
              "IPY_MODEL_27e0a478d83b4f7abb85b432a3443c38",
              "IPY_MODEL_73de378024f449639798230fd752f86f"
            ],
            "layout": "IPY_MODEL_c3a166fe38c842a493f6c4060c485d8d"
          }
        },
        "a39fc1a7af7941928a433daf7b0643aa": {
          "model_module": "@jupyter-widgets/controls",
          "model_name": "HTMLModel",
          "model_module_version": "1.5.0",
          "state": {
            "_dom_classes": [],
            "_model_module": "@jupyter-widgets/controls",
            "_model_module_version": "1.5.0",
            "_model_name": "HTMLModel",
            "_view_count": null,
            "_view_module": "@jupyter-widgets/controls",
            "_view_module_version": "1.5.0",
            "_view_name": "HTMLView",
            "description": "",
            "description_tooltip": null,
            "layout": "IPY_MODEL_87648c8572764f7ca278d60d3279ac7c",
            "placeholder": "​",
            "style": "IPY_MODEL_a531fbb33a1b4891ad91790e45ef43a5",
            "value": "Generating test split: 100%"
          }
        },
        "27e0a478d83b4f7abb85b432a3443c38": {
          "model_module": "@jupyter-widgets/controls",
          "model_name": "FloatProgressModel",
          "model_module_version": "1.5.0",
          "state": {
            "_dom_classes": [],
            "_model_module": "@jupyter-widgets/controls",
            "_model_module_version": "1.5.0",
            "_model_name": "FloatProgressModel",
            "_view_count": null,
            "_view_module": "@jupyter-widgets/controls",
            "_view_module_version": "1.5.0",
            "_view_name": "ProgressView",
            "bar_style": "success",
            "description": "",
            "description_tooltip": null,
            "layout": "IPY_MODEL_1f42bee42a1f4d62b7c9ac9e70cbef4b",
            "max": 25000,
            "min": 0,
            "orientation": "horizontal",
            "style": "IPY_MODEL_a387cb2ef1ff461f90e2d0de2de65365",
            "value": 25000
          }
        },
        "73de378024f449639798230fd752f86f": {
          "model_module": "@jupyter-widgets/controls",
          "model_name": "HTMLModel",
          "model_module_version": "1.5.0",
          "state": {
            "_dom_classes": [],
            "_model_module": "@jupyter-widgets/controls",
            "_model_module_version": "1.5.0",
            "_model_name": "HTMLModel",
            "_view_count": null,
            "_view_module": "@jupyter-widgets/controls",
            "_view_module_version": "1.5.0",
            "_view_name": "HTMLView",
            "description": "",
            "description_tooltip": null,
            "layout": "IPY_MODEL_658a3182c1014dc4a15dcc34dcd1d35b",
            "placeholder": "​",
            "style": "IPY_MODEL_f3aa5fa8869d4042a4e5a9d4843d43a9",
            "value": " 25000/25000 [00:00&lt;00:00, 88164.50 examples/s]"
          }
        },
        "c3a166fe38c842a493f6c4060c485d8d": {
          "model_module": "@jupyter-widgets/base",
          "model_name": "LayoutModel",
          "model_module_version": "1.2.0",
          "state": {
            "_model_module": "@jupyter-widgets/base",
            "_model_module_version": "1.2.0",
            "_model_name": "LayoutModel",
            "_view_count": null,
            "_view_module": "@jupyter-widgets/base",
            "_view_module_version": "1.2.0",
            "_view_name": "LayoutView",
            "align_content": null,
            "align_items": null,
            "align_self": null,
            "border": null,
            "bottom": null,
            "display": null,
            "flex": null,
            "flex_flow": null,
            "grid_area": null,
            "grid_auto_columns": null,
            "grid_auto_flow": null,
            "grid_auto_rows": null,
            "grid_column": null,
            "grid_gap": null,
            "grid_row": null,
            "grid_template_areas": null,
            "grid_template_columns": null,
            "grid_template_rows": null,
            "height": null,
            "justify_content": null,
            "justify_items": null,
            "left": null,
            "margin": null,
            "max_height": null,
            "max_width": null,
            "min_height": null,
            "min_width": null,
            "object_fit": null,
            "object_position": null,
            "order": null,
            "overflow": null,
            "overflow_x": null,
            "overflow_y": null,
            "padding": null,
            "right": null,
            "top": null,
            "visibility": null,
            "width": null
          }
        },
        "87648c8572764f7ca278d60d3279ac7c": {
          "model_module": "@jupyter-widgets/base",
          "model_name": "LayoutModel",
          "model_module_version": "1.2.0",
          "state": {
            "_model_module": "@jupyter-widgets/base",
            "_model_module_version": "1.2.0",
            "_model_name": "LayoutModel",
            "_view_count": null,
            "_view_module": "@jupyter-widgets/base",
            "_view_module_version": "1.2.0",
            "_view_name": "LayoutView",
            "align_content": null,
            "align_items": null,
            "align_self": null,
            "border": null,
            "bottom": null,
            "display": null,
            "flex": null,
            "flex_flow": null,
            "grid_area": null,
            "grid_auto_columns": null,
            "grid_auto_flow": null,
            "grid_auto_rows": null,
            "grid_column": null,
            "grid_gap": null,
            "grid_row": null,
            "grid_template_areas": null,
            "grid_template_columns": null,
            "grid_template_rows": null,
            "height": null,
            "justify_content": null,
            "justify_items": null,
            "left": null,
            "margin": null,
            "max_height": null,
            "max_width": null,
            "min_height": null,
            "min_width": null,
            "object_fit": null,
            "object_position": null,
            "order": null,
            "overflow": null,
            "overflow_x": null,
            "overflow_y": null,
            "padding": null,
            "right": null,
            "top": null,
            "visibility": null,
            "width": null
          }
        },
        "a531fbb33a1b4891ad91790e45ef43a5": {
          "model_module": "@jupyter-widgets/controls",
          "model_name": "DescriptionStyleModel",
          "model_module_version": "1.5.0",
          "state": {
            "_model_module": "@jupyter-widgets/controls",
            "_model_module_version": "1.5.0",
            "_model_name": "DescriptionStyleModel",
            "_view_count": null,
            "_view_module": "@jupyter-widgets/base",
            "_view_module_version": "1.2.0",
            "_view_name": "StyleView",
            "description_width": ""
          }
        },
        "1f42bee42a1f4d62b7c9ac9e70cbef4b": {
          "model_module": "@jupyter-widgets/base",
          "model_name": "LayoutModel",
          "model_module_version": "1.2.0",
          "state": {
            "_model_module": "@jupyter-widgets/base",
            "_model_module_version": "1.2.0",
            "_model_name": "LayoutModel",
            "_view_count": null,
            "_view_module": "@jupyter-widgets/base",
            "_view_module_version": "1.2.0",
            "_view_name": "LayoutView",
            "align_content": null,
            "align_items": null,
            "align_self": null,
            "border": null,
            "bottom": null,
            "display": null,
            "flex": null,
            "flex_flow": null,
            "grid_area": null,
            "grid_auto_columns": null,
            "grid_auto_flow": null,
            "grid_auto_rows": null,
            "grid_column": null,
            "grid_gap": null,
            "grid_row": null,
            "grid_template_areas": null,
            "grid_template_columns": null,
            "grid_template_rows": null,
            "height": null,
            "justify_content": null,
            "justify_items": null,
            "left": null,
            "margin": null,
            "max_height": null,
            "max_width": null,
            "min_height": null,
            "min_width": null,
            "object_fit": null,
            "object_position": null,
            "order": null,
            "overflow": null,
            "overflow_x": null,
            "overflow_y": null,
            "padding": null,
            "right": null,
            "top": null,
            "visibility": null,
            "width": null
          }
        },
        "a387cb2ef1ff461f90e2d0de2de65365": {
          "model_module": "@jupyter-widgets/controls",
          "model_name": "ProgressStyleModel",
          "model_module_version": "1.5.0",
          "state": {
            "_model_module": "@jupyter-widgets/controls",
            "_model_module_version": "1.5.0",
            "_model_name": "ProgressStyleModel",
            "_view_count": null,
            "_view_module": "@jupyter-widgets/base",
            "_view_module_version": "1.2.0",
            "_view_name": "StyleView",
            "bar_color": null,
            "description_width": ""
          }
        },
        "658a3182c1014dc4a15dcc34dcd1d35b": {
          "model_module": "@jupyter-widgets/base",
          "model_name": "LayoutModel",
          "model_module_version": "1.2.0",
          "state": {
            "_model_module": "@jupyter-widgets/base",
            "_model_module_version": "1.2.0",
            "_model_name": "LayoutModel",
            "_view_count": null,
            "_view_module": "@jupyter-widgets/base",
            "_view_module_version": "1.2.0",
            "_view_name": "LayoutView",
            "align_content": null,
            "align_items": null,
            "align_self": null,
            "border": null,
            "bottom": null,
            "display": null,
            "flex": null,
            "flex_flow": null,
            "grid_area": null,
            "grid_auto_columns": null,
            "grid_auto_flow": null,
            "grid_auto_rows": null,
            "grid_column": null,
            "grid_gap": null,
            "grid_row": null,
            "grid_template_areas": null,
            "grid_template_columns": null,
            "grid_template_rows": null,
            "height": null,
            "justify_content": null,
            "justify_items": null,
            "left": null,
            "margin": null,
            "max_height": null,
            "max_width": null,
            "min_height": null,
            "min_width": null,
            "object_fit": null,
            "object_position": null,
            "order": null,
            "overflow": null,
            "overflow_x": null,
            "overflow_y": null,
            "padding": null,
            "right": null,
            "top": null,
            "visibility": null,
            "width": null
          }
        },
        "f3aa5fa8869d4042a4e5a9d4843d43a9": {
          "model_module": "@jupyter-widgets/controls",
          "model_name": "DescriptionStyleModel",
          "model_module_version": "1.5.0",
          "state": {
            "_model_module": "@jupyter-widgets/controls",
            "_model_module_version": "1.5.0",
            "_model_name": "DescriptionStyleModel",
            "_view_count": null,
            "_view_module": "@jupyter-widgets/base",
            "_view_module_version": "1.2.0",
            "_view_name": "StyleView",
            "description_width": ""
          }
        },
        "42be0a2df85644bcbd917d51ae297f9e": {
          "model_module": "@jupyter-widgets/controls",
          "model_name": "HBoxModel",
          "model_module_version": "1.5.0",
          "state": {
            "_dom_classes": [],
            "_model_module": "@jupyter-widgets/controls",
            "_model_module_version": "1.5.0",
            "_model_name": "HBoxModel",
            "_view_count": null,
            "_view_module": "@jupyter-widgets/controls",
            "_view_module_version": "1.5.0",
            "_view_name": "HBoxView",
            "box_style": "",
            "children": [
              "IPY_MODEL_1bdca14bd48e4b1987b2e917410f1653",
              "IPY_MODEL_2f060a0872a644ebbb8e9b5af7001729",
              "IPY_MODEL_ba0e8b4046134ea69a9350a353bbdbd5"
            ],
            "layout": "IPY_MODEL_1ed28d535e7f4361ab80546cbe3dcb8b"
          }
        },
        "1bdca14bd48e4b1987b2e917410f1653": {
          "model_module": "@jupyter-widgets/controls",
          "model_name": "HTMLModel",
          "model_module_version": "1.5.0",
          "state": {
            "_dom_classes": [],
            "_model_module": "@jupyter-widgets/controls",
            "_model_module_version": "1.5.0",
            "_model_name": "HTMLModel",
            "_view_count": null,
            "_view_module": "@jupyter-widgets/controls",
            "_view_module_version": "1.5.0",
            "_view_name": "HTMLView",
            "description": "",
            "description_tooltip": null,
            "layout": "IPY_MODEL_66f3012f0a9f43329744f9a5850e0967",
            "placeholder": "​",
            "style": "IPY_MODEL_9200bf81ff664a3da9cd9919f9721dba",
            "value": "Generating unsupervised split: 100%"
          }
        },
        "2f060a0872a644ebbb8e9b5af7001729": {
          "model_module": "@jupyter-widgets/controls",
          "model_name": "FloatProgressModel",
          "model_module_version": "1.5.0",
          "state": {
            "_dom_classes": [],
            "_model_module": "@jupyter-widgets/controls",
            "_model_module_version": "1.5.0",
            "_model_name": "FloatProgressModel",
            "_view_count": null,
            "_view_module": "@jupyter-widgets/controls",
            "_view_module_version": "1.5.0",
            "_view_name": "ProgressView",
            "bar_style": "success",
            "description": "",
            "description_tooltip": null,
            "layout": "IPY_MODEL_96be178b00ff4658adfc7156fbc7774a",
            "max": 50000,
            "min": 0,
            "orientation": "horizontal",
            "style": "IPY_MODEL_ac5bc7c4cb864190b68f041178d20aa6",
            "value": 50000
          }
        },
        "ba0e8b4046134ea69a9350a353bbdbd5": {
          "model_module": "@jupyter-widgets/controls",
          "model_name": "HTMLModel",
          "model_module_version": "1.5.0",
          "state": {
            "_dom_classes": [],
            "_model_module": "@jupyter-widgets/controls",
            "_model_module_version": "1.5.0",
            "_model_name": "HTMLModel",
            "_view_count": null,
            "_view_module": "@jupyter-widgets/controls",
            "_view_module_version": "1.5.0",
            "_view_name": "HTMLView",
            "description": "",
            "description_tooltip": null,
            "layout": "IPY_MODEL_40e2f78fffdd439aa73d964b25d47650",
            "placeholder": "​",
            "style": "IPY_MODEL_23d04a9788cc453f83867c2d14f7c57e",
            "value": " 50000/50000 [00:00&lt;00:00, 104160.09 examples/s]"
          }
        },
        "1ed28d535e7f4361ab80546cbe3dcb8b": {
          "model_module": "@jupyter-widgets/base",
          "model_name": "LayoutModel",
          "model_module_version": "1.2.0",
          "state": {
            "_model_module": "@jupyter-widgets/base",
            "_model_module_version": "1.2.0",
            "_model_name": "LayoutModel",
            "_view_count": null,
            "_view_module": "@jupyter-widgets/base",
            "_view_module_version": "1.2.0",
            "_view_name": "LayoutView",
            "align_content": null,
            "align_items": null,
            "align_self": null,
            "border": null,
            "bottom": null,
            "display": null,
            "flex": null,
            "flex_flow": null,
            "grid_area": null,
            "grid_auto_columns": null,
            "grid_auto_flow": null,
            "grid_auto_rows": null,
            "grid_column": null,
            "grid_gap": null,
            "grid_row": null,
            "grid_template_areas": null,
            "grid_template_columns": null,
            "grid_template_rows": null,
            "height": null,
            "justify_content": null,
            "justify_items": null,
            "left": null,
            "margin": null,
            "max_height": null,
            "max_width": null,
            "min_height": null,
            "min_width": null,
            "object_fit": null,
            "object_position": null,
            "order": null,
            "overflow": null,
            "overflow_x": null,
            "overflow_y": null,
            "padding": null,
            "right": null,
            "top": null,
            "visibility": null,
            "width": null
          }
        },
        "66f3012f0a9f43329744f9a5850e0967": {
          "model_module": "@jupyter-widgets/base",
          "model_name": "LayoutModel",
          "model_module_version": "1.2.0",
          "state": {
            "_model_module": "@jupyter-widgets/base",
            "_model_module_version": "1.2.0",
            "_model_name": "LayoutModel",
            "_view_count": null,
            "_view_module": "@jupyter-widgets/base",
            "_view_module_version": "1.2.0",
            "_view_name": "LayoutView",
            "align_content": null,
            "align_items": null,
            "align_self": null,
            "border": null,
            "bottom": null,
            "display": null,
            "flex": null,
            "flex_flow": null,
            "grid_area": null,
            "grid_auto_columns": null,
            "grid_auto_flow": null,
            "grid_auto_rows": null,
            "grid_column": null,
            "grid_gap": null,
            "grid_row": null,
            "grid_template_areas": null,
            "grid_template_columns": null,
            "grid_template_rows": null,
            "height": null,
            "justify_content": null,
            "justify_items": null,
            "left": null,
            "margin": null,
            "max_height": null,
            "max_width": null,
            "min_height": null,
            "min_width": null,
            "object_fit": null,
            "object_position": null,
            "order": null,
            "overflow": null,
            "overflow_x": null,
            "overflow_y": null,
            "padding": null,
            "right": null,
            "top": null,
            "visibility": null,
            "width": null
          }
        },
        "9200bf81ff664a3da9cd9919f9721dba": {
          "model_module": "@jupyter-widgets/controls",
          "model_name": "DescriptionStyleModel",
          "model_module_version": "1.5.0",
          "state": {
            "_model_module": "@jupyter-widgets/controls",
            "_model_module_version": "1.5.0",
            "_model_name": "DescriptionStyleModel",
            "_view_count": null,
            "_view_module": "@jupyter-widgets/base",
            "_view_module_version": "1.2.0",
            "_view_name": "StyleView",
            "description_width": ""
          }
        },
        "96be178b00ff4658adfc7156fbc7774a": {
          "model_module": "@jupyter-widgets/base",
          "model_name": "LayoutModel",
          "model_module_version": "1.2.0",
          "state": {
            "_model_module": "@jupyter-widgets/base",
            "_model_module_version": "1.2.0",
            "_model_name": "LayoutModel",
            "_view_count": null,
            "_view_module": "@jupyter-widgets/base",
            "_view_module_version": "1.2.0",
            "_view_name": "LayoutView",
            "align_content": null,
            "align_items": null,
            "align_self": null,
            "border": null,
            "bottom": null,
            "display": null,
            "flex": null,
            "flex_flow": null,
            "grid_area": null,
            "grid_auto_columns": null,
            "grid_auto_flow": null,
            "grid_auto_rows": null,
            "grid_column": null,
            "grid_gap": null,
            "grid_row": null,
            "grid_template_areas": null,
            "grid_template_columns": null,
            "grid_template_rows": null,
            "height": null,
            "justify_content": null,
            "justify_items": null,
            "left": null,
            "margin": null,
            "max_height": null,
            "max_width": null,
            "min_height": null,
            "min_width": null,
            "object_fit": null,
            "object_position": null,
            "order": null,
            "overflow": null,
            "overflow_x": null,
            "overflow_y": null,
            "padding": null,
            "right": null,
            "top": null,
            "visibility": null,
            "width": null
          }
        },
        "ac5bc7c4cb864190b68f041178d20aa6": {
          "model_module": "@jupyter-widgets/controls",
          "model_name": "ProgressStyleModel",
          "model_module_version": "1.5.0",
          "state": {
            "_model_module": "@jupyter-widgets/controls",
            "_model_module_version": "1.5.0",
            "_model_name": "ProgressStyleModel",
            "_view_count": null,
            "_view_module": "@jupyter-widgets/base",
            "_view_module_version": "1.2.0",
            "_view_name": "StyleView",
            "bar_color": null,
            "description_width": ""
          }
        },
        "40e2f78fffdd439aa73d964b25d47650": {
          "model_module": "@jupyter-widgets/base",
          "model_name": "LayoutModel",
          "model_module_version": "1.2.0",
          "state": {
            "_model_module": "@jupyter-widgets/base",
            "_model_module_version": "1.2.0",
            "_model_name": "LayoutModel",
            "_view_count": null,
            "_view_module": "@jupyter-widgets/base",
            "_view_module_version": "1.2.0",
            "_view_name": "LayoutView",
            "align_content": null,
            "align_items": null,
            "align_self": null,
            "border": null,
            "bottom": null,
            "display": null,
            "flex": null,
            "flex_flow": null,
            "grid_area": null,
            "grid_auto_columns": null,
            "grid_auto_flow": null,
            "grid_auto_rows": null,
            "grid_column": null,
            "grid_gap": null,
            "grid_row": null,
            "grid_template_areas": null,
            "grid_template_columns": null,
            "grid_template_rows": null,
            "height": null,
            "justify_content": null,
            "justify_items": null,
            "left": null,
            "margin": null,
            "max_height": null,
            "max_width": null,
            "min_height": null,
            "min_width": null,
            "object_fit": null,
            "object_position": null,
            "order": null,
            "overflow": null,
            "overflow_x": null,
            "overflow_y": null,
            "padding": null,
            "right": null,
            "top": null,
            "visibility": null,
            "width": null
          }
        },
        "23d04a9788cc453f83867c2d14f7c57e": {
          "model_module": "@jupyter-widgets/controls",
          "model_name": "DescriptionStyleModel",
          "model_module_version": "1.5.0",
          "state": {
            "_model_module": "@jupyter-widgets/controls",
            "_model_module_version": "1.5.0",
            "_model_name": "DescriptionStyleModel",
            "_view_count": null,
            "_view_module": "@jupyter-widgets/base",
            "_view_module_version": "1.2.0",
            "_view_name": "StyleView",
            "description_width": ""
          }
        }
      }
    }
  },
  "nbformat": 4,
  "nbformat_minor": 0
}